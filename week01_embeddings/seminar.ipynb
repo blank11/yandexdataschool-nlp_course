{
 "cells": [
  {
   "cell_type": "markdown",
   "metadata": {
    "colab_type": "text",
    "id": "Vq2-FFexHSON"
   },
   "source": [
    "## Seminar 1: Fun with Word Embeddings (3 points)\n",
    "\n",
    "Today we gonna play with word embeddings: train our own little embedding, load one from   gensim model zoo and use it to visualize text corpora.\n",
    "\n",
    "This whole thing is gonna happen on top of embedding dataset.\n",
    "\n",
    "__Requirements:__  `pip install --upgrade nltk gensim bokeh` , but only if you're running locally."
   ]
  },
  {
   "cell_type": "code",
   "execution_count": 1,
   "metadata": {
    "colab": {
     "base_uri": "https://localhost:8080/",
     "height": 377
    },
    "colab_type": "code",
    "id": "8WWrM_ehHSOU",
    "outputId": "0a83c2fd-cc3e-4eca-c88a-83c55aca6970"
   },
   "outputs": [
    {
     "name": "stdout",
     "output_type": "stream",
     "text": [
      "--2018-12-26 01:50:47--  https://www.dropbox.com/s/obaitrix9jyu84r/quora.txt?dl=1\n",
      "Resolving www.dropbox.com (www.dropbox.com)... 162.125.7.1, 2620:100:601a:1::a27d:701\n",
      "Connecting to www.dropbox.com (www.dropbox.com)|162.125.7.1|:443... connected.\n",
      "HTTP request sent, awaiting response... 301 Moved Permanently\n",
      "Location: /s/dl/obaitrix9jyu84r/quora.txt [following]\n",
      "--2018-12-26 01:50:47--  https://www.dropbox.com/s/dl/obaitrix9jyu84r/quora.txt\n",
      "Reusing existing connection to www.dropbox.com:443.\n",
      "HTTP request sent, awaiting response... 302 Found\n",
      "Location: https://uccd56848edf348e94abe0a88e1a.dl.dropboxusercontent.com/cd/0/get/AYIhDRUgKnMyhRY8FiwtyBesmvUGvKY1sVv_TIQvL-v3D_TixTFGqgHdh99KvsBOvnlKaCKPZQcTaOn56lE2yuEZvUZbcwLnb72v5E3uE2FjXPbNwU0krvZki8c_6AJCGVIXPq1n2Xe0GM0484IjxTHLI71wiz4jMM42PDY4196s05CFYuRZ8SQGVhnXnPVx5pI/file?dl=1 [following]\n",
      "--2018-12-26 01:50:47--  https://uccd56848edf348e94abe0a88e1a.dl.dropboxusercontent.com/cd/0/get/AYIhDRUgKnMyhRY8FiwtyBesmvUGvKY1sVv_TIQvL-v3D_TixTFGqgHdh99KvsBOvnlKaCKPZQcTaOn56lE2yuEZvUZbcwLnb72v5E3uE2FjXPbNwU0krvZki8c_6AJCGVIXPq1n2Xe0GM0484IjxTHLI71wiz4jMM42PDY4196s05CFYuRZ8SQGVhnXnPVx5pI/file?dl=1\n",
      "Resolving uccd56848edf348e94abe0a88e1a.dl.dropboxusercontent.com (uccd56848edf348e94abe0a88e1a.dl.dropboxusercontent.com)... 162.125.1.6, 2620:100:601a:6::a27d:706\n",
      "Connecting to uccd56848edf348e94abe0a88e1a.dl.dropboxusercontent.com (uccd56848edf348e94abe0a88e1a.dl.dropboxusercontent.com)|162.125.1.6|:443... connected.\n",
      "HTTP request sent, awaiting response... 200 OK\n",
      "Length: 33813903 (32M) [application/binary]\n",
      "Saving to: ‘./quora.txt’\n",
      "\n",
      "./quora.txt         100%[===================>]  32.25M  10.7MB/s    in 3.0s    \n",
      "\n",
      "2018-12-26 01:50:51 (10.7 MB/s) - ‘./quora.txt’ saved [33813903/33813903]\n",
      "\n"
     ]
    }
   ],
   "source": [
    "# download the data:\n",
    "!wget https://www.dropbox.com/s/obaitrix9jyu84r/quora.txt?dl=1 -O ./quora.txt\n",
    "# alternative download link: https://yadi.sk/i/BPQrUu1NaTduEw"
   ]
  },
  {
   "cell_type": "code",
   "execution_count": 2,
   "metadata": {
    "colab": {
     "base_uri": "https://localhost:8080/",
     "height": 34
    },
    "colab_type": "code",
    "id": "Q3r4QZDrHSOe",
    "outputId": "836402f7-0dab-4f70-e97a-5ba70777468f",
    "scrolled": false
   },
   "outputs": [
    {
     "data": {
      "text/plain": [
       "\"What TV shows or books help you read people's body language?\\n\""
      ]
     },
     "execution_count": 2,
     "metadata": {
      "tags": []
     },
     "output_type": "execute_result"
    }
   ],
   "source": [
    "import numpy as np\n",
    "\n",
    "data = list(open(\"./quora.txt\"))\n",
    "data[50]"
   ]
  },
  {
   "cell_type": "markdown",
   "metadata": {
    "colab_type": "text",
    "id": "scMguCx0HSOm"
   },
   "source": [
    "__Tokenization:__ a typical first step for an nlp task is to split raw data into words.\n",
    "The text we're working with is in raw format: with all the punctuation and smiles attached to some words, so a simple str.split won't do.\n",
    "\n",
    "Let's use __`nltk`__ - a library that handles many nlp tasks like tokenization, stemming or part-of-speech tagging."
   ]
  },
  {
   "cell_type": "code",
   "execution_count": 3,
   "metadata": {
    "colab": {
     "base_uri": "https://localhost:8080/",
     "height": 34
    },
    "colab_type": "code",
    "id": "WNxAOuKGHSOp",
    "outputId": "a7dc3cb1-3fec-4d0a-8ea6-37729ad181aa"
   },
   "outputs": [
    {
     "name": "stdout",
     "output_type": "stream",
     "text": [
      "['What', 'TV', 'shows', 'or', 'books', 'help', 'you', 'read', 'people', \"'\", 's', 'body', 'language', '?']\n"
     ]
    }
   ],
   "source": [
    "from nltk.tokenize import WordPunctTokenizer\n",
    "tokenizer = WordPunctTokenizer()\n",
    "\n",
    "print(tokenizer.tokenize(data[50]))"
   ]
  },
  {
   "cell_type": "code",
   "execution_count": 0,
   "metadata": {
    "colab": {},
    "colab_type": "code",
    "id": "ctBl5z1AHSOu"
   },
   "outputs": [],
   "source": [
    "# TASK: lowercase everything and extract tokens with tokenizer. \n",
    "# data_tok should be a list of lists of tokens for each line in data.\n",
    "\n",
    "data_tok = []\n",
    "for i in range(len(data)):\n",
    "    data_tok.append(tokenizer.tokenize(data[i].lower()))"
   ]
  },
  {
   "cell_type": "code",
   "execution_count": 0,
   "metadata": {
    "colab": {},
    "colab_type": "code",
    "id": "XRLzmwKaHSO0"
   },
   "outputs": [],
   "source": [
    "assert all(isinstance(row, (list, tuple)) for row in data_tok), \"please convert each line into a list of tokens (strings)\"\n",
    "assert all(all(isinstance(tok, str) for tok in row) for row in data_tok), \"please convert each line into a list of tokens (strings)\"\n",
    "is_latin = lambda tok: all('a' <= x.lower() <= 'z' for x in tok)\n",
    "assert all(map(lambda l: not is_latin(l) or l.islower(), map(' '.join, data_tok))), \"please make sure to lowercase the data\""
   ]
  },
  {
   "cell_type": "code",
   "execution_count": 11,
   "metadata": {
    "colab": {
     "base_uri": "https://localhost:8080/",
     "height": 34
    },
    "colab_type": "code",
    "id": "GoyXbnshHSO7",
    "outputId": "da3d62df-1e6a-4320-eda8-37b0c22b1131"
   },
   "outputs": [
    {
     "name": "stdout",
     "output_type": "stream",
     "text": [
      "[\"can i get back with my ex even though she is pregnant with another guy ' s baby ?\", 'what are some ways to overcome a fast food addiction ?']\n"
     ]
    }
   ],
   "source": [
    "print([' '.join(row) for row in data_tok[:2]])"
   ]
  },
  {
   "cell_type": "markdown",
   "metadata": {
    "colab_type": "text",
    "id": "Y8NUYMtTHSO_"
   },
   "source": [
    "__Word vectors:__ as the saying goes, there's more than one way to train word embeddings. There's Word2Vec and GloVe with different objective functions. Then there's fasttext that uses character-level models to train word embeddings. \n",
    "\n",
    "The choice is huge, so let's start someplace small: __gensim__ is another nlp library that features many vector-based models incuding word2vec."
   ]
  },
  {
   "cell_type": "code",
   "execution_count": 0,
   "metadata": {
    "colab": {},
    "colab_type": "code",
    "id": "9tLl5CtDHSPB"
   },
   "outputs": [],
   "source": [
    "from gensim.models import Word2Vec\n",
    "model = Word2Vec(data_tok, \n",
    "                 size=32,      # embedding vector size\n",
    "                 min_count=5,  # consider words that occured at least 5 times\n",
    "                 window=5).wv  # define context as a 5-word window around the target word"
   ]
  },
  {
   "cell_type": "code",
   "execution_count": 13,
   "metadata": {
    "colab": {
     "base_uri": "https://localhost:8080/",
     "height": 136
    },
    "colab_type": "code",
    "id": "QvK81ToFHSPH",
    "outputId": "457ac25c-03ff-4c07-e6c9-a6c51e13c054"
   },
   "outputs": [
    {
     "data": {
      "text/plain": [
       "array([ 4.255281  , -2.0810664 , -0.18408601,  0.79312205,  1.2066268 ,\n",
       "       -0.07505123, -2.1990025 , -2.3366425 , -1.2857571 ,  0.60148156,\n",
       "        2.2370756 ,  1.6339492 , -2.534834  , -2.5884252 ,  0.14263703,\n",
       "       -1.045357  , -1.2628125 ,  1.3978221 ,  2.4959264 , -3.180694  ,\n",
       "        2.32307   , -2.1628578 ,  0.21091232,  0.20874023,  2.7805555 ,\n",
       "       -1.2443687 ,  4.4286957 ,  0.8122711 , -0.00869262, -0.41263184,\n",
       "        3.019628  ,  1.5872115 ], dtype=float32)"
      ]
     },
     "execution_count": 13,
     "metadata": {
      "tags": []
     },
     "output_type": "execute_result"
    }
   ],
   "source": [
    "# now you can get word vectors !\n",
    "model.get_vector('anything')"
   ]
  },
  {
   "cell_type": "code",
   "execution_count": 14,
   "metadata": {
    "colab": {
     "base_uri": "https://localhost:8080/",
     "height": 241
    },
    "colab_type": "code",
    "id": "WXuTMbduHSPO",
    "outputId": "00f436fb-bcf3-4b97-a742-f7521fa43ada"
   },
   "outputs": [
    {
     "name": "stderr",
     "output_type": "stream",
     "text": [
      "/usr/local/lib/python3.6/dist-packages/gensim/matutils.py:737: FutureWarning: Conversion of the second argument of issubdtype from `int` to `np.signedinteger` is deprecated. In future, it will be treated as `np.int64 == np.dtype(int).type`.\n",
      "  if np.issubdtype(vec.dtype, np.int):\n"
     ]
    },
    {
     "data": {
      "text/plain": [
       "[('rice', 0.9411166906356812),\n",
       " ('fruit', 0.9261350631713867),\n",
       " ('cheese', 0.9187461137771606),\n",
       " ('butter', 0.9145932197570801),\n",
       " ('sauce', 0.9099643230438232),\n",
       " ('corn', 0.9065866470336914),\n",
       " ('chicken', 0.9059572815895081),\n",
       " ('honey', 0.9057888984680176),\n",
       " ('soup', 0.903209924697876),\n",
       " ('chocolate', 0.8990206718444824)]"
      ]
     },
     "execution_count": 14,
     "metadata": {
      "tags": []
     },
     "output_type": "execute_result"
    }
   ],
   "source": [
    "# or query similar words directly. Go play with it!\n",
    "model.most_similar('bread')"
   ]
  },
  {
   "cell_type": "markdown",
   "metadata": {
    "colab_type": "text",
    "id": "dkkTCiEVHSPU"
   },
   "source": [
    "### Using pre-trained model\n",
    "\n",
    "Took it a while, huh? Now imagine training life-sized (100~300D) word embeddings on gigabytes of text: wikipedia articles or twitter posts. \n",
    "\n",
    "Thankfully, nowadays you can get a pre-trained word embedding model in 2 lines of code (no sms required, promise)."
   ]
  },
  {
   "cell_type": "code",
   "execution_count": 0,
   "metadata": {
    "colab": {},
    "colab_type": "code",
    "id": "UVxpBBxRHSPW"
   },
   "outputs": [],
   "source": [
    "import gensim.downloader as api\n",
    "model = api.load('glove-twitter-100')"
   ]
  },
  {
   "cell_type": "code",
   "execution_count": 17,
   "metadata": {
    "colab": {
     "base_uri": "https://localhost:8080/",
     "height": 241
    },
    "colab_type": "code",
    "id": "Ss-VW-DdHSPc",
    "outputId": "2cde9bd4-7286-43a4-bd07-ba0ab65791b1"
   },
   "outputs": [
    {
     "name": "stderr",
     "output_type": "stream",
     "text": [
      "/usr/local/lib/python3.6/dist-packages/gensim/matutils.py:737: FutureWarning: Conversion of the second argument of issubdtype from `int` to `np.signedinteger` is deprecated. In future, it will be treated as `np.int64 == np.dtype(int).type`.\n",
      "  if np.issubdtype(vec.dtype, np.int):\n"
     ]
    },
    {
     "data": {
      "text/plain": [
       "[('broker', 0.5820155739784241),\n",
       " ('bonuses', 0.5424473285675049),\n",
       " ('banker', 0.538511335849762),\n",
       " ('designer', 0.5197198390960693),\n",
       " ('merchandising', 0.4964233934879303),\n",
       " ('treet', 0.49220192432403564),\n",
       " ('shopper', 0.4920561909675598),\n",
       " ('part-time', 0.49128279089927673),\n",
       " ('freelance', 0.4843311905860901),\n",
       " ('aupair', 0.4796452522277832)]"
      ]
     },
     "execution_count": 17,
     "metadata": {
      "tags": []
     },
     "output_type": "execute_result"
    }
   ],
   "source": [
    "model.most_similar(positive=[\"coder\", \"money\"], negative=[\"brain\"])"
   ]
  },
  {
   "cell_type": "markdown",
   "metadata": {
    "colab_type": "text",
    "id": "ZAiuLMF4HSPh"
   },
   "source": [
    "### Visualizing word vectors\n",
    "\n",
    "One way to see if our vectors are any good is to plot them. Thing is, those vectors are in 30D+ space and we humans are more used to 2-3D.\n",
    "\n",
    "Luckily, we machine learners know about __dimensionality reduction__ methods.\n",
    "\n",
    "Let's use that to plot 1000 most frequent words"
   ]
  },
  {
   "cell_type": "code",
   "execution_count": 18,
   "metadata": {
    "colab": {
     "base_uri": "https://localhost:8080/",
     "height": 34
    },
    "colab_type": "code",
    "id": "Yo9FpMtcHSPj",
    "outputId": "d4bbbe83-4110-4955-846c-5d6e748c144b"
   },
   "outputs": [
    {
     "name": "stdout",
     "output_type": "stream",
     "text": [
      "['<user>', '_', 'please', 'apa', 'justin', 'text', 'hari', 'playing', 'once', 'sei']\n"
     ]
    }
   ],
   "source": [
    "words = sorted(model.vocab.keys(), \n",
    "               key=lambda word: model.vocab[word].count,\n",
    "               reverse=True)[:1000]\n",
    "\n",
    "print(words[::100])"
   ]
  },
  {
   "cell_type": "code",
   "execution_count": 0,
   "metadata": {
    "colab": {},
    "colab_type": "code",
    "id": "VHrOcpVbHSPn"
   },
   "outputs": [],
   "source": [
    "# for each word, compute it's vector with model\n",
    "word_vectors = np.empty((0, 100))\n",
    "for i in range(len(words)):\n",
    "    word_vectors = np.vstack((word_vectors, model.get_vector(words[i])))"
   ]
  },
  {
   "cell_type": "code",
   "execution_count": 0,
   "metadata": {
    "colab": {},
    "colab_type": "code",
    "id": "buek2_7YHSPs"
   },
   "outputs": [],
   "source": [
    "assert isinstance(word_vectors, np.ndarray)\n",
    "assert word_vectors.shape == (len(words), 100)\n",
    "assert np.isfinite(word_vectors).all()"
   ]
  },
  {
   "cell_type": "markdown",
   "metadata": {
    "colab_type": "text",
    "id": "gl5cjJz8HSPy"
   },
   "source": [
    "#### Linear projection: PCA\n",
    "\n",
    "The simplest linear dimensionality reduction method is __P__rincipial __C__omponent __A__nalysis.\n",
    "\n",
    "In geometric terms, PCA tries to find axes along which most of the variance occurs. The \"natural\" axes, if you wish.\n",
    "\n",
    "<img src=\"https://github.com/yandexdataschool/Practical_RL/raw/master/yet_another_week/_resource/pca_fish.png\" style=\"width:30%\">\n",
    "\n",
    "\n",
    "Under the hood, it attempts to decompose object-feature matrix $X$ into two smaller matrices: $W$ and $\\hat W$ minimizing _mean squared error_:\n",
    "\n",
    "$$\\|(X W) \\hat{W} - X\\|^2_2 \\to_{W, \\hat{W}} \\min$$\n",
    "- $X \\in \\mathbb{R}^{n \\times m}$ - object matrix (**centered**);\n",
    "- $W \\in \\mathbb{R}^{m \\times d}$ - matrix of direct transformation;\n",
    "- $\\hat{W} \\in \\mathbb{R}^{d \\times m}$ - matrix of reverse transformation;\n",
    "- $n$ samples, $m$ original dimensions and $d$ target dimensions;\n",
    "\n"
   ]
  },
  {
   "cell_type": "code",
   "execution_count": 0,
   "metadata": {
    "colab": {},
    "colab_type": "code",
    "id": "9Gyv211LHSPz"
   },
   "outputs": [],
   "source": [
    "from sklearn.decomposition import PCA\n",
    "from sklearn.preprocessing import scale\n",
    "\n",
    "# map word vectors onto 2d plane with PCA. Use good old sklearn api (fit, transform)\n",
    "# after that, normalize vectors to make sure they have zero mean and unit variance\n",
    "pca = PCA(n_components=2, random_state=1234)\n",
    "word_vectors_pca = pca.fit_transform(word_vectors)\n",
    "word_vectors_pca = scale(word_vectors_pca)\n",
    "\n",
    "# and maybe MORE OF YOUR CODE here :)"
   ]
  },
  {
   "cell_type": "code",
   "execution_count": 0,
   "metadata": {
    "colab": {},
    "colab_type": "code",
    "id": "KKKT7GT-HSP6"
   },
   "outputs": [],
   "source": [
    "assert word_vectors_pca.shape == (len(word_vectors), 2), \"there must be a 2d vector for each word\"\n",
    "assert max(abs(word_vectors_pca.mean(0))) < 1e-5, \"points must be zero-centered\"\n",
    "assert max(abs(1.0 - word_vectors_pca.std(0))) < 1e-2, \"points must have unit variance\""
   ]
  },
  {
   "cell_type": "markdown",
   "metadata": {
    "colab_type": "text",
    "id": "-dHDoe0LHSQD"
   },
   "source": [
    "#### Let's draw it!"
   ]
  },
  {
   "cell_type": "code",
   "execution_count": 24,
   "metadata": {
    "colab": {
     "base_uri": "https://localhost:8080/",
     "height": 47
    },
    "colab_type": "code",
    "id": "fWc4Y4w5HSQG",
    "outputId": "ed26883f-68ff-44a6-c64b-3cd3d4771151"
   },
   "outputs": [
    {
     "data": {
      "text/html": [
       "\n",
       "    <div class=\"bk-root\">\n",
       "        <a href=\"https://bokeh.pydata.org\" target=\"_blank\" class=\"bk-logo bk-logo-small bk-logo-notebook\"></a>\n",
       "        <span id=\"1001\">Loading BokehJS ...</span>\n",
       "    </div>"
      ]
     },
     "metadata": {
      "tags": []
     },
     "output_type": "display_data"
    },
    {
     "data": {
      "application/javascript": [
       "\n",
       "(function(root) {\n",
       "  function now() {\n",
       "    return new Date();\n",
       "  }\n",
       "\n",
       "  var force = true;\n",
       "\n",
       "  if (typeof (root._bokeh_onload_callbacks) === \"undefined\" || force === true) {\n",
       "    root._bokeh_onload_callbacks = [];\n",
       "    root._bokeh_is_loading = undefined;\n",
       "  }\n",
       "\n",
       "  var JS_MIME_TYPE = 'application/javascript';\n",
       "  var HTML_MIME_TYPE = 'text/html';\n",
       "  var EXEC_MIME_TYPE = 'application/vnd.bokehjs_exec.v0+json';\n",
       "  var CLASS_NAME = 'output_bokeh rendered_html';\n",
       "\n",
       "  /**\n",
       "   * Render data to the DOM node\n",
       "   */\n",
       "  function render(props, node) {\n",
       "    var script = document.createElement(\"script\");\n",
       "    node.appendChild(script);\n",
       "  }\n",
       "\n",
       "  /**\n",
       "   * Handle when an output is cleared or removed\n",
       "   */\n",
       "  function handleClearOutput(event, handle) {\n",
       "    var cell = handle.cell;\n",
       "\n",
       "    var id = cell.output_area._bokeh_element_id;\n",
       "    var server_id = cell.output_area._bokeh_server_id;\n",
       "    // Clean up Bokeh references\n",
       "    if (id != null && id in Bokeh.index) {\n",
       "      Bokeh.index[id].model.document.clear();\n",
       "      delete Bokeh.index[id];\n",
       "    }\n",
       "\n",
       "    if (server_id !== undefined) {\n",
       "      // Clean up Bokeh references\n",
       "      var cmd = \"from bokeh.io.state import curstate; print(curstate().uuid_to_server['\" + server_id + \"'].get_sessions()[0].document.roots[0]._id)\";\n",
       "      cell.notebook.kernel.execute(cmd, {\n",
       "        iopub: {\n",
       "          output: function(msg) {\n",
       "            var id = msg.content.text.trim();\n",
       "            if (id in Bokeh.index) {\n",
       "              Bokeh.index[id].model.document.clear();\n",
       "              delete Bokeh.index[id];\n",
       "            }\n",
       "          }\n",
       "        }\n",
       "      });\n",
       "      // Destroy server and session\n",
       "      var cmd = \"import bokeh.io.notebook as ion; ion.destroy_server('\" + server_id + \"')\";\n",
       "      cell.notebook.kernel.execute(cmd);\n",
       "    }\n",
       "  }\n",
       "\n",
       "  /**\n",
       "   * Handle when a new output is added\n",
       "   */\n",
       "  function handleAddOutput(event, handle) {\n",
       "    var output_area = handle.output_area;\n",
       "    var output = handle.output;\n",
       "\n",
       "    // limit handleAddOutput to display_data with EXEC_MIME_TYPE content only\n",
       "    if ((output.output_type != \"display_data\") || (!output.data.hasOwnProperty(EXEC_MIME_TYPE))) {\n",
       "      return\n",
       "    }\n",
       "\n",
       "    var toinsert = output_area.element.find(\".\" + CLASS_NAME.split(' ')[0]);\n",
       "\n",
       "    if (output.metadata[EXEC_MIME_TYPE][\"id\"] !== undefined) {\n",
       "      toinsert[toinsert.length - 1].firstChild.textContent = output.data[JS_MIME_TYPE];\n",
       "      // store reference to embed id on output_area\n",
       "      output_area._bokeh_element_id = output.metadata[EXEC_MIME_TYPE][\"id\"];\n",
       "    }\n",
       "    if (output.metadata[EXEC_MIME_TYPE][\"server_id\"] !== undefined) {\n",
       "      var bk_div = document.createElement(\"div\");\n",
       "      bk_div.innerHTML = output.data[HTML_MIME_TYPE];\n",
       "      var script_attrs = bk_div.children[0].attributes;\n",
       "      for (var i = 0; i < script_attrs.length; i++) {\n",
       "        toinsert[toinsert.length - 1].firstChild.setAttribute(script_attrs[i].name, script_attrs[i].value);\n",
       "      }\n",
       "      // store reference to server id on output_area\n",
       "      output_area._bokeh_server_id = output.metadata[EXEC_MIME_TYPE][\"server_id\"];\n",
       "    }\n",
       "  }\n",
       "\n",
       "  function register_renderer(events, OutputArea) {\n",
       "\n",
       "    function append_mime(data, metadata, element) {\n",
       "      // create a DOM node to render to\n",
       "      var toinsert = this.create_output_subarea(\n",
       "        metadata,\n",
       "        CLASS_NAME,\n",
       "        EXEC_MIME_TYPE\n",
       "      );\n",
       "      this.keyboard_manager.register_events(toinsert);\n",
       "      // Render to node\n",
       "      var props = {data: data, metadata: metadata[EXEC_MIME_TYPE]};\n",
       "      render(props, toinsert[toinsert.length - 1]);\n",
       "      element.append(toinsert);\n",
       "      return toinsert\n",
       "    }\n",
       "\n",
       "    /* Handle when an output is cleared or removed */\n",
       "    events.on('clear_output.CodeCell', handleClearOutput);\n",
       "    events.on('delete.Cell', handleClearOutput);\n",
       "\n",
       "    /* Handle when a new output is added */\n",
       "    events.on('output_added.OutputArea', handleAddOutput);\n",
       "\n",
       "    /**\n",
       "     * Register the mime type and append_mime function with output_area\n",
       "     */\n",
       "    OutputArea.prototype.register_mime_type(EXEC_MIME_TYPE, append_mime, {\n",
       "      /* Is output safe? */\n",
       "      safe: true,\n",
       "      /* Index of renderer in `output_area.display_order` */\n",
       "      index: 0\n",
       "    });\n",
       "  }\n",
       "\n",
       "  // register the mime type if in Jupyter Notebook environment and previously unregistered\n",
       "  if (root.Jupyter !== undefined) {\n",
       "    var events = require('base/js/events');\n",
       "    var OutputArea = require('notebook/js/outputarea').OutputArea;\n",
       "\n",
       "    if (OutputArea.prototype.mime_types().indexOf(EXEC_MIME_TYPE) == -1) {\n",
       "      register_renderer(events, OutputArea);\n",
       "    }\n",
       "  }\n",
       "\n",
       "  \n",
       "  if (typeof (root._bokeh_timeout) === \"undefined\" || force === true) {\n",
       "    root._bokeh_timeout = Date.now() + 5000;\n",
       "    root._bokeh_failed_load = false;\n",
       "  }\n",
       "\n",
       "  var NB_LOAD_WARNING = {'data': {'text/html':\n",
       "     \"<div style='background-color: #fdd'>\\n\"+\n",
       "     \"<p>\\n\"+\n",
       "     \"BokehJS does not appear to have successfully loaded. If loading BokehJS from CDN, this \\n\"+\n",
       "     \"may be due to a slow or bad network connection. Possible fixes:\\n\"+\n",
       "     \"</p>\\n\"+\n",
       "     \"<ul>\\n\"+\n",
       "     \"<li>re-rerun `output_notebook()` to attempt to load from CDN again, or</li>\\n\"+\n",
       "     \"<li>use INLINE resources instead, as so:</li>\\n\"+\n",
       "     \"</ul>\\n\"+\n",
       "     \"<code>\\n\"+\n",
       "     \"from bokeh.resources import INLINE\\n\"+\n",
       "     \"output_notebook(resources=INLINE)\\n\"+\n",
       "     \"</code>\\n\"+\n",
       "     \"</div>\"}};\n",
       "\n",
       "  function display_loaded() {\n",
       "    var el = document.getElementById(\"1001\");\n",
       "    if (el != null) {\n",
       "      el.textContent = \"BokehJS is loading...\";\n",
       "    }\n",
       "    if (root.Bokeh !== undefined) {\n",
       "      if (el != null) {\n",
       "        el.textContent = \"BokehJS \" + root.Bokeh.version + \" successfully loaded.\";\n",
       "      }\n",
       "    } else if (Date.now() < root._bokeh_timeout) {\n",
       "      setTimeout(display_loaded, 100)\n",
       "    }\n",
       "  }\n",
       "\n",
       "\n",
       "  function run_callbacks() {\n",
       "    try {\n",
       "      root._bokeh_onload_callbacks.forEach(function(callback) { callback() });\n",
       "    }\n",
       "    finally {\n",
       "      delete root._bokeh_onload_callbacks\n",
       "    }\n",
       "    console.info(\"Bokeh: all callbacks have finished\");\n",
       "  }\n",
       "\n",
       "  function load_libs(js_urls, callback) {\n",
       "    root._bokeh_onload_callbacks.push(callback);\n",
       "    if (root._bokeh_is_loading > 0) {\n",
       "      console.log(\"Bokeh: BokehJS is being loaded, scheduling callback at\", now());\n",
       "      return null;\n",
       "    }\n",
       "    if (js_urls == null || js_urls.length === 0) {\n",
       "      run_callbacks();\n",
       "      return null;\n",
       "    }\n",
       "    console.log(\"Bokeh: BokehJS not loaded, scheduling load and callback at\", now());\n",
       "    root._bokeh_is_loading = js_urls.length;\n",
       "    for (var i = 0; i < js_urls.length; i++) {\n",
       "      var url = js_urls[i];\n",
       "      var s = document.createElement('script');\n",
       "      s.src = url;\n",
       "      s.async = false;\n",
       "      s.onreadystatechange = s.onload = function() {\n",
       "        root._bokeh_is_loading--;\n",
       "        if (root._bokeh_is_loading === 0) {\n",
       "          console.log(\"Bokeh: all BokehJS libraries loaded\");\n",
       "          run_callbacks()\n",
       "        }\n",
       "      };\n",
       "      s.onerror = function() {\n",
       "        console.warn(\"failed to load library \" + url);\n",
       "      };\n",
       "      console.log(\"Bokeh: injecting script tag for BokehJS library: \", url);\n",
       "      document.getElementsByTagName(\"head\")[0].appendChild(s);\n",
       "    }\n",
       "  };var element = document.getElementById(\"1001\");\n",
       "  if (element == null) {\n",
       "    console.log(\"Bokeh: ERROR: autoload.js configured with elementid '1001' but no matching script tag was found. \")\n",
       "    return false;\n",
       "  }\n",
       "\n",
       "  var js_urls = [\"https://cdn.pydata.org/bokeh/release/bokeh-1.0.2.min.js\", \"https://cdn.pydata.org/bokeh/release/bokeh-widgets-1.0.2.min.js\", \"https://cdn.pydata.org/bokeh/release/bokeh-tables-1.0.2.min.js\", \"https://cdn.pydata.org/bokeh/release/bokeh-gl-1.0.2.min.js\"];\n",
       "\n",
       "  var inline_js = [\n",
       "    function(Bokeh) {\n",
       "      Bokeh.set_log_level(\"info\");\n",
       "    },\n",
       "    \n",
       "    function(Bokeh) {\n",
       "      \n",
       "    },\n",
       "    function(Bokeh) {\n",
       "      console.log(\"Bokeh: injecting CSS: https://cdn.pydata.org/bokeh/release/bokeh-1.0.2.min.css\");\n",
       "      Bokeh.embed.inject_css(\"https://cdn.pydata.org/bokeh/release/bokeh-1.0.2.min.css\");\n",
       "      console.log(\"Bokeh: injecting CSS: https://cdn.pydata.org/bokeh/release/bokeh-widgets-1.0.2.min.css\");\n",
       "      Bokeh.embed.inject_css(\"https://cdn.pydata.org/bokeh/release/bokeh-widgets-1.0.2.min.css\");\n",
       "      console.log(\"Bokeh: injecting CSS: https://cdn.pydata.org/bokeh/release/bokeh-tables-1.0.2.min.css\");\n",
       "      Bokeh.embed.inject_css(\"https://cdn.pydata.org/bokeh/release/bokeh-tables-1.0.2.min.css\");\n",
       "    }\n",
       "  ];\n",
       "\n",
       "  function run_inline_js() {\n",
       "    \n",
       "    if ((root.Bokeh !== undefined) || (force === true)) {\n",
       "      for (var i = 0; i < inline_js.length; i++) {\n",
       "        inline_js[i].call(root, root.Bokeh);\n",
       "      }if (force === true) {\n",
       "        display_loaded();\n",
       "      }} else if (Date.now() < root._bokeh_timeout) {\n",
       "      setTimeout(run_inline_js, 100);\n",
       "    } else if (!root._bokeh_failed_load) {\n",
       "      console.log(\"Bokeh: BokehJS failed to load within specified timeout.\");\n",
       "      root._bokeh_failed_load = true;\n",
       "    } else if (force !== true) {\n",
       "      var cell = $(document.getElementById(\"1001\")).parents('.cell').data().cell;\n",
       "      cell.output_area.append_execute_result(NB_LOAD_WARNING)\n",
       "    }\n",
       "\n",
       "  }\n",
       "\n",
       "  if (root._bokeh_is_loading === 0) {\n",
       "    console.log(\"Bokeh: BokehJS loaded, going straight to plotting\");\n",
       "    run_inline_js();\n",
       "  } else {\n",
       "    load_libs(js_urls, function() {\n",
       "      console.log(\"Bokeh: BokehJS plotting callback run at\", now());\n",
       "      run_inline_js();\n",
       "    });\n",
       "  }\n",
       "}(window));"
      ],
      "application/vnd.bokehjs_load.v0+json": "\n(function(root) {\n  function now() {\n    return new Date();\n  }\n\n  var force = true;\n\n  if (typeof (root._bokeh_onload_callbacks) === \"undefined\" || force === true) {\n    root._bokeh_onload_callbacks = [];\n    root._bokeh_is_loading = undefined;\n  }\n\n  \n\n  \n  if (typeof (root._bokeh_timeout) === \"undefined\" || force === true) {\n    root._bokeh_timeout = Date.now() + 5000;\n    root._bokeh_failed_load = false;\n  }\n\n  var NB_LOAD_WARNING = {'data': {'text/html':\n     \"<div style='background-color: #fdd'>\\n\"+\n     \"<p>\\n\"+\n     \"BokehJS does not appear to have successfully loaded. If loading BokehJS from CDN, this \\n\"+\n     \"may be due to a slow or bad network connection. Possible fixes:\\n\"+\n     \"</p>\\n\"+\n     \"<ul>\\n\"+\n     \"<li>re-rerun `output_notebook()` to attempt to load from CDN again, or</li>\\n\"+\n     \"<li>use INLINE resources instead, as so:</li>\\n\"+\n     \"</ul>\\n\"+\n     \"<code>\\n\"+\n     \"from bokeh.resources import INLINE\\n\"+\n     \"output_notebook(resources=INLINE)\\n\"+\n     \"</code>\\n\"+\n     \"</div>\"}};\n\n  function display_loaded() {\n    var el = document.getElementById(\"1001\");\n    if (el != null) {\n      el.textContent = \"BokehJS is loading...\";\n    }\n    if (root.Bokeh !== undefined) {\n      if (el != null) {\n        el.textContent = \"BokehJS \" + root.Bokeh.version + \" successfully loaded.\";\n      }\n    } else if (Date.now() < root._bokeh_timeout) {\n      setTimeout(display_loaded, 100)\n    }\n  }\n\n\n  function run_callbacks() {\n    try {\n      root._bokeh_onload_callbacks.forEach(function(callback) { callback() });\n    }\n    finally {\n      delete root._bokeh_onload_callbacks\n    }\n    console.info(\"Bokeh: all callbacks have finished\");\n  }\n\n  function load_libs(js_urls, callback) {\n    root._bokeh_onload_callbacks.push(callback);\n    if (root._bokeh_is_loading > 0) {\n      console.log(\"Bokeh: BokehJS is being loaded, scheduling callback at\", now());\n      return null;\n    }\n    if (js_urls == null || js_urls.length === 0) {\n      run_callbacks();\n      return null;\n    }\n    console.log(\"Bokeh: BokehJS not loaded, scheduling load and callback at\", now());\n    root._bokeh_is_loading = js_urls.length;\n    for (var i = 0; i < js_urls.length; i++) {\n      var url = js_urls[i];\n      var s = document.createElement('script');\n      s.src = url;\n      s.async = false;\n      s.onreadystatechange = s.onload = function() {\n        root._bokeh_is_loading--;\n        if (root._bokeh_is_loading === 0) {\n          console.log(\"Bokeh: all BokehJS libraries loaded\");\n          run_callbacks()\n        }\n      };\n      s.onerror = function() {\n        console.warn(\"failed to load library \" + url);\n      };\n      console.log(\"Bokeh: injecting script tag for BokehJS library: \", url);\n      document.getElementsByTagName(\"head\")[0].appendChild(s);\n    }\n  };var element = document.getElementById(\"1001\");\n  if (element == null) {\n    console.log(\"Bokeh: ERROR: autoload.js configured with elementid '1001' but no matching script tag was found. \")\n    return false;\n  }\n\n  var js_urls = [\"https://cdn.pydata.org/bokeh/release/bokeh-1.0.2.min.js\", \"https://cdn.pydata.org/bokeh/release/bokeh-widgets-1.0.2.min.js\", \"https://cdn.pydata.org/bokeh/release/bokeh-tables-1.0.2.min.js\", \"https://cdn.pydata.org/bokeh/release/bokeh-gl-1.0.2.min.js\"];\n\n  var inline_js = [\n    function(Bokeh) {\n      Bokeh.set_log_level(\"info\");\n    },\n    \n    function(Bokeh) {\n      \n    },\n    function(Bokeh) {\n      console.log(\"Bokeh: injecting CSS: https://cdn.pydata.org/bokeh/release/bokeh-1.0.2.min.css\");\n      Bokeh.embed.inject_css(\"https://cdn.pydata.org/bokeh/release/bokeh-1.0.2.min.css\");\n      console.log(\"Bokeh: injecting CSS: https://cdn.pydata.org/bokeh/release/bokeh-widgets-1.0.2.min.css\");\n      Bokeh.embed.inject_css(\"https://cdn.pydata.org/bokeh/release/bokeh-widgets-1.0.2.min.css\");\n      console.log(\"Bokeh: injecting CSS: https://cdn.pydata.org/bokeh/release/bokeh-tables-1.0.2.min.css\");\n      Bokeh.embed.inject_css(\"https://cdn.pydata.org/bokeh/release/bokeh-tables-1.0.2.min.css\");\n    }\n  ];\n\n  function run_inline_js() {\n    \n    if ((root.Bokeh !== undefined) || (force === true)) {\n      for (var i = 0; i < inline_js.length; i++) {\n        inline_js[i].call(root, root.Bokeh);\n      }if (force === true) {\n        display_loaded();\n      }} else if (Date.now() < root._bokeh_timeout) {\n      setTimeout(run_inline_js, 100);\n    } else if (!root._bokeh_failed_load) {\n      console.log(\"Bokeh: BokehJS failed to load within specified timeout.\");\n      root._bokeh_failed_load = true;\n    } else if (force !== true) {\n      var cell = $(document.getElementById(\"1001\")).parents('.cell').data().cell;\n      cell.output_area.append_execute_result(NB_LOAD_WARNING)\n    }\n\n  }\n\n  if (root._bokeh_is_loading === 0) {\n    console.log(\"Bokeh: BokehJS loaded, going straight to plotting\");\n    run_inline_js();\n  } else {\n    load_libs(js_urls, function() {\n      console.log(\"Bokeh: BokehJS plotting callback run at\", now());\n      run_inline_js();\n    });\n  }\n}(window));"
     },
     "metadata": {
      "tags": []
     },
     "output_type": "display_data"
    }
   ],
   "source": [
    "import bokeh.models as bm, bokeh.plotting as pl\n",
    "from bokeh.io import output_notebook\n",
    "output_notebook()\n",
    "\n",
    "def draw_vectors(x, y, radius=10, alpha=0.25, color='blue',\n",
    "                 width=600, height=400, show=True, **kwargs):\n",
    "    \"\"\" draws an interactive plot for data points with auxilirary info on hover \"\"\"\n",
    "    if isinstance(color, str): color = [color] * len(x)\n",
    "    data_source = bm.ColumnDataSource({ 'x' : x, 'y' : y, 'color': color, **kwargs })\n",
    "\n",
    "    fig = pl.figure(active_scroll='wheel_zoom', width=width, height=height)\n",
    "    fig.scatter('x', 'y', size=radius, color='color', alpha=alpha, source=data_source)\n",
    "\n",
    "    fig.add_tools(bm.HoverTool(tooltips=[(key, \"@\" + key) for key in kwargs.keys()]))\n",
    "    if show: pl.show(fig)\n",
    "    return fig"
   ]
  },
  {
   "cell_type": "code",
   "execution_count": 25,
   "metadata": {
    "colab": {
     "base_uri": "https://localhost:8080/",
     "height": 34
    },
    "colab_type": "code",
    "id": "iS6Rn697HSQL",
    "outputId": "af28aa4c-6830-473d-e8eb-47f41d23d76e"
   },
   "outputs": [
    {
     "data": {
      "text/html": [
       "\n",
       "\n",
       "\n",
       "\n",
       "\n",
       "\n",
       "  <div class=\"bk-root\" id=\"ade4a960-c83c-435d-ba11-5756ab20373e\"></div>\n"
      ]
     },
     "metadata": {
      "tags": []
     },
     "output_type": "display_data"
    },
    {
     "data": {
      "application/javascript": [
       "(function(root) {\n",
       "  function embed_document(root) {\n",
       "    \n",
       "  var docs_json = {\"542d5ad5-0a91-4bde-868c-73c81ad80e31\":{\"roots\":{\"references\":[{\"attributes\":{\"below\":[{\"id\":\"1012\",\"type\":\"LinearAxis\"}],\"left\":[{\"id\":\"1017\",\"type\":\"LinearAxis\"}],\"plot_height\":400,\"renderers\":[{\"id\":\"1012\",\"type\":\"LinearAxis\"},{\"id\":\"1016\",\"type\":\"Grid\"},{\"id\":\"1017\",\"type\":\"LinearAxis\"},{\"id\":\"1021\",\"type\":\"Grid\"},{\"id\":\"1030\",\"type\":\"BoxAnnotation\"},{\"id\":\"1040\",\"type\":\"GlyphRenderer\"}],\"title\":{\"id\":\"1045\",\"type\":\"Title\"},\"toolbar\":{\"id\":\"1028\",\"type\":\"Toolbar\"},\"x_range\":{\"id\":\"1004\",\"type\":\"DataRange1d\"},\"x_scale\":{\"id\":\"1008\",\"type\":\"LinearScale\"},\"y_range\":{\"id\":\"1006\",\"type\":\"DataRange1d\"},\"y_scale\":{\"id\":\"1010\",\"type\":\"LinearScale\"}},\"id\":\"1003\",\"subtype\":\"Figure\",\"type\":\"Plot\"},{\"attributes\":{\"bottom_units\":\"screen\",\"fill_alpha\":{\"value\":0.5},\"fill_color\":{\"value\":\"lightgrey\"},\"left_units\":\"screen\",\"level\":\"overlay\",\"line_alpha\":{\"value\":1.0},\"line_color\":{\"value\":\"black\"},\"line_dash\":[4,4],\"line_width\":{\"value\":2},\"plot\":null,\"render_mode\":\"css\",\"right_units\":\"screen\",\"top_units\":\"screen\"},\"id\":\"1030\",\"type\":\"BoxAnnotation\"},{\"attributes\":{},\"id\":\"1023\",\"type\":\"WheelZoomTool\"},{\"attributes\":{\"active_drag\":\"auto\",\"active_inspect\":\"auto\",\"active_multi\":null,\"active_scroll\":{\"id\":\"1023\",\"type\":\"WheelZoomTool\"},\"active_tap\":\"auto\",\"tools\":[{\"id\":\"1022\",\"type\":\"PanTool\"},{\"id\":\"1023\",\"type\":\"WheelZoomTool\"},{\"id\":\"1024\",\"type\":\"BoxZoomTool\"},{\"id\":\"1025\",\"type\":\"SaveTool\"},{\"id\":\"1026\",\"type\":\"ResetTool\"},{\"id\":\"1027\",\"type\":\"HelpTool\"},{\"id\":\"1042\",\"type\":\"HoverTool\"}]},\"id\":\"1028\",\"type\":\"Toolbar\"},{\"attributes\":{},\"id\":\"1027\",\"type\":\"HelpTool\"},{\"attributes\":{\"fill_alpha\":{\"value\":0.1},\"fill_color\":{\"value\":\"#1f77b4\"},\"line_alpha\":{\"value\":0.1},\"line_color\":{\"value\":\"#1f77b4\"},\"size\":{\"units\":\"screen\",\"value\":10},\"x\":{\"field\":\"x\"},\"y\":{\"field\":\"y\"}},\"id\":\"1039\",\"type\":\"Scatter\"},{\"attributes\":{},\"id\":\"1022\",\"type\":\"PanTool\"},{\"attributes\":{},\"id\":\"1046\",\"type\":\"BasicTickFormatter\"},{\"attributes\":{},\"id\":\"1025\",\"type\":\"SaveTool\"},{\"attributes\":{\"overlay\":{\"id\":\"1030\",\"type\":\"BoxAnnotation\"}},\"id\":\"1024\",\"type\":\"BoxZoomTool\"},{\"attributes\":{\"callback\":null,\"data\":{\"color\":[\"blue\",\"blue\",\"blue\",\"blue\",\"blue\",\"blue\",\"blue\",\"blue\",\"blue\",\"blue\",\"blue\",\"blue\",\"blue\",\"blue\",\"blue\",\"blue\",\"blue\",\"blue\",\"blue\",\"blue\",\"blue\",\"blue\",\"blue\",\"blue\",\"blue\",\"blue\",\"blue\",\"blue\",\"blue\",\"blue\",\"blue\",\"blue\",\"blue\",\"blue\",\"blue\",\"blue\",\"blue\",\"blue\",\"blue\",\"blue\",\"blue\",\"blue\",\"blue\",\"blue\",\"blue\",\"blue\",\"blue\",\"blue\",\"blue\",\"blue\",\"blue\",\"blue\",\"blue\",\"blue\",\"blue\",\"blue\",\"blue\",\"blue\",\"blue\",\"blue\",\"blue\",\"blue\",\"blue\",\"blue\",\"blue\",\"blue\",\"blue\",\"blue\",\"blue\",\"blue\",\"blue\",\"blue\",\"blue\",\"blue\",\"blue\",\"blue\",\"blue\",\"blue\",\"blue\",\"blue\",\"blue\",\"blue\",\"blue\",\"blue\",\"blue\",\"blue\",\"blue\",\"blue\",\"blue\",\"blue\",\"blue\",\"blue\",\"blue\",\"blue\",\"blue\",\"blue\",\"blue\",\"blue\",\"blue\",\"blue\",\"blue\",\"blue\",\"blue\",\"blue\",\"blue\",\"blue\",\"blue\",\"blue\",\"blue\",\"blue\",\"blue\",\"blue\",\"blue\",\"blue\",\"blue\",\"blue\",\"blue\",\"blue\",\"blue\",\"blue\",\"blue\",\"blue\",\"blue\",\"blue\",\"blue\",\"blue\",\"blue\",\"blue\",\"blue\",\"blue\",\"blue\",\"blue\",\"blue\",\"blue\",\"blue\",\"blue\",\"blue\",\"blue\",\"blue\",\"blue\",\"blue\",\"blue\",\"blue\",\"blue\",\"blue\",\"blue\",\"blue\",\"blue\",\"blue\",\"blue\",\"blue\",\"blue\",\"blue\",\"blue\",\"blue\",\"blue\",\"blue\",\"blue\",\"blue\",\"blue\",\"blue\",\"blue\",\"blue\",\"blue\",\"blue\",\"blue\",\"blue\",\"blue\",\"blue\",\"blue\",\"blue\",\"blue\",\"blue\",\"blue\",\"blue\",\"blue\",\"blue\",\"blue\",\"blue\",\"blue\",\"blue\",\"blue\",\"blue\",\"blue\",\"blue\",\"blue\",\"blue\",\"blue\",\"blue\",\"blue\",\"blue\",\"blue\",\"blue\",\"blue\",\"blue\",\"blue\",\"blue\",\"blue\",\"blue\",\"blue\",\"blue\",\"blue\",\"blue\",\"blue\",\"blue\",\"blue\",\"blue\",\"blue\",\"blue\",\"blue\",\"blue\",\"blue\",\"blue\",\"blue\",\"blue\",\"blue\",\"blue\",\"blue\",\"blue\",\"blue\",\"blue\",\"blue\",\"blue\",\"blue\",\"blue\",\"blue\",\"blue\",\"blue\",\"blue\",\"blue\",\"blue\",\"blue\",\"blue\",\"blue\",\"blue\",\"blue\",\"blue\",\"blue\",\"blue\",\"blue\",\"blue\",\"blue\",\"blue\",\"blue\",\"blue\",\"blue\",\"blue\",\"blue\",\"blue\",\"blue\",\"blue\",\"blue\",\"blue\",\"blue\",\"blue\",\"blue\",\"blue\",\"blue\",\"blue\",\"blue\",\"blue\",\"blue\",\"blue\",\"blue\",\"blue\",\"blue\",\"blue\",\"blue\",\"blue\",\"blue\",\"blue\",\"blue\",\"blue\",\"blue\",\"blue\",\"blue\",\"blue\",\"blue\",\"blue\",\"blue\",\"blue\",\"blue\",\"blue\",\"blue\",\"blue\",\"blue\",\"blue\",\"blue\",\"blue\",\"blue\",\"blue\",\"blue\",\"blue\",\"blue\",\"blue\",\"blue\",\"blue\",\"blue\",\"blue\",\"blue\",\"blue\",\"blue\",\"blue\",\"blue\",\"blue\",\"blue\",\"blue\",\"blue\",\"blue\",\"blue\",\"blue\",\"blue\",\"blue\",\"blue\",\"blue\",\"blue\",\"blue\",\"blue\",\"blue\",\"blue\",\"blue\",\"blue\",\"blue\",\"blue\",\"blue\",\"blue\",\"blue\",\"blue\",\"blue\",\"blue\",\"blue\",\"blue\",\"blue\",\"blue\",\"blue\",\"blue\",\"blue\",\"blue\",\"blue\",\"blue\",\"blue\",\"blue\",\"blue\",\"blue\",\"blue\",\"blue\",\"blue\",\"blue\",\"blue\",\"blue\",\"blue\",\"blue\",\"blue\",\"blue\",\"blue\",\"blue\",\"blue\",\"blue\",\"blue\",\"blue\",\"blue\",\"blue\",\"blue\",\"blue\",\"blue\",\"blue\",\"blue\",\"blue\",\"blue\",\"blue\",\"blue\",\"blue\",\"blue\",\"blue\",\"blue\",\"blue\",\"blue\",\"blue\",\"blue\",\"blue\",\"blue\",\"blue\",\"blue\",\"blue\",\"blue\",\"blue\",\"blue\",\"blue\",\"blue\",\"blue\",\"blue\",\"blue\",\"blue\",\"blue\",\"blue\",\"blue\",\"blue\",\"blue\",\"blue\",\"blue\",\"blue\",\"blue\",\"blue\",\"blue\",\"blue\",\"blue\",\"blue\",\"blue\",\"blue\",\"blue\",\"blue\",\"blue\",\"blue\",\"blue\",\"blue\",\"blue\",\"blue\",\"blue\",\"blue\",\"blue\",\"blue\",\"blue\",\"blue\",\"blue\",\"blue\",\"blue\",\"blue\",\"blue\",\"blue\",\"blue\",\"blue\",\"blue\",\"blue\",\"blue\",\"blue\",\"blue\",\"blue\",\"blue\",\"blue\",\"blue\",\"blue\",\"blue\",\"blue\",\"blue\",\"blue\",\"blue\",\"blue\",\"blue\",\"blue\",\"blue\",\"blue\",\"blue\",\"blue\",\"blue\",\"blue\",\"blue\",\"blue\",\"blue\",\"blue\",\"blue\",\"blue\",\"blue\",\"blue\",\"blue\",\"blue\",\"blue\",\"blue\",\"blue\",\"blue\",\"blue\",\"blue\",\"blue\",\"blue\",\"blue\",\"blue\",\"blue\",\"blue\",\"blue\",\"blue\",\"blue\",\"blue\",\"blue\",\"blue\",\"blue\",\"blue\",\"blue\",\"blue\",\"blue\",\"blue\",\"blue\",\"blue\",\"blue\",\"blue\",\"blue\",\"blue\",\"blue\",\"blue\",\"blue\",\"blue\",\"blue\",\"blue\",\"blue\",\"blue\",\"blue\",\"blue\",\"blue\",\"blue\",\"blue\",\"blue\",\"blue\",\"blue\",\"blue\",\"blue\",\"blue\",\"blue\",\"blue\",\"blue\",\"blue\",\"blue\",\"blue\",\"blue\",\"blue\",\"blue\",\"blue\",\"blue\",\"blue\",\"blue\",\"blue\",\"blue\",\"blue\",\"blue\",\"blue\",\"blue\",\"blue\",\"blue\",\"blue\",\"blue\",\"blue\",\"blue\",\"blue\",\"blue\",\"blue\",\"blue\",\"blue\",\"blue\",\"blue\",\"blue\",\"blue\",\"blue\",\"blue\",\"blue\",\"blue\",\"blue\",\"blue\",\"blue\",\"blue\",\"blue\",\"blue\",\"blue\",\"blue\",\"blue\",\"blue\",\"blue\",\"blue\",\"blue\",\"blue\",\"blue\",\"blue\",\"blue\",\"blue\",\"blue\",\"blue\",\"blue\",\"blue\",\"blue\",\"blue\",\"blue\",\"blue\",\"blue\",\"blue\",\"blue\",\"blue\",\"blue\",\"blue\",\"blue\",\"blue\",\"blue\",\"blue\",\"blue\",\"blue\",\"blue\",\"blue\",\"blue\",\"blue\",\"blue\",\"blue\",\"blue\",\"blue\",\"blue\",\"blue\",\"blue\",\"blue\",\"blue\",\"blue\",\"blue\",\"blue\",\"blue\",\"blue\",\"blue\",\"blue\",\"blue\",\"blue\",\"blue\",\"blue\",\"blue\",\"blue\",\"blue\",\"blue\",\"blue\",\"blue\",\"blue\",\"blue\",\"blue\",\"blue\",\"blue\",\"blue\",\"blue\",\"blue\",\"blue\",\"blue\",\"blue\",\"blue\",\"blue\",\"blue\",\"blue\",\"blue\",\"blue\",\"blue\",\"blue\",\"blue\",\"blue\",\"blue\",\"blue\",\"blue\",\"blue\",\"blue\",\"blue\",\"blue\",\"blue\",\"blue\",\"blue\",\"blue\",\"blue\",\"blue\",\"blue\",\"blue\",\"blue\",\"blue\",\"blue\",\"blue\",\"blue\",\"blue\",\"blue\",\"blue\",\"blue\",\"blue\",\"blue\",\"blue\",\"blue\",\"blue\",\"blue\",\"blue\",\"blue\",\"blue\",\"blue\",\"blue\",\"blue\",\"blue\",\"blue\",\"blue\",\"blue\",\"blue\",\"blue\",\"blue\",\"blue\",\"blue\",\"blue\",\"blue\",\"blue\",\"blue\",\"blue\",\"blue\",\"blue\",\"blue\",\"blue\",\"blue\",\"blue\",\"blue\",\"blue\",\"blue\",\"blue\",\"blue\",\"blue\",\"blue\",\"blue\",\"blue\",\"blue\",\"blue\",\"blue\",\"blue\",\"blue\",\"blue\",\"blue\",\"blue\",\"blue\",\"blue\",\"blue\",\"blue\",\"blue\",\"blue\",\"blue\",\"blue\",\"blue\",\"blue\",\"blue\",\"blue\",\"blue\",\"blue\",\"blue\",\"blue\",\"blue\",\"blue\",\"blue\",\"blue\",\"blue\",\"blue\",\"blue\",\"blue\",\"blue\",\"blue\",\"blue\",\"blue\",\"blue\",\"blue\",\"blue\",\"blue\",\"blue\",\"blue\",\"blue\",\"blue\",\"blue\",\"blue\",\"blue\",\"blue\",\"blue\",\"blue\",\"blue\",\"blue\",\"blue\",\"blue\",\"blue\",\"blue\",\"blue\",\"blue\",\"blue\",\"blue\",\"blue\",\"blue\",\"blue\",\"blue\",\"blue\",\"blue\",\"blue\",\"blue\",\"blue\",\"blue\",\"blue\",\"blue\",\"blue\",\"blue\",\"blue\",\"blue\",\"blue\",\"blue\",\"blue\",\"blue\",\"blue\",\"blue\",\"blue\",\"blue\",\"blue\",\"blue\",\"blue\",\"blue\",\"blue\",\"blue\",\"blue\",\"blue\",\"blue\",\"blue\",\"blue\",\"blue\",\"blue\",\"blue\",\"blue\",\"blue\",\"blue\",\"blue\",\"blue\",\"blue\",\"blue\",\"blue\",\"blue\",\"blue\",\"blue\",\"blue\",\"blue\",\"blue\",\"blue\",\"blue\",\"blue\",\"blue\",\"blue\",\"blue\",\"blue\",\"blue\",\"blue\",\"blue\",\"blue\",\"blue\",\"blue\",\"blue\",\"blue\",\"blue\",\"blue\",\"blue\",\"blue\",\"blue\",\"blue\",\"blue\",\"blue\",\"blue\",\"blue\",\"blue\",\"blue\",\"blue\",\"blue\",\"blue\",\"blue\",\"blue\",\"blue\",\"blue\",\"blue\",\"blue\",\"blue\",\"blue\",\"blue\",\"blue\",\"blue\",\"blue\",\"blue\",\"blue\",\"blue\",\"blue\",\"blue\",\"blue\",\"blue\",\"blue\",\"blue\",\"blue\",\"blue\",\"blue\",\"blue\",\"blue\",\"blue\",\"blue\",\"blue\",\"blue\",\"blue\",\"blue\",\"blue\",\"blue\",\"blue\",\"blue\",\"blue\",\"blue\",\"blue\",\"blue\",\"blue\",\"blue\",\"blue\",\"blue\",\"blue\",\"blue\",\"blue\",\"blue\",\"blue\",\"blue\",\"blue\",\"blue\",\"blue\",\"blue\",\"blue\",\"blue\",\"blue\",\"blue\",\"blue\",\"blue\",\"blue\",\"blue\",\"blue\",\"blue\",\"blue\",\"blue\",\"blue\",\"blue\",\"blue\",\"blue\",\"blue\",\"blue\",\"blue\",\"blue\",\"blue\",\"blue\",\"blue\",\"blue\",\"blue\",\"blue\",\"blue\",\"blue\",\"blue\",\"blue\",\"blue\",\"blue\",\"blue\",\"blue\",\"blue\",\"blue\",\"blue\",\"blue\",\"blue\",\"blue\",\"blue\",\"blue\",\"blue\",\"blue\",\"blue\",\"blue\",\"blue\",\"blue\",\"blue\",\"blue\",\"blue\",\"blue\",\"blue\",\"blue\",\"blue\",\"blue\",\"blue\",\"blue\",\"blue\",\"blue\",\"blue\",\"blue\",\"blue\",\"blue\",\"blue\",\"blue\",\"blue\",\"blue\",\"blue\",\"blue\",\"blue\",\"blue\",\"blue\",\"blue\",\"blue\",\"blue\",\"blue\",\"blue\",\"blue\",\"blue\",\"blue\",\"blue\",\"blue\",\"blue\",\"blue\",\"blue\",\"blue\",\"blue\",\"blue\",\"blue\",\"blue\",\"blue\",\"blue\",\"blue\",\"blue\",\"blue\",\"blue\",\"blue\"],\"token\":[\"<user>\",\".\",\":\",\"rt\",\",\",\"<repeat>\",\"<hashtag>\",\"<number>\",\"<url>\",\"!\",\"i\",\"a\",\"\\\"\",\"the\",\"?\",\"you\",\"to\",\"(\",\"<allcaps>\",\"<elong>\",\")\",\"me\",\"de\",\"<smile>\",\"\\uff01\",\"que\",\"and\",\"\\u3002\",\"-\",\"my\",\"no\",\"\\u3001\",\"is\",\"it\",\"\\u2026\",\"in\",\"n\",\"for\",\"/\",\"of\",\"la\",\"'s\",\"*\",\"do\",\"n't\",\"that\",\"on\",\"y\",\"'\",\"e\",\"o\",\"u\",\"en\",\"this\",\"el\",\"so\",\"be\",\"'m\",\"with\",\"just\",\">\",\"your\",\"^\",\"like\",\"have\",\"te\",\"at\",\"\\uff1f\",\"love\",\"se\",\"are\",\"<\",\"m\",\"r\",\"if\",\"all\",\"b\",\"\\u30fb\",\"not\",\"but\",\"we\",\"es\",\"ya\",\"&\",\"follow\",\"up\",\"what\",\"get\",\"lol\",\"un\",\"\\u2665\",\"lo\",\"when\",\"was\",\"\\u201c\",\"\\u201d\",\"one\",\"por\",\"si\",\"out\",\"_\",\"mi\",\"can\",\"<sadface>\",\"\\u0645\\u0646\",\"\\u2661\",\"\\u00b4\",\"he\",\"con\",\"they\",\"now\",\"go\",\"\\u060c\",\"para\",\"los\",\"know\",\"haha\",\"good\",\"tu\",\"back\",\"~\",\"about\",\"new\",\";\",\"as\",\"day\",\"how\",\"who\",\"will\",\"want\",\"people\",\"yo\",\"eu\",\"from\",\"di\",\"time\",\"<heart>\",\"s\",\"aku\",\"da\",\"'re\",\"<lolface>\",\"una\",\"got\",\"las\",\"more\",\"x\",\"she\",\"today\",\"\\uff08\",\">>\",\"k\",\"by\",\"or\",\"\\u0641\\u064a\",\"\\uff65\",\"too\",\"le\",\"\\u00e9\",\"|\",\"[\",\"\\uff09\",\"]\",\"see\",\"why\",\"yg\",\"ca\",\"como\",\"her\",\"\\u2014\",\"q\",\"need\",\"an\",\"na\",\"\\u7b11\",\"there\",\"\\u03c9\",\"happy\",\"im\",\"mas\",\"je\",\"life\",\"really\",\"make\",\"yang\",\"shit\",\"think\",\"t\",\"\\u2764\",\"n\\u00e3o\",\"never\",\"some\",\"\\uff5e\",\"oh\",\"\\u2605\",\"did\",\"would\",\"del\",\"`\",\"d\",\"please\",\"via\",\"much\",\"fuck\",\"al\",\"dia\",\"$\",\"\\u0648\",\"right\",\"best\",\"c\",\"going\",\"\\u0627\\u0644\\u0644\\u0647\",\"pero\",\"only\",\"has\",\"\\u266a\",\"'ll\",\"twitter\",\"=\",\"hahaha\",\"its\",\"nn\",\"\\uff40\",\"\\u00bf\",\"am\",\"say\",\"<neutralface>\",\"them\",\"here\",\"\\u0644\\u0627\",\"off\",\"still\",\"dan\",\"+\",\"night\",\"w\",\"ada\",\"someone\",\"even\",\"then\",\"\\u2606\",\"ni\",\"come\",\"com\",\"always\",\"man\",\"'ve\",\"been\",\"his\",\"itu\",\"\\u0639\\u0644\\u0649\",\"-_-\",\"\\u263a\",\"over\",\"um\",\"\\u0645\\u0627\",\"hate\",\"girl\",\"ai\",\"had\",\"pra\",\"todo\",\"mais\",\"feel\",\"let\",\"ini\",\"because\",\"\\uff9f\",\"thanks\",\"ah\",\"way\",\"ever\",\"look\",\"tweet\",\"followers\",\"should\",\"our\",\"xd\",\"aja\",\"esta\",\"school\",\"him\",\"ser\",\"take\",\"than\",\"video\",\"em\",\"last\",\"wanna\",\"does\",\"us\",\"miss\",\"l\",\"ga\",\"better\",\"well\",\"could\",\"\\u25bd\",\"%\",\"apa\",\"cuando\",\"team\",\"\\u2714\",\"@\",\"ok\",\"\\u061f\",\"\\u2022\",\"vida\",\"quiero\",\"les\",\"being\",\"real\",\"down\",\"kamu\",\"everyone\",\"gonna\",\"live\",\"tonight\",\"yes\",\"work\",\"ass\",\"retweet\",\"nada\",\"sama\",\"first\",\"<<\",\"photo\",\"tomorrow\",\"where\",\"god\",\"son\",\"ke\",\"ta\",\"f\",\"home\",\"lagi\",\"thank\",\"birthday\",\"\\u2588\",\"ha\",\"great\",\"lmao\",\"omg\",\"morning\",\"m\\u00e1s\",\"mau\",\"baby\",\"dont\",\"\\uff61\",\"their\",\"p\",\"things\",\"game\",\"pas\",\"bad\",\"year\",\"yeah\",\"su\",\"bitch\",\"\\u0432\",\"stop\",\"hoy\",\"something\",\"meu\",\"tak\",\"gak\",\"world\",\"amor\",\"h\",\"\\\\\",\"ver\",\"\\uff1b\",\"porque\",\"give\",\"these\",\"\\u0627\\u0644\\u0644\\u0647\\u0645\",\"were\",\"hay\",\"sleep\",\"gue\",\"every\",\"friends\",\"uma\",\"tell\",\"amo\",\"vou\",\"bien\",\"\\u00a1\",\"again\",\"\\uff3e\",\"\\uff0f\",\"done\",\"after\",\"todos\",\"girls\",\"guys\",\"getting\",\"big\",\"wait\",\"justin\",\"eh\",\"\\u2192\",\"kan\",\"kita\",\"jajaja\",\"wish\",\"said\",\"fucking\",\"show\",\"thing\",\"next\",\"voc\\u00ea\",\"nos\",\"little\",\"tengo\",\"keep\",\"person\",\"''\",\"\\u2200\",\"hope\",\"\\u0643\\u0644\",\"hey\",\"bisa\",\"free\",\"made\",\"foto\",\"va\",\"everything\",\"iya\",\"nigga\",\"eso\",\"et\",\"watch\",\"music\",\"week\",\"talk\",\"ne\",\"solo\",\"gente\",\"udah\",\"\\uff1a\",\"--\",\"\\uff3c\",\"mejor\",\"facebook\",\"ma\",\"v\",\"phone\",\"most\",\"same\",\"okay\",\"ik\",\"before\",\"minha\",\"days\",\"g\",\"ti\",\"damn\",\"nice\",\"voy\",\"vai\",\"call\",\"long\",\"tapi\",\"http\",\"sin\",\"nunca\",\"doing\",\"other\",\"find\",\"il\",\"sa\",\"sorry\",\"nya\",\"orang\",\"\\u00b0\",\"hard\",\"mean\",\"die\",\"\\u0627\\u0644\\u0644\\u064a\",\"tem\",\"soy\",\"este\",\"kalo\",\"s\\u00f3\",\"th\",\"win\",\"nothing\",\"into\",\"face\",\"cute\",\"'d\",\"gracias\",\"lah\",\"\\u0438\",\"any\",\"play\",\"\\u2190\",\"ko\",\"text\",\"\\u2323\",\"estoy\",\"tau\",\"ur\",\"buat\",\"#\",\"cause\",\"\\u044f\",\"put\",\"kau\",\"siempre\",\"juga\",\"casa\",\"\\u0623\\u0646\",\"help\",\"start\",\"feliz\",\"old\",\"ir\",\"very\",\"care\",\"bir\",\"makes\",\"song\",\"check\",\"watching\",\"ahora\",\"jadi\",\"os\",\"may\",\"friend\",\"beautiful\",\"heart\",\"ka\",\"vc\",\"mundo\",\"\\u043d\\u0430\",\"sure\",\"tan\",\"pretty\",\"aqui\",\"\\u043d\\u0435\",\"house\",\"\\u0631\\u062a\\u0648\\u064a\\u062a\",\"\\u064a\\u0627\",\"ja\",\"true\",\"muy\",\"away\",\"already\",\"actually\",\"believe\",\"try\",\"many\",\"ma\\u00f1ana\",\"mis\",\"lu\",\"those\",\"hot\",\"qu\\u00e9\",\"mal\",\"\\u0639\\u0646\",\"though\",\"ask\",\"amazing\",\"bed\",\"}\",\"two\",\"mom\",\"d\\u00eda\",\"ve\",\"dari\",\"gameinsight\",\"stay\",\"fun\",\"around\",\"van\",\"cont\",\"ready\",\"money\",\"bu\",\"funny\",\"cool\",\"hair\",\"\\u00e0\",\"tho\",\"{\",\"wo\",\"hi\",\"name\",\"tiene\",\"hahahaha\",\"pa\",\"algo\",\"gotta\",\"\\u0648\\u0644\\u0627\",\"boy\",\"another\",\"c'est\",\"hari\",\"jajajaja\",\"having\",\"cara\",\"jaja\",\"dm\",\"looking\",\"top\",\"android\",\"dah\",\"wow\",\"\\u2591\",\"eres\",\"ben\",\"must\",\"news\",\"met\",\"est\\u00e1\",\"nih\",\"family\",\"black\",\"thought\",\"nak\",\"super\",\"end\",\"hace\",\"remember\",\"ama\",\"party\",\"cant\",\"vamos\",\"anything\",\"anyone\",\"\\u0641\\u0648\\u0644\\u0648\",\"perfect\",\"guy\",\"vez\",\"christmas\",\"dos\",\"bueno\",\"nao\",\"years\",\"vote\",\"dormir\",\"bro\",\"else\",\"quien\",\"untuk\",\"jangan\",\"myself\",\"head\",\"mind\",\"gua\",\"talking\",\"while\",\"dat\",\"food\",\"\\u0434\",\"coming\",\"wkwk\",\"trying\",\"saya\",\"mucho\",\"without\",\"wrong\",\"\\u2019s\",\"baru\",\"__\",\"hehe\",\"hacer\",\"lot\",\"followed\",\"crazy\",\"hell\",\"feeling\",\"des\",\"kok\",\"j\",\"stats\",\"j'\",\"\\u0627\\u0646\",\"tweets\",\"non\",\"cosas\",\"era\",\"high\",\"niggas\",\"change\",\"movie\",\"xx\",\"mad\",\"sih\",\"sometimes\",\"deh\",\"allah\",\"through\",\"pour\",\"ela\",\"soon\",\"gone\",\"playing\",\"smile\",\"bukan\",\"tv\",\"fans\",\"hasta\",\"akan\",\"y'\",\"looks\",\"isso\",\"\\u270c\",\"tired\",\"boys\",\"might\",\"dong\",\"lg\",\"use\",\"maybe\",\"until\",\"menos\",\"own\",\"dengan\",\"eat\",\"ou\",\"weekend\",\"\\u02d8\",\"class\",\"ele\",\"harry\",\"iphone\",\"friday\",\"single\",\"ff\",\"awesome\",\"bout\",\"muito\",\"hoje\",\"\\u00ac\",\"dios\",\"such\",\"estar\",\"j\\u00e1\",\"quando\",\"esa\",\"making\",\"\\u2501\",\"times\",\"lmfao\",\"gw\",\"moment\",\"yet\",\"aw\",\"smh\",\"banget\",\"masih\",\"qui\",\"quem\",\"\\u2013\",\"leave\",\"du\",\"une\",\"guess\",\"hit\",\"\\u0441\",\"pm\",\"since\",\"pues\",\"est\",\"job\",\"\\uff89\",\"mana\",\"bom\",\"siapa\",\"suka\",\"bieber\",\"mention\",\"lebih\",\"favorite\",\"bitches\",\"forever\",\"\\u0644\\u064a\",\"final\",\"read\",\"alguien\",\"open\",\"yourself\",\"ese\",\"che\",\"sex\",\"yaa\",\"car\",\"direction\",\"tidak\",\"seu\",\"gets\",\"left\",\"re\",\"jam\",\"enough\",\"\\u0625\\u0644\\u0627\",\"once\",\"\\u2019\",\"part\",\"cada\",\"\\u5b9a\\u671f\",\"\\u0644\\u0643\",\"een\",\"seen\",\"kak\",\"as\\u00ed\",\"nem\",\"\\u0639\\u0645\\u0644\",\"white\",\"told\",\"says\",\"esto\",\"sad\",\"mo\",\"fue\",\"yah\",\"summer\",\"\\u0647\",\"\\u2b55\",\"\\u00bb\",\"thats\",\"\\u0645\\u0639\",\"posted\",\"wants\",\"agora\",\"together\",\"fan\",\"men\",\"hear\",\"full\",\"\\u2600\",\"sigo\",\"pq\",\"dulu\",\"plus\",\"foi\",\"tudo\",\"\\u0647\\u0648\",\"ill\",\"\\u3042\",\"thinking\",\"wtf\",\"pagi\",\"mama\",\"kalau\",\"hati\",\"sexy\",\"sayang\",\"baik\",\"semua\",\"hola\",\"went\",\"vos\",\"tanto\",\"finally\",\"fb\",\"sea\",\"stupid\",\"tus\",\"seriously\",\"hora\",\"min\",\"pic\",\"estas\",\"turn\",\"hours\",\"excited\",\"nah\",\"buy\",\"saying\",\"mah\",\"break\",\"needs\",\"ce\",\"room\",\"choice\",\"far\",\"dead\",\"quero\",\"saw\",\"kids\",\"lil\",\"whole\",\"puede\",\"fall\",\"sus\",\"lost\",\"asi\",\"word\",\"\\u2639\",\"also\",\"\\u0631\\u064a\\u062a\\u0648\\u064a\\u062a\",\"probably\",\"everybody\",\"tarde\",\"run\",\"sei\",\"follback\",\"forget\",\"sweet\",\"welcome\",\"selamat\",\"\\uff3f\",\"sur\",\"place\",\"gusta\",\"sabe\",\"androidgames\",\"tp\",\"tiempo\",\"\\u0628\\u0633\",\"sou\",\"tuh\",\"vs\",\"eyes\",\"\\u0627\\u0646\\u0627\",\"picture\",\"das\",\"meet\",\"anak\",\"persona\",\"essa\",\"bored\",\"following\",\"nadie\",\"nobody\",\"dice\",\"alone\",\"sick\",\"red\",\"city\",\"cinta\",\"\\u6708\",\"linda\",\"dream\",\"story\",\"km\",\"het\",\"waiting\",\"^_^\",\"mine\",\"\\u0447\\u0442\\u043e\",\"reason\",\"kk\",\"\\u0644\\u0648\",\"online\",\"fast\",\"udh\",\"wanted\",\"op\",\"others\",\"gay\",\"n\\u2019t\",\"used\",\"sem\",\"understand\",\"moi\",\"sm\",\"aint\",\"donde\",\"bem\",\"which\",\"ng\",\"followback\",\"punya\",\"late\",\"anda\",\"tidur\",\"puedo\",\"early\",\"nd\",\"personas\",\"banyak\",\"\\u2705\",\"\\u278a\",\"trust\",\"noche\",\"tl\",\"\\uff1e\",\"\\u00ab\",\"af\",\"move\",\"pro\",\"bring\",\"ku\",\"called\",\"relationship\",\"idk\",\"hurt\",\"st\",\"pernah\",\"pessoas\",\"hello\",\"uno\",\"unfollowers\",\"cry\"],\"x\":{\"__ndarray__\":\"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\",\"dtype\":\"float64\",\"shape\":[1000]},\"y\":{\"__ndarray__\":\"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\",\"dtype\":\"float64\",\"shape\":[1000]}},\"selected\":{\"id\":\"1050\",\"type\":\"Selection\"},\"selection_policy\":{\"id\":\"1051\",\"type\":\"UnionRenderers\"}},\"id\":\"1002\",\"type\":\"ColumnDataSource\"},{\"attributes\":{},\"id\":\"1018\",\"type\":\"BasicTicker\"},{\"attributes\":{\"callback\":null},\"id\":\"1004\",\"type\":\"DataRange1d\"},{\"attributes\":{\"dimension\":1,\"plot\":{\"id\":\"1003\",\"subtype\":\"Figure\",\"type\":\"Plot\"},\"ticker\":{\"id\":\"1018\",\"type\":\"BasicTicker\"}},\"id\":\"1021\",\"type\":\"Grid\"},{\"attributes\":{\"formatter\":{\"id\":\"1046\",\"type\":\"BasicTickFormatter\"},\"plot\":{\"id\":\"1003\",\"subtype\":\"Figure\",\"type\":\"Plot\"},\"ticker\":{\"id\":\"1018\",\"type\":\"BasicTicker\"}},\"id\":\"1017\",\"type\":\"LinearAxis\"},{\"attributes\":{\"callback\":null},\"id\":\"1006\",\"type\":\"DataRange1d\"},{\"attributes\":{\"formatter\":{\"id\":\"1048\",\"type\":\"BasicTickFormatter\"},\"plot\":{\"id\":\"1003\",\"subtype\":\"Figure\",\"type\":\"Plot\"},\"ticker\":{\"id\":\"1013\",\"type\":\"BasicTicker\"}},\"id\":\"1012\",\"type\":\"LinearAxis\"},{\"attributes\":{\"callback\":null,\"tooltips\":[[\"token\",\"@token\"]]},\"id\":\"1042\",\"type\":\"HoverTool\"},{\"attributes\":{},\"id\":\"1010\",\"type\":\"LinearScale\"},{\"attributes\":{\"plot\":null,\"text\":\"\"},\"id\":\"1045\",\"type\":\"Title\"},{\"attributes\":{\"fill_alpha\":{\"value\":0.25},\"fill_color\":{\"field\":\"color\"},\"line_alpha\":{\"value\":0.25},\"line_color\":{\"field\":\"color\"},\"size\":{\"units\":\"screen\",\"value\":10},\"x\":{\"field\":\"x\"},\"y\":{\"field\":\"y\"}},\"id\":\"1038\",\"type\":\"Scatter\"},{\"attributes\":{\"data_source\":{\"id\":\"1002\",\"type\":\"ColumnDataSource\"},\"glyph\":{\"id\":\"1038\",\"type\":\"Scatter\"},\"hover_glyph\":null,\"muted_glyph\":null,\"nonselection_glyph\":{\"id\":\"1039\",\"type\":\"Scatter\"},\"selection_glyph\":null,\"view\":{\"id\":\"1041\",\"type\":\"CDSView\"}},\"id\":\"1040\",\"type\":\"GlyphRenderer\"},{\"attributes\":{},\"id\":\"1048\",\"type\":\"BasicTickFormatter\"},{\"attributes\":{},\"id\":\"1026\",\"type\":\"ResetTool\"},{\"attributes\":{},\"id\":\"1008\",\"type\":\"LinearScale\"},{\"attributes\":{},\"id\":\"1050\",\"type\":\"Selection\"},{\"attributes\":{},\"id\":\"1013\",\"type\":\"BasicTicker\"},{\"attributes\":{\"source\":{\"id\":\"1002\",\"type\":\"ColumnDataSource\"}},\"id\":\"1041\",\"type\":\"CDSView\"},{\"attributes\":{},\"id\":\"1051\",\"type\":\"UnionRenderers\"},{\"attributes\":{\"plot\":{\"id\":\"1003\",\"subtype\":\"Figure\",\"type\":\"Plot\"},\"ticker\":{\"id\":\"1013\",\"type\":\"BasicTicker\"}},\"id\":\"1016\",\"type\":\"Grid\"}],\"root_ids\":[\"1003\"]},\"title\":\"Bokeh Application\",\"version\":\"1.0.2\"}};\n",
       "  var render_items = [{\"docid\":\"542d5ad5-0a91-4bde-868c-73c81ad80e31\",\"roots\":{\"1003\":\"ade4a960-c83c-435d-ba11-5756ab20373e\"}}];\n",
       "  root.Bokeh.embed.embed_items_notebook(docs_json, render_items);\n",
       "\n",
       "  }\n",
       "  if (root.Bokeh !== undefined) {\n",
       "    embed_document(root);\n",
       "  } else {\n",
       "    var attempts = 0;\n",
       "    var timer = setInterval(function(root) {\n",
       "      if (root.Bokeh !== undefined) {\n",
       "        embed_document(root);\n",
       "        clearInterval(timer);\n",
       "      }\n",
       "      attempts++;\n",
       "      if (attempts > 100) {\n",
       "        console.log(\"Bokeh: ERROR: Unable to run BokehJS code because BokehJS library is missing\");\n",
       "        clearInterval(timer);\n",
       "      }\n",
       "    }, 10, root)\n",
       "  }\n",
       "})(window);"
      ],
      "application/vnd.bokehjs_exec.v0+json": ""
     },
     "metadata": {
      "application/vnd.bokehjs_exec.v0+json": {
       "id": "1003"
      },
      "tags": []
     },
     "output_type": "display_data"
    },
    {
     "data": {
      "text/html": [
       "<div style=\"display: table;\"><div style=\"display: table-row;\"><div style=\"display: table-cell;\"><b title=\"bokeh.plotting.figure.Figure\">Figure</b>(</div><div style=\"display: table-cell;\">id&nbsp;=&nbsp;'1003', <span id=\"1108\" style=\"cursor: pointer;\">&hellip;)</span></div></div><div class=\"1107\" style=\"display: none;\"><div style=\"display: table-cell;\"></div><div style=\"display: table-cell;\">above&nbsp;=&nbsp;[],</div></div><div class=\"1107\" style=\"display: none;\"><div style=\"display: table-cell;\"></div><div style=\"display: table-cell;\">aspect_scale&nbsp;=&nbsp;1,</div></div><div class=\"1107\" style=\"display: none;\"><div style=\"display: table-cell;\"></div><div style=\"display: table-cell;\">background_fill_alpha&nbsp;=&nbsp;{'value': 1.0},</div></div><div class=\"1107\" style=\"display: none;\"><div style=\"display: table-cell;\"></div><div style=\"display: table-cell;\">background_fill_color&nbsp;=&nbsp;{'value': '#ffffff'},</div></div><div class=\"1107\" style=\"display: none;\"><div style=\"display: table-cell;\"></div><div style=\"display: table-cell;\">below&nbsp;=&nbsp;[LinearAxis(id='1012', ...)],</div></div><div class=\"1107\" style=\"display: none;\"><div style=\"display: table-cell;\"></div><div style=\"display: table-cell;\">border_fill_alpha&nbsp;=&nbsp;{'value': 1.0},</div></div><div class=\"1107\" style=\"display: none;\"><div style=\"display: table-cell;\"></div><div style=\"display: table-cell;\">border_fill_color&nbsp;=&nbsp;{'value': '#ffffff'},</div></div><div class=\"1107\" style=\"display: none;\"><div style=\"display: table-cell;\"></div><div style=\"display: table-cell;\">css_classes&nbsp;=&nbsp;[],</div></div><div class=\"1107\" style=\"display: none;\"><div style=\"display: table-cell;\"></div><div style=\"display: table-cell;\">disabled&nbsp;=&nbsp;False,</div></div><div class=\"1107\" style=\"display: none;\"><div style=\"display: table-cell;\"></div><div style=\"display: table-cell;\">extra_x_ranges&nbsp;=&nbsp;{},</div></div><div class=\"1107\" style=\"display: none;\"><div style=\"display: table-cell;\"></div><div style=\"display: table-cell;\">extra_y_ranges&nbsp;=&nbsp;{},</div></div><div class=\"1107\" style=\"display: none;\"><div style=\"display: table-cell;\"></div><div style=\"display: table-cell;\">h_symmetry&nbsp;=&nbsp;True,</div></div><div class=\"1107\" style=\"display: none;\"><div style=\"display: table-cell;\"></div><div style=\"display: table-cell;\">height&nbsp;=&nbsp;None,</div></div><div class=\"1107\" style=\"display: none;\"><div style=\"display: table-cell;\"></div><div style=\"display: table-cell;\">hidpi&nbsp;=&nbsp;True,</div></div><div class=\"1107\" style=\"display: none;\"><div style=\"display: table-cell;\"></div><div style=\"display: table-cell;\">js_event_callbacks&nbsp;=&nbsp;{},</div></div><div class=\"1107\" style=\"display: none;\"><div style=\"display: table-cell;\"></div><div style=\"display: table-cell;\">js_property_callbacks&nbsp;=&nbsp;{},</div></div><div class=\"1107\" style=\"display: none;\"><div style=\"display: table-cell;\"></div><div style=\"display: table-cell;\">left&nbsp;=&nbsp;[LinearAxis(id='1017', ...)],</div></div><div class=\"1107\" style=\"display: none;\"><div style=\"display: table-cell;\"></div><div style=\"display: table-cell;\">lod_factor&nbsp;=&nbsp;10,</div></div><div class=\"1107\" style=\"display: none;\"><div style=\"display: table-cell;\"></div><div style=\"display: table-cell;\">lod_interval&nbsp;=&nbsp;300,</div></div><div class=\"1107\" style=\"display: none;\"><div style=\"display: table-cell;\"></div><div style=\"display: table-cell;\">lod_threshold&nbsp;=&nbsp;2000,</div></div><div class=\"1107\" style=\"display: none;\"><div style=\"display: table-cell;\"></div><div style=\"display: table-cell;\">lod_timeout&nbsp;=&nbsp;500,</div></div><div class=\"1107\" style=\"display: none;\"><div style=\"display: table-cell;\"></div><div style=\"display: table-cell;\">match_aspect&nbsp;=&nbsp;False,</div></div><div class=\"1107\" style=\"display: none;\"><div style=\"display: table-cell;\"></div><div style=\"display: table-cell;\">min_border&nbsp;=&nbsp;5,</div></div><div class=\"1107\" style=\"display: none;\"><div style=\"display: table-cell;\"></div><div style=\"display: table-cell;\">min_border_bottom&nbsp;=&nbsp;None,</div></div><div class=\"1107\" style=\"display: none;\"><div style=\"display: table-cell;\"></div><div style=\"display: table-cell;\">min_border_left&nbsp;=&nbsp;None,</div></div><div class=\"1107\" style=\"display: none;\"><div style=\"display: table-cell;\"></div><div style=\"display: table-cell;\">min_border_right&nbsp;=&nbsp;None,</div></div><div class=\"1107\" style=\"display: none;\"><div style=\"display: table-cell;\"></div><div style=\"display: table-cell;\">min_border_top&nbsp;=&nbsp;None,</div></div><div class=\"1107\" style=\"display: none;\"><div style=\"display: table-cell;\"></div><div style=\"display: table-cell;\">name&nbsp;=&nbsp;None,</div></div><div class=\"1107\" style=\"display: none;\"><div style=\"display: table-cell;\"></div><div style=\"display: table-cell;\">outline_line_alpha&nbsp;=&nbsp;{'value': 1.0},</div></div><div class=\"1107\" style=\"display: none;\"><div style=\"display: table-cell;\"></div><div style=\"display: table-cell;\">outline_line_cap&nbsp;=&nbsp;'butt',</div></div><div class=\"1107\" style=\"display: none;\"><div style=\"display: table-cell;\"></div><div style=\"display: table-cell;\">outline_line_color&nbsp;=&nbsp;{'value': '#e5e5e5'},</div></div><div class=\"1107\" style=\"display: none;\"><div style=\"display: table-cell;\"></div><div style=\"display: table-cell;\">outline_line_dash&nbsp;=&nbsp;[],</div></div><div class=\"1107\" style=\"display: none;\"><div style=\"display: table-cell;\"></div><div style=\"display: table-cell;\">outline_line_dash_offset&nbsp;=&nbsp;0,</div></div><div class=\"1107\" style=\"display: none;\"><div style=\"display: table-cell;\"></div><div style=\"display: table-cell;\">outline_line_join&nbsp;=&nbsp;'bevel',</div></div><div class=\"1107\" style=\"display: none;\"><div style=\"display: table-cell;\"></div><div style=\"display: table-cell;\">outline_line_width&nbsp;=&nbsp;{'value': 1},</div></div><div class=\"1107\" style=\"display: none;\"><div style=\"display: table-cell;\"></div><div style=\"display: table-cell;\">output_backend&nbsp;=&nbsp;'canvas',</div></div><div class=\"1107\" style=\"display: none;\"><div style=\"display: table-cell;\"></div><div style=\"display: table-cell;\">plot_height&nbsp;=&nbsp;400,</div></div><div class=\"1107\" style=\"display: none;\"><div style=\"display: table-cell;\"></div><div style=\"display: table-cell;\">plot_width&nbsp;=&nbsp;600,</div></div><div class=\"1107\" style=\"display: none;\"><div style=\"display: table-cell;\"></div><div style=\"display: table-cell;\">renderers&nbsp;=&nbsp;[LinearAxis(id='1012', ...), Grid(id='1016', ...), LinearAxis(id='1017', ...), Grid(id='1021', ...), BoxAnnotation(id='1030', ...), GlyphRenderer(id='1040', ...)],</div></div><div class=\"1107\" style=\"display: none;\"><div style=\"display: table-cell;\"></div><div style=\"display: table-cell;\">right&nbsp;=&nbsp;[],</div></div><div class=\"1107\" style=\"display: none;\"><div style=\"display: table-cell;\"></div><div style=\"display: table-cell;\">sizing_mode&nbsp;=&nbsp;'fixed',</div></div><div class=\"1107\" style=\"display: none;\"><div style=\"display: table-cell;\"></div><div style=\"display: table-cell;\">subscribed_events&nbsp;=&nbsp;[],</div></div><div class=\"1107\" style=\"display: none;\"><div style=\"display: table-cell;\"></div><div style=\"display: table-cell;\">tags&nbsp;=&nbsp;[],</div></div><div class=\"1107\" style=\"display: none;\"><div style=\"display: table-cell;\"></div><div style=\"display: table-cell;\">title&nbsp;=&nbsp;Title(id='1045', ...),</div></div><div class=\"1107\" style=\"display: none;\"><div style=\"display: table-cell;\"></div><div style=\"display: table-cell;\">title_location&nbsp;=&nbsp;'above',</div></div><div class=\"1107\" style=\"display: none;\"><div style=\"display: table-cell;\"></div><div style=\"display: table-cell;\">toolbar&nbsp;=&nbsp;Toolbar(id='1028', ...),</div></div><div class=\"1107\" style=\"display: none;\"><div style=\"display: table-cell;\"></div><div style=\"display: table-cell;\">toolbar_location&nbsp;=&nbsp;'right',</div></div><div class=\"1107\" style=\"display: none;\"><div style=\"display: table-cell;\"></div><div style=\"display: table-cell;\">toolbar_sticky&nbsp;=&nbsp;True,</div></div><div class=\"1107\" style=\"display: none;\"><div style=\"display: table-cell;\"></div><div style=\"display: table-cell;\">v_symmetry&nbsp;=&nbsp;False,</div></div><div class=\"1107\" style=\"display: none;\"><div style=\"display: table-cell;\"></div><div style=\"display: table-cell;\">width&nbsp;=&nbsp;None,</div></div><div class=\"1107\" style=\"display: none;\"><div style=\"display: table-cell;\"></div><div style=\"display: table-cell;\">x_range&nbsp;=&nbsp;DataRange1d(id='1004', ...),</div></div><div class=\"1107\" style=\"display: none;\"><div style=\"display: table-cell;\"></div><div style=\"display: table-cell;\">x_scale&nbsp;=&nbsp;LinearScale(id='1008', ...),</div></div><div class=\"1107\" style=\"display: none;\"><div style=\"display: table-cell;\"></div><div style=\"display: table-cell;\">y_range&nbsp;=&nbsp;DataRange1d(id='1006', ...),</div></div><div class=\"1107\" style=\"display: none;\"><div style=\"display: table-cell;\"></div><div style=\"display: table-cell;\">y_scale&nbsp;=&nbsp;LinearScale(id='1010', ...))</div></div></div>\n",
       "<script>\n",
       "(function() {\n",
       "  var expanded = false;\n",
       "  var ellipsis = document.getElementById(\"1108\");\n",
       "  ellipsis.addEventListener(\"click\", function() {\n",
       "    var rows = document.getElementsByClassName(\"1107\");\n",
       "    for (var i = 0; i < rows.length; i++) {\n",
       "      var el = rows[i];\n",
       "      el.style.display = expanded ? \"none\" : \"table-row\";\n",
       "    }\n",
       "    ellipsis.innerHTML = expanded ? \"&hellip;)\" : \"&lsaquo;&lsaquo;&lsaquo;\";\n",
       "    expanded = !expanded;\n",
       "  });\n",
       "})();\n",
       "</script>\n"
      ],
      "text/plain": [
       "Figure(id='1003', ...)"
      ]
     },
     "execution_count": 25,
     "metadata": {
      "tags": []
     },
     "output_type": "execute_result"
    }
   ],
   "source": [
    "draw_vectors(word_vectors_pca[:, 0], word_vectors_pca[:, 1], token=words)\n",
    "\n",
    "# hover a mouse over there and see if you can identify the clusters"
   ]
  },
  {
   "cell_type": "markdown",
   "metadata": {
    "colab_type": "text",
    "id": "UlfzzMJ8HSQQ"
   },
   "source": [
    "### Visualizing neighbors with t-SNE\n",
    "PCA is nice but it's strictly linear and thus only able to capture coarse high-level structure of the data.\n",
    "\n",
    "If we instead want to focus on keeping neighboring points near, we could use TSNE, which is itself an embedding method. Here you can read __[more on TSNE](https://distill.pub/2016/misread-tsne/)__."
   ]
  },
  {
   "cell_type": "code",
   "execution_count": 26,
   "metadata": {
    "colab": {
     "base_uri": "https://localhost:8080/",
     "height": 581
    },
    "colab_type": "code",
    "id": "NCM6LGqcHSQS",
    "outputId": "ff7130af-1367-47a8-b336-4fb176a3b1ed"
   },
   "outputs": [
    {
     "name": "stdout",
     "output_type": "stream",
     "text": [
      "[t-SNE] Computing 91 nearest neighbors...\n",
      "[t-SNE] Indexed 1000 samples in 0.003s...\n",
      "[t-SNE] Computed neighbors for 1000 samples in 0.241s...\n",
      "[t-SNE] Computed conditional probabilities for sample 1000 / 1000\n",
      "[t-SNE] Mean sigma: 1.716134\n",
      "[t-SNE] Computed conditional probabilities in 0.057s\n",
      "[t-SNE] Iteration 50: error = 68.8735352, gradient norm = 0.3093952 (50 iterations in 2.038s)\n",
      "[t-SNE] Iteration 100: error = 68.6248093, gradient norm = 0.3035527 (50 iterations in 1.622s)\n",
      "[t-SNE] Iteration 150: error = 68.3412857, gradient norm = 0.2989291 (50 iterations in 1.599s)\n",
      "[t-SNE] Iteration 200: error = 69.2266388, gradient norm = 0.2853951 (50 iterations in 1.571s)\n",
      "[t-SNE] Iteration 250: error = 69.2950745, gradient norm = 0.2838839 (50 iterations in 1.658s)\n",
      "[t-SNE] KL divergence after 250 iterations with early exaggeration: 69.295074\n",
      "[t-SNE] Iteration 300: error = 1.2443764, gradient norm = 0.0024609 (50 iterations in 1.419s)\n",
      "[t-SNE] Iteration 350: error = 1.1142710, gradient norm = 0.0006647 (50 iterations in 1.274s)\n",
      "[t-SNE] Iteration 400: error = 1.0806539, gradient norm = 0.0003302 (50 iterations in 1.109s)\n",
      "[t-SNE] Iteration 450: error = 1.0649726, gradient norm = 0.0001991 (50 iterations in 1.104s)\n",
      "[t-SNE] Iteration 500: error = 1.0575156, gradient norm = 0.0001398 (50 iterations in 1.133s)\n",
      "[t-SNE] Iteration 550: error = 1.0524930, gradient norm = 0.0001495 (50 iterations in 1.173s)\n",
      "[t-SNE] Iteration 600: error = 1.0495758, gradient norm = 0.0001353 (50 iterations in 1.189s)\n",
      "[t-SNE] Iteration 650: error = 1.0466871, gradient norm = 0.0001982 (50 iterations in 1.151s)\n",
      "[t-SNE] Iteration 700: error = 1.0448308, gradient norm = 0.0001076 (50 iterations in 1.156s)\n",
      "[t-SNE] Iteration 750: error = 1.0431057, gradient norm = 0.0001072 (50 iterations in 1.121s)\n",
      "[t-SNE] Iteration 800: error = 1.0416303, gradient norm = 0.0000803 (50 iterations in 1.121s)\n",
      "[t-SNE] Iteration 850: error = 1.0407355, gradient norm = 0.0001093 (50 iterations in 1.128s)\n",
      "[t-SNE] Iteration 900: error = 1.0399218, gradient norm = 0.0000740 (50 iterations in 1.118s)\n",
      "[t-SNE] Iteration 950: error = 1.0392922, gradient norm = 0.0000734 (50 iterations in 1.095s)\n",
      "[t-SNE] Iteration 1000: error = 1.0389721, gradient norm = 0.0000878 (50 iterations in 1.142s)\n",
      "[t-SNE] KL divergence after 1000 iterations: 1.038972\n"
     ]
    },
    {
     "name": "stderr",
     "output_type": "stream",
     "text": [
      "/usr/local/lib/python3.6/dist-packages/sklearn/preprocessing/data.py:176: UserWarning: Numerical issues were encountered when centering the data and might not be solved. Dataset may contain too large values. You may need to prescale your features.\n",
      "  warnings.warn(\"Numerical issues were encountered \"\n",
      "/usr/local/lib/python3.6/dist-packages/sklearn/preprocessing/data.py:193: UserWarning: Numerical issues were encountered when scaling the data and might not be solved. The standard deviation of the data is probably very close to 0. \n",
      "  warnings.warn(\"Numerical issues were encountered \"\n"
     ]
    }
   ],
   "source": [
    "from sklearn.manifold import TSNE\n",
    "from sklearn.preprocessing import scale\n",
    "\n",
    "# map word vectors onto 2d plane with TSNE. hint: use verbose=100 to see what it's doing.\n",
    "# normalize them as just lke with pca\n",
    "\n",
    "tsne = TSNE(n_components=2, verbose=100, random_state=1234)\n",
    "word_tsne = tsne.fit_transform(word_vectors)\n",
    "word_tsne = scale(word_tsne)"
   ]
  },
  {
   "cell_type": "code",
   "execution_count": 27,
   "metadata": {
    "colab": {
     "base_uri": "https://localhost:8080/",
     "height": 34
    },
    "colab_type": "code",
    "id": "OsYCIUbZHSQX",
    "outputId": "f33f3545-0120-47ec-d90f-bffb1bdbecfd",
    "scrolled": false
   },
   "outputs": [
    {
     "data": {
      "text/html": [
       "\n",
       "\n",
       "\n",
       "\n",
       "\n",
       "\n",
       "  <div class=\"bk-root\" id=\"e3d1ef1b-8519-40dd-b153-de6ebaf0ae93\"></div>\n"
      ]
     },
     "metadata": {
      "tags": []
     },
     "output_type": "display_data"
    },
    {
     "data": {
      "application/javascript": [
       "(function(root) {\n",
       "  function embed_document(root) {\n",
       "    \n",
       "  var docs_json = {\"0ff586e7-5e19-4749-9888-b9afe920016c\":{\"roots\":{\"references\":[{\"attributes\":{\"below\":[{\"id\":\"1121\",\"type\":\"LinearAxis\"}],\"left\":[{\"id\":\"1126\",\"type\":\"LinearAxis\"}],\"plot_height\":400,\"renderers\":[{\"id\":\"1121\",\"type\":\"LinearAxis\"},{\"id\":\"1125\",\"type\":\"Grid\"},{\"id\":\"1126\",\"type\":\"LinearAxis\"},{\"id\":\"1130\",\"type\":\"Grid\"},{\"id\":\"1139\",\"type\":\"BoxAnnotation\"},{\"id\":\"1149\",\"type\":\"GlyphRenderer\"}],\"title\":{\"id\":\"1163\",\"type\":\"Title\"},\"toolbar\":{\"id\":\"1137\",\"type\":\"Toolbar\"},\"x_range\":{\"id\":\"1113\",\"type\":\"DataRange1d\"},\"x_scale\":{\"id\":\"1117\",\"type\":\"LinearScale\"},\"y_range\":{\"id\":\"1115\",\"type\":\"DataRange1d\"},\"y_scale\":{\"id\":\"1119\",\"type\":\"LinearScale\"}},\"id\":\"1112\",\"subtype\":\"Figure\",\"type\":\"Plot\"},{\"attributes\":{\"callback\":null},\"id\":\"1115\",\"type\":\"DataRange1d\"},{\"attributes\":{},\"id\":\"1164\",\"type\":\"BasicTickFormatter\"},{\"attributes\":{},\"id\":\"1166\",\"type\":\"BasicTickFormatter\"},{\"attributes\":{\"dimension\":1,\"plot\":{\"id\":\"1112\",\"subtype\":\"Figure\",\"type\":\"Plot\"},\"ticker\":{\"id\":\"1127\",\"type\":\"BasicTicker\"}},\"id\":\"1130\",\"type\":\"Grid\"},{\"attributes\":{\"fill_alpha\":{\"value\":0.1},\"fill_color\":{\"value\":\"#1f77b4\"},\"line_alpha\":{\"value\":0.1},\"line_color\":{\"value\":\"#1f77b4\"},\"size\":{\"units\":\"screen\",\"value\":10},\"x\":{\"field\":\"x\"},\"y\":{\"field\":\"y\"}},\"id\":\"1148\",\"type\":\"Scatter\"},{\"attributes\":{\"fill_alpha\":{\"value\":0.25},\"fill_color\":{\"field\":\"color\"},\"line_alpha\":{\"value\":0.25},\"line_color\":{\"field\":\"color\"},\"size\":{\"units\":\"screen\",\"value\":10},\"x\":{\"field\":\"x\"},\"y\":{\"field\":\"y\"}},\"id\":\"1147\",\"type\":\"Scatter\"},{\"attributes\":{},\"id\":\"1168\",\"type\":\"Selection\"},{\"attributes\":{\"active_drag\":\"auto\",\"active_inspect\":\"auto\",\"active_multi\":null,\"active_scroll\":{\"id\":\"1132\",\"type\":\"WheelZoomTool\"},\"active_tap\":\"auto\",\"tools\":[{\"id\":\"1131\",\"type\":\"PanTool\"},{\"id\":\"1132\",\"type\":\"WheelZoomTool\"},{\"id\":\"1133\",\"type\":\"BoxZoomTool\"},{\"id\":\"1134\",\"type\":\"SaveTool\"},{\"id\":\"1135\",\"type\":\"ResetTool\"},{\"id\":\"1136\",\"type\":\"HelpTool\"},{\"id\":\"1151\",\"type\":\"HoverTool\"}]},\"id\":\"1137\",\"type\":\"Toolbar\"},{\"attributes\":{},\"id\":\"1131\",\"type\":\"PanTool\"},{\"attributes\":{\"formatter\":{\"id\":\"1166\",\"type\":\"BasicTickFormatter\"},\"plot\":{\"id\":\"1112\",\"subtype\":\"Figure\",\"type\":\"Plot\"},\"ticker\":{\"id\":\"1122\",\"type\":\"BasicTicker\"}},\"id\":\"1121\",\"type\":\"LinearAxis\"},{\"attributes\":{},\"id\":\"1132\",\"type\":\"WheelZoomTool\"},{\"attributes\":{},\"id\":\"1169\",\"type\":\"UnionRenderers\"},{\"attributes\":{\"overlay\":{\"id\":\"1139\",\"type\":\"BoxAnnotation\"}},\"id\":\"1133\",\"type\":\"BoxZoomTool\"},{\"attributes\":{},\"id\":\"1122\",\"type\":\"BasicTicker\"},{\"attributes\":{},\"id\":\"1134\",\"type\":\"SaveTool\"},{\"attributes\":{\"plot\":{\"id\":\"1112\",\"subtype\":\"Figure\",\"type\":\"Plot\"},\"ticker\":{\"id\":\"1122\",\"type\":\"BasicTicker\"}},\"id\":\"1125\",\"type\":\"Grid\"},{\"attributes\":{},\"id\":\"1117\",\"type\":\"LinearScale\"},{\"attributes\":{},\"id\":\"1135\",\"type\":\"ResetTool\"},{\"attributes\":{\"formatter\":{\"id\":\"1164\",\"type\":\"BasicTickFormatter\"},\"plot\":{\"id\":\"1112\",\"subtype\":\"Figure\",\"type\":\"Plot\"},\"ticker\":{\"id\":\"1127\",\"type\":\"BasicTicker\"}},\"id\":\"1126\",\"type\":\"LinearAxis\"},{\"attributes\":{},\"id\":\"1136\",\"type\":\"HelpTool\"},{\"attributes\":{},\"id\":\"1119\",\"type\":\"LinearScale\"},{\"attributes\":{\"callback\":null},\"id\":\"1113\",\"type\":\"DataRange1d\"},{\"attributes\":{\"bottom_units\":\"screen\",\"fill_alpha\":{\"value\":0.5},\"fill_color\":{\"value\":\"lightgrey\"},\"left_units\":\"screen\",\"level\":\"overlay\",\"line_alpha\":{\"value\":1.0},\"line_color\":{\"value\":\"black\"},\"line_dash\":[4,4],\"line_width\":{\"value\":2},\"plot\":null,\"render_mode\":\"css\",\"right_units\":\"screen\",\"top_units\":\"screen\"},\"id\":\"1139\",\"type\":\"BoxAnnotation\"},{\"attributes\":{\"data_source\":{\"id\":\"1111\",\"type\":\"ColumnDataSource\"},\"glyph\":{\"id\":\"1147\",\"type\":\"Scatter\"},\"hover_glyph\":null,\"muted_glyph\":null,\"nonselection_glyph\":{\"id\":\"1148\",\"type\":\"Scatter\"},\"selection_glyph\":null,\"view\":{\"id\":\"1150\",\"type\":\"CDSView\"}},\"id\":\"1149\",\"type\":\"GlyphRenderer\"},{\"attributes\":{\"callback\":null,\"data\":{\"color\":[\"green\",\"green\",\"green\",\"green\",\"green\",\"green\",\"green\",\"green\",\"green\",\"green\",\"green\",\"green\",\"green\",\"green\",\"green\",\"green\",\"green\",\"green\",\"green\",\"green\",\"green\",\"green\",\"green\",\"green\",\"green\",\"green\",\"green\",\"green\",\"green\",\"green\",\"green\",\"green\",\"green\",\"green\",\"green\",\"green\",\"green\",\"green\",\"green\",\"green\",\"green\",\"green\",\"green\",\"green\",\"green\",\"green\",\"green\",\"green\",\"green\",\"green\",\"green\",\"green\",\"green\",\"green\",\"green\",\"green\",\"green\",\"green\",\"green\",\"green\",\"green\",\"green\",\"green\",\"green\",\"green\",\"green\",\"green\",\"green\",\"green\",\"green\",\"green\",\"green\",\"green\",\"green\",\"green\",\"green\",\"green\",\"green\",\"green\",\"green\",\"green\",\"green\",\"green\",\"green\",\"green\",\"green\",\"green\",\"green\",\"green\",\"green\",\"green\",\"green\",\"green\",\"green\",\"green\",\"green\",\"green\",\"green\",\"green\",\"green\",\"green\",\"green\",\"green\",\"green\",\"green\",\"green\",\"green\",\"green\",\"green\",\"green\",\"green\",\"green\",\"green\",\"green\",\"green\",\"green\",\"green\",\"green\",\"green\",\"green\",\"green\",\"green\",\"green\",\"green\",\"green\",\"green\",\"green\",\"green\",\"green\",\"green\",\"green\",\"green\",\"green\",\"green\",\"green\",\"green\",\"green\",\"green\",\"green\",\"green\",\"green\",\"green\",\"green\",\"green\",\"green\",\"green\",\"green\",\"green\",\"green\",\"green\",\"green\",\"green\",\"green\",\"green\",\"green\",\"green\",\"green\",\"green\",\"green\",\"green\",\"green\",\"green\",\"green\",\"green\",\"green\",\"green\",\"green\",\"green\",\"green\",\"green\",\"green\",\"green\",\"green\",\"green\",\"green\",\"green\",\"green\",\"green\",\"green\",\"green\",\"green\",\"green\",\"green\",\"green\",\"green\",\"green\",\"green\",\"green\",\"green\",\"green\",\"green\",\"green\",\"green\",\"green\",\"green\",\"green\",\"green\",\"green\",\"green\",\"green\",\"green\",\"green\",\"green\",\"green\",\"green\",\"green\",\"green\",\"green\",\"green\",\"green\",\"green\",\"green\",\"green\",\"green\",\"green\",\"green\",\"green\",\"green\",\"green\",\"green\",\"green\",\"green\",\"green\",\"green\",\"green\",\"green\",\"green\",\"green\",\"green\",\"green\",\"green\",\"green\",\"green\",\"green\",\"green\",\"green\",\"green\",\"green\",\"green\",\"green\",\"green\",\"green\",\"green\",\"green\",\"green\",\"green\",\"green\",\"green\",\"green\",\"green\",\"green\",\"green\",\"green\",\"green\",\"green\",\"green\",\"green\",\"green\",\"green\",\"green\",\"green\",\"green\",\"green\",\"green\",\"green\",\"green\",\"green\",\"green\",\"green\",\"green\",\"green\",\"green\",\"green\",\"green\",\"green\",\"green\",\"green\",\"green\",\"green\",\"green\",\"green\",\"green\",\"green\",\"green\",\"green\",\"green\",\"green\",\"green\",\"green\",\"green\",\"green\",\"green\",\"green\",\"green\",\"green\",\"green\",\"green\",\"green\",\"green\",\"green\",\"green\",\"green\",\"green\",\"green\",\"green\",\"green\",\"green\",\"green\",\"green\",\"green\",\"green\",\"green\",\"green\",\"green\",\"green\",\"green\",\"green\",\"green\",\"green\",\"green\",\"green\",\"green\",\"green\",\"green\",\"green\",\"green\",\"green\",\"green\",\"green\",\"green\",\"green\",\"green\",\"green\",\"green\",\"green\",\"green\",\"green\",\"green\",\"green\",\"green\",\"green\",\"green\",\"green\",\"green\",\"green\",\"green\",\"green\",\"green\",\"green\",\"green\",\"green\",\"green\",\"green\",\"green\",\"green\",\"green\",\"green\",\"green\",\"green\",\"green\",\"green\",\"green\",\"green\",\"green\",\"green\",\"green\",\"green\",\"green\",\"green\",\"green\",\"green\",\"green\",\"green\",\"green\",\"green\",\"green\",\"green\",\"green\",\"green\",\"green\",\"green\",\"green\",\"green\",\"green\",\"green\",\"green\",\"green\",\"green\",\"green\",\"green\",\"green\",\"green\",\"green\",\"green\",\"green\",\"green\",\"green\",\"green\",\"green\",\"green\",\"green\",\"green\",\"green\",\"green\",\"green\",\"green\",\"green\",\"green\",\"green\",\"green\",\"green\",\"green\",\"green\",\"green\",\"green\",\"green\",\"green\",\"green\",\"green\",\"green\",\"green\",\"green\",\"green\",\"green\",\"green\",\"green\",\"green\",\"green\",\"green\",\"green\",\"green\",\"green\",\"green\",\"green\",\"green\",\"green\",\"green\",\"green\",\"green\",\"green\",\"green\",\"green\",\"green\",\"green\",\"green\",\"green\",\"green\",\"green\",\"green\",\"green\",\"green\",\"green\",\"green\",\"green\",\"green\",\"green\",\"green\",\"green\",\"green\",\"green\",\"green\",\"green\",\"green\",\"green\",\"green\",\"green\",\"green\",\"green\",\"green\",\"green\",\"green\",\"green\",\"green\",\"green\",\"green\",\"green\",\"green\",\"green\",\"green\",\"green\",\"green\",\"green\",\"green\",\"green\",\"green\",\"green\",\"green\",\"green\",\"green\",\"green\",\"green\",\"green\",\"green\",\"green\",\"green\",\"green\",\"green\",\"green\",\"green\",\"green\",\"green\",\"green\",\"green\",\"green\",\"green\",\"green\",\"green\",\"green\",\"green\",\"green\",\"green\",\"green\",\"green\",\"green\",\"green\",\"green\",\"green\",\"green\",\"green\",\"green\",\"green\",\"green\",\"green\",\"green\",\"green\",\"green\",\"green\",\"green\",\"green\",\"green\",\"green\",\"green\",\"green\",\"green\",\"green\",\"green\",\"green\",\"green\",\"green\",\"green\",\"green\",\"green\",\"green\",\"green\",\"green\",\"green\",\"green\",\"green\",\"green\",\"green\",\"green\",\"green\",\"green\",\"green\",\"green\",\"green\",\"green\",\"green\",\"green\",\"green\",\"green\",\"green\",\"green\",\"green\",\"green\",\"green\",\"green\",\"green\",\"green\",\"green\",\"green\",\"green\",\"green\",\"green\",\"green\",\"green\",\"green\",\"green\",\"green\",\"green\",\"green\",\"green\",\"green\",\"green\",\"green\",\"green\",\"green\",\"green\",\"green\",\"green\",\"green\",\"green\",\"green\",\"green\",\"green\",\"green\",\"green\",\"green\",\"green\",\"green\",\"green\",\"green\",\"green\",\"green\",\"green\",\"green\",\"green\",\"green\",\"green\",\"green\",\"green\",\"green\",\"green\",\"green\",\"green\",\"green\",\"green\",\"green\",\"green\",\"green\",\"green\",\"green\",\"green\",\"green\",\"green\",\"green\",\"green\",\"green\",\"green\",\"green\",\"green\",\"green\",\"green\",\"green\",\"green\",\"green\",\"green\",\"green\",\"green\",\"green\",\"green\",\"green\",\"green\",\"green\",\"green\",\"green\",\"green\",\"green\",\"green\",\"green\",\"green\",\"green\",\"green\",\"green\",\"green\",\"green\",\"green\",\"green\",\"green\",\"green\",\"green\",\"green\",\"green\",\"green\",\"green\",\"green\",\"green\",\"green\",\"green\",\"green\",\"green\",\"green\",\"green\",\"green\",\"green\",\"green\",\"green\",\"green\",\"green\",\"green\",\"green\",\"green\",\"green\",\"green\",\"green\",\"green\",\"green\",\"green\",\"green\",\"green\",\"green\",\"green\",\"green\",\"green\",\"green\",\"green\",\"green\",\"green\",\"green\",\"green\",\"green\",\"green\",\"green\",\"green\",\"green\",\"green\",\"green\",\"green\",\"green\",\"green\",\"green\",\"green\",\"green\",\"green\",\"green\",\"green\",\"green\",\"green\",\"green\",\"green\",\"green\",\"green\",\"green\",\"green\",\"green\",\"green\",\"green\",\"green\",\"green\",\"green\",\"green\",\"green\",\"green\",\"green\",\"green\",\"green\",\"green\",\"green\",\"green\",\"green\",\"green\",\"green\",\"green\",\"green\",\"green\",\"green\",\"green\",\"green\",\"green\",\"green\",\"green\",\"green\",\"green\",\"green\",\"green\",\"green\",\"green\",\"green\",\"green\",\"green\",\"green\",\"green\",\"green\",\"green\",\"green\",\"green\",\"green\",\"green\",\"green\",\"green\",\"green\",\"green\",\"green\",\"green\",\"green\",\"green\",\"green\",\"green\",\"green\",\"green\",\"green\",\"green\",\"green\",\"green\",\"green\",\"green\",\"green\",\"green\",\"green\",\"green\",\"green\",\"green\",\"green\",\"green\",\"green\",\"green\",\"green\",\"green\",\"green\",\"green\",\"green\",\"green\",\"green\",\"green\",\"green\",\"green\",\"green\",\"green\",\"green\",\"green\",\"green\",\"green\",\"green\",\"green\",\"green\",\"green\",\"green\",\"green\",\"green\",\"green\",\"green\",\"green\",\"green\",\"green\",\"green\",\"green\",\"green\",\"green\",\"green\",\"green\",\"green\",\"green\",\"green\",\"green\",\"green\",\"green\",\"green\",\"green\",\"green\",\"green\",\"green\",\"green\",\"green\",\"green\",\"green\",\"green\",\"green\",\"green\",\"green\",\"green\",\"green\",\"green\",\"green\",\"green\",\"green\",\"green\",\"green\",\"green\",\"green\",\"green\",\"green\",\"green\",\"green\",\"green\",\"green\",\"green\",\"green\",\"green\",\"green\",\"green\",\"green\",\"green\",\"green\",\"green\",\"green\",\"green\",\"green\",\"green\",\"green\",\"green\",\"green\",\"green\",\"green\",\"green\",\"green\",\"green\",\"green\",\"green\",\"green\",\"green\",\"green\",\"green\",\"green\",\"green\",\"green\",\"green\",\"green\",\"green\",\"green\",\"green\",\"green\",\"green\",\"green\",\"green\",\"green\",\"green\",\"green\",\"green\",\"green\",\"green\",\"green\",\"green\",\"green\",\"green\",\"green\",\"green\",\"green\",\"green\",\"green\",\"green\",\"green\",\"green\",\"green\",\"green\",\"green\",\"green\",\"green\",\"green\",\"green\",\"green\",\"green\",\"green\",\"green\",\"green\",\"green\",\"green\",\"green\",\"green\",\"green\",\"green\",\"green\",\"green\",\"green\",\"green\",\"green\",\"green\",\"green\",\"green\",\"green\",\"green\",\"green\",\"green\",\"green\",\"green\",\"green\",\"green\",\"green\",\"green\",\"green\",\"green\",\"green\",\"green\",\"green\",\"green\",\"green\",\"green\",\"green\",\"green\",\"green\",\"green\",\"green\",\"green\",\"green\",\"green\",\"green\",\"green\",\"green\",\"green\",\"green\",\"green\",\"green\",\"green\",\"green\",\"green\",\"green\",\"green\",\"green\",\"green\",\"green\",\"green\",\"green\",\"green\",\"green\",\"green\",\"green\",\"green\",\"green\",\"green\",\"green\",\"green\"],\"token\":[\"<user>\",\".\",\":\",\"rt\",\",\",\"<repeat>\",\"<hashtag>\",\"<number>\",\"<url>\",\"!\",\"i\",\"a\",\"\\\"\",\"the\",\"?\",\"you\",\"to\",\"(\",\"<allcaps>\",\"<elong>\",\")\",\"me\",\"de\",\"<smile>\",\"\\uff01\",\"que\",\"and\",\"\\u3002\",\"-\",\"my\",\"no\",\"\\u3001\",\"is\",\"it\",\"\\u2026\",\"in\",\"n\",\"for\",\"/\",\"of\",\"la\",\"'s\",\"*\",\"do\",\"n't\",\"that\",\"on\",\"y\",\"'\",\"e\",\"o\",\"u\",\"en\",\"this\",\"el\",\"so\",\"be\",\"'m\",\"with\",\"just\",\">\",\"your\",\"^\",\"like\",\"have\",\"te\",\"at\",\"\\uff1f\",\"love\",\"se\",\"are\",\"<\",\"m\",\"r\",\"if\",\"all\",\"b\",\"\\u30fb\",\"not\",\"but\",\"we\",\"es\",\"ya\",\"&\",\"follow\",\"up\",\"what\",\"get\",\"lol\",\"un\",\"\\u2665\",\"lo\",\"when\",\"was\",\"\\u201c\",\"\\u201d\",\"one\",\"por\",\"si\",\"out\",\"_\",\"mi\",\"can\",\"<sadface>\",\"\\u0645\\u0646\",\"\\u2661\",\"\\u00b4\",\"he\",\"con\",\"they\",\"now\",\"go\",\"\\u060c\",\"para\",\"los\",\"know\",\"haha\",\"good\",\"tu\",\"back\",\"~\",\"about\",\"new\",\";\",\"as\",\"day\",\"how\",\"who\",\"will\",\"want\",\"people\",\"yo\",\"eu\",\"from\",\"di\",\"time\",\"<heart>\",\"s\",\"aku\",\"da\",\"'re\",\"<lolface>\",\"una\",\"got\",\"las\",\"more\",\"x\",\"she\",\"today\",\"\\uff08\",\">>\",\"k\",\"by\",\"or\",\"\\u0641\\u064a\",\"\\uff65\",\"too\",\"le\",\"\\u00e9\",\"|\",\"[\",\"\\uff09\",\"]\",\"see\",\"why\",\"yg\",\"ca\",\"como\",\"her\",\"\\u2014\",\"q\",\"need\",\"an\",\"na\",\"\\u7b11\",\"there\",\"\\u03c9\",\"happy\",\"im\",\"mas\",\"je\",\"life\",\"really\",\"make\",\"yang\",\"shit\",\"think\",\"t\",\"\\u2764\",\"n\\u00e3o\",\"never\",\"some\",\"\\uff5e\",\"oh\",\"\\u2605\",\"did\",\"would\",\"del\",\"`\",\"d\",\"please\",\"via\",\"much\",\"fuck\",\"al\",\"dia\",\"$\",\"\\u0648\",\"right\",\"best\",\"c\",\"going\",\"\\u0627\\u0644\\u0644\\u0647\",\"pero\",\"only\",\"has\",\"\\u266a\",\"'ll\",\"twitter\",\"=\",\"hahaha\",\"its\",\"nn\",\"\\uff40\",\"\\u00bf\",\"am\",\"say\",\"<neutralface>\",\"them\",\"here\",\"\\u0644\\u0627\",\"off\",\"still\",\"dan\",\"+\",\"night\",\"w\",\"ada\",\"someone\",\"even\",\"then\",\"\\u2606\",\"ni\",\"come\",\"com\",\"always\",\"man\",\"'ve\",\"been\",\"his\",\"itu\",\"\\u0639\\u0644\\u0649\",\"-_-\",\"\\u263a\",\"over\",\"um\",\"\\u0645\\u0627\",\"hate\",\"girl\",\"ai\",\"had\",\"pra\",\"todo\",\"mais\",\"feel\",\"let\",\"ini\",\"because\",\"\\uff9f\",\"thanks\",\"ah\",\"way\",\"ever\",\"look\",\"tweet\",\"followers\",\"should\",\"our\",\"xd\",\"aja\",\"esta\",\"school\",\"him\",\"ser\",\"take\",\"than\",\"video\",\"em\",\"last\",\"wanna\",\"does\",\"us\",\"miss\",\"l\",\"ga\",\"better\",\"well\",\"could\",\"\\u25bd\",\"%\",\"apa\",\"cuando\",\"team\",\"\\u2714\",\"@\",\"ok\",\"\\u061f\",\"\\u2022\",\"vida\",\"quiero\",\"les\",\"being\",\"real\",\"down\",\"kamu\",\"everyone\",\"gonna\",\"live\",\"tonight\",\"yes\",\"work\",\"ass\",\"retweet\",\"nada\",\"sama\",\"first\",\"<<\",\"photo\",\"tomorrow\",\"where\",\"god\",\"son\",\"ke\",\"ta\",\"f\",\"home\",\"lagi\",\"thank\",\"birthday\",\"\\u2588\",\"ha\",\"great\",\"lmao\",\"omg\",\"morning\",\"m\\u00e1s\",\"mau\",\"baby\",\"dont\",\"\\uff61\",\"their\",\"p\",\"things\",\"game\",\"pas\",\"bad\",\"year\",\"yeah\",\"su\",\"bitch\",\"\\u0432\",\"stop\",\"hoy\",\"something\",\"meu\",\"tak\",\"gak\",\"world\",\"amor\",\"h\",\"\\\\\",\"ver\",\"\\uff1b\",\"porque\",\"give\",\"these\",\"\\u0627\\u0644\\u0644\\u0647\\u0645\",\"were\",\"hay\",\"sleep\",\"gue\",\"every\",\"friends\",\"uma\",\"tell\",\"amo\",\"vou\",\"bien\",\"\\u00a1\",\"again\",\"\\uff3e\",\"\\uff0f\",\"done\",\"after\",\"todos\",\"girls\",\"guys\",\"getting\",\"big\",\"wait\",\"justin\",\"eh\",\"\\u2192\",\"kan\",\"kita\",\"jajaja\",\"wish\",\"said\",\"fucking\",\"show\",\"thing\",\"next\",\"voc\\u00ea\",\"nos\",\"little\",\"tengo\",\"keep\",\"person\",\"''\",\"\\u2200\",\"hope\",\"\\u0643\\u0644\",\"hey\",\"bisa\",\"free\",\"made\",\"foto\",\"va\",\"everything\",\"iya\",\"nigga\",\"eso\",\"et\",\"watch\",\"music\",\"week\",\"talk\",\"ne\",\"solo\",\"gente\",\"udah\",\"\\uff1a\",\"--\",\"\\uff3c\",\"mejor\",\"facebook\",\"ma\",\"v\",\"phone\",\"most\",\"same\",\"okay\",\"ik\",\"before\",\"minha\",\"days\",\"g\",\"ti\",\"damn\",\"nice\",\"voy\",\"vai\",\"call\",\"long\",\"tapi\",\"http\",\"sin\",\"nunca\",\"doing\",\"other\",\"find\",\"il\",\"sa\",\"sorry\",\"nya\",\"orang\",\"\\u00b0\",\"hard\",\"mean\",\"die\",\"\\u0627\\u0644\\u0644\\u064a\",\"tem\",\"soy\",\"este\",\"kalo\",\"s\\u00f3\",\"th\",\"win\",\"nothing\",\"into\",\"face\",\"cute\",\"'d\",\"gracias\",\"lah\",\"\\u0438\",\"any\",\"play\",\"\\u2190\",\"ko\",\"text\",\"\\u2323\",\"estoy\",\"tau\",\"ur\",\"buat\",\"#\",\"cause\",\"\\u044f\",\"put\",\"kau\",\"siempre\",\"juga\",\"casa\",\"\\u0623\\u0646\",\"help\",\"start\",\"feliz\",\"old\",\"ir\",\"very\",\"care\",\"bir\",\"makes\",\"song\",\"check\",\"watching\",\"ahora\",\"jadi\",\"os\",\"may\",\"friend\",\"beautiful\",\"heart\",\"ka\",\"vc\",\"mundo\",\"\\u043d\\u0430\",\"sure\",\"tan\",\"pretty\",\"aqui\",\"\\u043d\\u0435\",\"house\",\"\\u0631\\u062a\\u0648\\u064a\\u062a\",\"\\u064a\\u0627\",\"ja\",\"true\",\"muy\",\"away\",\"already\",\"actually\",\"believe\",\"try\",\"many\",\"ma\\u00f1ana\",\"mis\",\"lu\",\"those\",\"hot\",\"qu\\u00e9\",\"mal\",\"\\u0639\\u0646\",\"though\",\"ask\",\"amazing\",\"bed\",\"}\",\"two\",\"mom\",\"d\\u00eda\",\"ve\",\"dari\",\"gameinsight\",\"stay\",\"fun\",\"around\",\"van\",\"cont\",\"ready\",\"money\",\"bu\",\"funny\",\"cool\",\"hair\",\"\\u00e0\",\"tho\",\"{\",\"wo\",\"hi\",\"name\",\"tiene\",\"hahahaha\",\"pa\",\"algo\",\"gotta\",\"\\u0648\\u0644\\u0627\",\"boy\",\"another\",\"c'est\",\"hari\",\"jajajaja\",\"having\",\"cara\",\"jaja\",\"dm\",\"looking\",\"top\",\"android\",\"dah\",\"wow\",\"\\u2591\",\"eres\",\"ben\",\"must\",\"news\",\"met\",\"est\\u00e1\",\"nih\",\"family\",\"black\",\"thought\",\"nak\",\"super\",\"end\",\"hace\",\"remember\",\"ama\",\"party\",\"cant\",\"vamos\",\"anything\",\"anyone\",\"\\u0641\\u0648\\u0644\\u0648\",\"perfect\",\"guy\",\"vez\",\"christmas\",\"dos\",\"bueno\",\"nao\",\"years\",\"vote\",\"dormir\",\"bro\",\"else\",\"quien\",\"untuk\",\"jangan\",\"myself\",\"head\",\"mind\",\"gua\",\"talking\",\"while\",\"dat\",\"food\",\"\\u0434\",\"coming\",\"wkwk\",\"trying\",\"saya\",\"mucho\",\"without\",\"wrong\",\"\\u2019s\",\"baru\",\"__\",\"hehe\",\"hacer\",\"lot\",\"followed\",\"crazy\",\"hell\",\"feeling\",\"des\",\"kok\",\"j\",\"stats\",\"j'\",\"\\u0627\\u0646\",\"tweets\",\"non\",\"cosas\",\"era\",\"high\",\"niggas\",\"change\",\"movie\",\"xx\",\"mad\",\"sih\",\"sometimes\",\"deh\",\"allah\",\"through\",\"pour\",\"ela\",\"soon\",\"gone\",\"playing\",\"smile\",\"bukan\",\"tv\",\"fans\",\"hasta\",\"akan\",\"y'\",\"looks\",\"isso\",\"\\u270c\",\"tired\",\"boys\",\"might\",\"dong\",\"lg\",\"use\",\"maybe\",\"until\",\"menos\",\"own\",\"dengan\",\"eat\",\"ou\",\"weekend\",\"\\u02d8\",\"class\",\"ele\",\"harry\",\"iphone\",\"friday\",\"single\",\"ff\",\"awesome\",\"bout\",\"muito\",\"hoje\",\"\\u00ac\",\"dios\",\"such\",\"estar\",\"j\\u00e1\",\"quando\",\"esa\",\"making\",\"\\u2501\",\"times\",\"lmfao\",\"gw\",\"moment\",\"yet\",\"aw\",\"smh\",\"banget\",\"masih\",\"qui\",\"quem\",\"\\u2013\",\"leave\",\"du\",\"une\",\"guess\",\"hit\",\"\\u0441\",\"pm\",\"since\",\"pues\",\"est\",\"job\",\"\\uff89\",\"mana\",\"bom\",\"siapa\",\"suka\",\"bieber\",\"mention\",\"lebih\",\"favorite\",\"bitches\",\"forever\",\"\\u0644\\u064a\",\"final\",\"read\",\"alguien\",\"open\",\"yourself\",\"ese\",\"che\",\"sex\",\"yaa\",\"car\",\"direction\",\"tidak\",\"seu\",\"gets\",\"left\",\"re\",\"jam\",\"enough\",\"\\u0625\\u0644\\u0627\",\"once\",\"\\u2019\",\"part\",\"cada\",\"\\u5b9a\\u671f\",\"\\u0644\\u0643\",\"een\",\"seen\",\"kak\",\"as\\u00ed\",\"nem\",\"\\u0639\\u0645\\u0644\",\"white\",\"told\",\"says\",\"esto\",\"sad\",\"mo\",\"fue\",\"yah\",\"summer\",\"\\u0647\",\"\\u2b55\",\"\\u00bb\",\"thats\",\"\\u0645\\u0639\",\"posted\",\"wants\",\"agora\",\"together\",\"fan\",\"men\",\"hear\",\"full\",\"\\u2600\",\"sigo\",\"pq\",\"dulu\",\"plus\",\"foi\",\"tudo\",\"\\u0647\\u0648\",\"ill\",\"\\u3042\",\"thinking\",\"wtf\",\"pagi\",\"mama\",\"kalau\",\"hati\",\"sexy\",\"sayang\",\"baik\",\"semua\",\"hola\",\"went\",\"vos\",\"tanto\",\"finally\",\"fb\",\"sea\",\"stupid\",\"tus\",\"seriously\",\"hora\",\"min\",\"pic\",\"estas\",\"turn\",\"hours\",\"excited\",\"nah\",\"buy\",\"saying\",\"mah\",\"break\",\"needs\",\"ce\",\"room\",\"choice\",\"far\",\"dead\",\"quero\",\"saw\",\"kids\",\"lil\",\"whole\",\"puede\",\"fall\",\"sus\",\"lost\",\"asi\",\"word\",\"\\u2639\",\"also\",\"\\u0631\\u064a\\u062a\\u0648\\u064a\\u062a\",\"probably\",\"everybody\",\"tarde\",\"run\",\"sei\",\"follback\",\"forget\",\"sweet\",\"welcome\",\"selamat\",\"\\uff3f\",\"sur\",\"place\",\"gusta\",\"sabe\",\"androidgames\",\"tp\",\"tiempo\",\"\\u0628\\u0633\",\"sou\",\"tuh\",\"vs\",\"eyes\",\"\\u0627\\u0646\\u0627\",\"picture\",\"das\",\"meet\",\"anak\",\"persona\",\"essa\",\"bored\",\"following\",\"nadie\",\"nobody\",\"dice\",\"alone\",\"sick\",\"red\",\"city\",\"cinta\",\"\\u6708\",\"linda\",\"dream\",\"story\",\"km\",\"het\",\"waiting\",\"^_^\",\"mine\",\"\\u0447\\u0442\\u043e\",\"reason\",\"kk\",\"\\u0644\\u0648\",\"online\",\"fast\",\"udh\",\"wanted\",\"op\",\"others\",\"gay\",\"n\\u2019t\",\"used\",\"sem\",\"understand\",\"moi\",\"sm\",\"aint\",\"donde\",\"bem\",\"which\",\"ng\",\"followback\",\"punya\",\"late\",\"anda\",\"tidur\",\"puedo\",\"early\",\"nd\",\"personas\",\"banyak\",\"\\u2705\",\"\\u278a\",\"trust\",\"noche\",\"tl\",\"\\uff1e\",\"\\u00ab\",\"af\",\"move\",\"pro\",\"bring\",\"ku\",\"called\",\"relationship\",\"idk\",\"hurt\",\"st\",\"pernah\",\"pessoas\",\"hello\",\"uno\",\"unfollowers\",\"cry\"],\"x\":{\"__ndarray__\":\"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\",\"dtype\":\"float32\",\"shape\":[1000]},\"y\":{\"__ndarray__\":\"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\",\"dtype\":\"float32\",\"shape\":[1000]}},\"selected\":{\"id\":\"1168\",\"type\":\"Selection\"},\"selection_policy\":{\"id\":\"1169\",\"type\":\"UnionRenderers\"}},\"id\":\"1111\",\"type\":\"ColumnDataSource\"},{\"attributes\":{\"source\":{\"id\":\"1111\",\"type\":\"ColumnDataSource\"}},\"id\":\"1150\",\"type\":\"CDSView\"},{\"attributes\":{\"callback\":null,\"tooltips\":[[\"token\",\"@token\"]]},\"id\":\"1151\",\"type\":\"HoverTool\"},{\"attributes\":{},\"id\":\"1127\",\"type\":\"BasicTicker\"},{\"attributes\":{\"plot\":null,\"text\":\"\"},\"id\":\"1163\",\"type\":\"Title\"}],\"root_ids\":[\"1112\"]},\"title\":\"Bokeh Application\",\"version\":\"1.0.2\"}};\n",
       "  var render_items = [{\"docid\":\"0ff586e7-5e19-4749-9888-b9afe920016c\",\"roots\":{\"1112\":\"e3d1ef1b-8519-40dd-b153-de6ebaf0ae93\"}}];\n",
       "  root.Bokeh.embed.embed_items_notebook(docs_json, render_items);\n",
       "\n",
       "  }\n",
       "  if (root.Bokeh !== undefined) {\n",
       "    embed_document(root);\n",
       "  } else {\n",
       "    var attempts = 0;\n",
       "    var timer = setInterval(function(root) {\n",
       "      if (root.Bokeh !== undefined) {\n",
       "        embed_document(root);\n",
       "        clearInterval(timer);\n",
       "      }\n",
       "      attempts++;\n",
       "      if (attempts > 100) {\n",
       "        console.log(\"Bokeh: ERROR: Unable to run BokehJS code because BokehJS library is missing\");\n",
       "        clearInterval(timer);\n",
       "      }\n",
       "    }, 10, root)\n",
       "  }\n",
       "})(window);"
      ],
      "application/vnd.bokehjs_exec.v0+json": ""
     },
     "metadata": {
      "application/vnd.bokehjs_exec.v0+json": {
       "id": "1112"
      },
      "tags": []
     },
     "output_type": "display_data"
    },
    {
     "data": {
      "text/html": [
       "<div style=\"display: table;\"><div style=\"display: table-row;\"><div style=\"display: table-cell;\"><b title=\"bokeh.plotting.figure.Figure\">Figure</b>(</div><div style=\"display: table-cell;\">id&nbsp;=&nbsp;'1112', <span id=\"1226\" style=\"cursor: pointer;\">&hellip;)</span></div></div><div class=\"1225\" style=\"display: none;\"><div style=\"display: table-cell;\"></div><div style=\"display: table-cell;\">above&nbsp;=&nbsp;[],</div></div><div class=\"1225\" style=\"display: none;\"><div style=\"display: table-cell;\"></div><div style=\"display: table-cell;\">aspect_scale&nbsp;=&nbsp;1,</div></div><div class=\"1225\" style=\"display: none;\"><div style=\"display: table-cell;\"></div><div style=\"display: table-cell;\">background_fill_alpha&nbsp;=&nbsp;{'value': 1.0},</div></div><div class=\"1225\" style=\"display: none;\"><div style=\"display: table-cell;\"></div><div style=\"display: table-cell;\">background_fill_color&nbsp;=&nbsp;{'value': '#ffffff'},</div></div><div class=\"1225\" style=\"display: none;\"><div style=\"display: table-cell;\"></div><div style=\"display: table-cell;\">below&nbsp;=&nbsp;[LinearAxis(id='1121', ...)],</div></div><div class=\"1225\" style=\"display: none;\"><div style=\"display: table-cell;\"></div><div style=\"display: table-cell;\">border_fill_alpha&nbsp;=&nbsp;{'value': 1.0},</div></div><div class=\"1225\" style=\"display: none;\"><div style=\"display: table-cell;\"></div><div style=\"display: table-cell;\">border_fill_color&nbsp;=&nbsp;{'value': '#ffffff'},</div></div><div class=\"1225\" style=\"display: none;\"><div style=\"display: table-cell;\"></div><div style=\"display: table-cell;\">css_classes&nbsp;=&nbsp;[],</div></div><div class=\"1225\" style=\"display: none;\"><div style=\"display: table-cell;\"></div><div style=\"display: table-cell;\">disabled&nbsp;=&nbsp;False,</div></div><div class=\"1225\" style=\"display: none;\"><div style=\"display: table-cell;\"></div><div style=\"display: table-cell;\">extra_x_ranges&nbsp;=&nbsp;{},</div></div><div class=\"1225\" style=\"display: none;\"><div style=\"display: table-cell;\"></div><div style=\"display: table-cell;\">extra_y_ranges&nbsp;=&nbsp;{},</div></div><div class=\"1225\" style=\"display: none;\"><div style=\"display: table-cell;\"></div><div style=\"display: table-cell;\">h_symmetry&nbsp;=&nbsp;True,</div></div><div class=\"1225\" style=\"display: none;\"><div style=\"display: table-cell;\"></div><div style=\"display: table-cell;\">height&nbsp;=&nbsp;None,</div></div><div class=\"1225\" style=\"display: none;\"><div style=\"display: table-cell;\"></div><div style=\"display: table-cell;\">hidpi&nbsp;=&nbsp;True,</div></div><div class=\"1225\" style=\"display: none;\"><div style=\"display: table-cell;\"></div><div style=\"display: table-cell;\">js_event_callbacks&nbsp;=&nbsp;{},</div></div><div class=\"1225\" style=\"display: none;\"><div style=\"display: table-cell;\"></div><div style=\"display: table-cell;\">js_property_callbacks&nbsp;=&nbsp;{},</div></div><div class=\"1225\" style=\"display: none;\"><div style=\"display: table-cell;\"></div><div style=\"display: table-cell;\">left&nbsp;=&nbsp;[LinearAxis(id='1126', ...)],</div></div><div class=\"1225\" style=\"display: none;\"><div style=\"display: table-cell;\"></div><div style=\"display: table-cell;\">lod_factor&nbsp;=&nbsp;10,</div></div><div class=\"1225\" style=\"display: none;\"><div style=\"display: table-cell;\"></div><div style=\"display: table-cell;\">lod_interval&nbsp;=&nbsp;300,</div></div><div class=\"1225\" style=\"display: none;\"><div style=\"display: table-cell;\"></div><div style=\"display: table-cell;\">lod_threshold&nbsp;=&nbsp;2000,</div></div><div class=\"1225\" style=\"display: none;\"><div style=\"display: table-cell;\"></div><div style=\"display: table-cell;\">lod_timeout&nbsp;=&nbsp;500,</div></div><div class=\"1225\" style=\"display: none;\"><div style=\"display: table-cell;\"></div><div style=\"display: table-cell;\">match_aspect&nbsp;=&nbsp;False,</div></div><div class=\"1225\" style=\"display: none;\"><div style=\"display: table-cell;\"></div><div style=\"display: table-cell;\">min_border&nbsp;=&nbsp;5,</div></div><div class=\"1225\" style=\"display: none;\"><div style=\"display: table-cell;\"></div><div style=\"display: table-cell;\">min_border_bottom&nbsp;=&nbsp;None,</div></div><div class=\"1225\" style=\"display: none;\"><div style=\"display: table-cell;\"></div><div style=\"display: table-cell;\">min_border_left&nbsp;=&nbsp;None,</div></div><div class=\"1225\" style=\"display: none;\"><div style=\"display: table-cell;\"></div><div style=\"display: table-cell;\">min_border_right&nbsp;=&nbsp;None,</div></div><div class=\"1225\" style=\"display: none;\"><div style=\"display: table-cell;\"></div><div style=\"display: table-cell;\">min_border_top&nbsp;=&nbsp;None,</div></div><div class=\"1225\" style=\"display: none;\"><div style=\"display: table-cell;\"></div><div style=\"display: table-cell;\">name&nbsp;=&nbsp;None,</div></div><div class=\"1225\" style=\"display: none;\"><div style=\"display: table-cell;\"></div><div style=\"display: table-cell;\">outline_line_alpha&nbsp;=&nbsp;{'value': 1.0},</div></div><div class=\"1225\" style=\"display: none;\"><div style=\"display: table-cell;\"></div><div style=\"display: table-cell;\">outline_line_cap&nbsp;=&nbsp;'butt',</div></div><div class=\"1225\" style=\"display: none;\"><div style=\"display: table-cell;\"></div><div style=\"display: table-cell;\">outline_line_color&nbsp;=&nbsp;{'value': '#e5e5e5'},</div></div><div class=\"1225\" style=\"display: none;\"><div style=\"display: table-cell;\"></div><div style=\"display: table-cell;\">outline_line_dash&nbsp;=&nbsp;[],</div></div><div class=\"1225\" style=\"display: none;\"><div style=\"display: table-cell;\"></div><div style=\"display: table-cell;\">outline_line_dash_offset&nbsp;=&nbsp;0,</div></div><div class=\"1225\" style=\"display: none;\"><div style=\"display: table-cell;\"></div><div style=\"display: table-cell;\">outline_line_join&nbsp;=&nbsp;'bevel',</div></div><div class=\"1225\" style=\"display: none;\"><div style=\"display: table-cell;\"></div><div style=\"display: table-cell;\">outline_line_width&nbsp;=&nbsp;{'value': 1},</div></div><div class=\"1225\" style=\"display: none;\"><div style=\"display: table-cell;\"></div><div style=\"display: table-cell;\">output_backend&nbsp;=&nbsp;'canvas',</div></div><div class=\"1225\" style=\"display: none;\"><div style=\"display: table-cell;\"></div><div style=\"display: table-cell;\">plot_height&nbsp;=&nbsp;400,</div></div><div class=\"1225\" style=\"display: none;\"><div style=\"display: table-cell;\"></div><div style=\"display: table-cell;\">plot_width&nbsp;=&nbsp;600,</div></div><div class=\"1225\" style=\"display: none;\"><div style=\"display: table-cell;\"></div><div style=\"display: table-cell;\">renderers&nbsp;=&nbsp;[LinearAxis(id='1121', ...), Grid(id='1125', ...), LinearAxis(id='1126', ...), Grid(id='1130', ...), BoxAnnotation(id='1139', ...), GlyphRenderer(id='1149', ...)],</div></div><div class=\"1225\" style=\"display: none;\"><div style=\"display: table-cell;\"></div><div style=\"display: table-cell;\">right&nbsp;=&nbsp;[],</div></div><div class=\"1225\" style=\"display: none;\"><div style=\"display: table-cell;\"></div><div style=\"display: table-cell;\">sizing_mode&nbsp;=&nbsp;'fixed',</div></div><div class=\"1225\" style=\"display: none;\"><div style=\"display: table-cell;\"></div><div style=\"display: table-cell;\">subscribed_events&nbsp;=&nbsp;[],</div></div><div class=\"1225\" style=\"display: none;\"><div style=\"display: table-cell;\"></div><div style=\"display: table-cell;\">tags&nbsp;=&nbsp;[],</div></div><div class=\"1225\" style=\"display: none;\"><div style=\"display: table-cell;\"></div><div style=\"display: table-cell;\">title&nbsp;=&nbsp;Title(id='1163', ...),</div></div><div class=\"1225\" style=\"display: none;\"><div style=\"display: table-cell;\"></div><div style=\"display: table-cell;\">title_location&nbsp;=&nbsp;'above',</div></div><div class=\"1225\" style=\"display: none;\"><div style=\"display: table-cell;\"></div><div style=\"display: table-cell;\">toolbar&nbsp;=&nbsp;Toolbar(id='1137', ...),</div></div><div class=\"1225\" style=\"display: none;\"><div style=\"display: table-cell;\"></div><div style=\"display: table-cell;\">toolbar_location&nbsp;=&nbsp;'right',</div></div><div class=\"1225\" style=\"display: none;\"><div style=\"display: table-cell;\"></div><div style=\"display: table-cell;\">toolbar_sticky&nbsp;=&nbsp;True,</div></div><div class=\"1225\" style=\"display: none;\"><div style=\"display: table-cell;\"></div><div style=\"display: table-cell;\">v_symmetry&nbsp;=&nbsp;False,</div></div><div class=\"1225\" style=\"display: none;\"><div style=\"display: table-cell;\"></div><div style=\"display: table-cell;\">width&nbsp;=&nbsp;None,</div></div><div class=\"1225\" style=\"display: none;\"><div style=\"display: table-cell;\"></div><div style=\"display: table-cell;\">x_range&nbsp;=&nbsp;DataRange1d(id='1113', ...),</div></div><div class=\"1225\" style=\"display: none;\"><div style=\"display: table-cell;\"></div><div style=\"display: table-cell;\">x_scale&nbsp;=&nbsp;LinearScale(id='1117', ...),</div></div><div class=\"1225\" style=\"display: none;\"><div style=\"display: table-cell;\"></div><div style=\"display: table-cell;\">y_range&nbsp;=&nbsp;DataRange1d(id='1115', ...),</div></div><div class=\"1225\" style=\"display: none;\"><div style=\"display: table-cell;\"></div><div style=\"display: table-cell;\">y_scale&nbsp;=&nbsp;LinearScale(id='1119', ...))</div></div></div>\n",
       "<script>\n",
       "(function() {\n",
       "  var expanded = false;\n",
       "  var ellipsis = document.getElementById(\"1226\");\n",
       "  ellipsis.addEventListener(\"click\", function() {\n",
       "    var rows = document.getElementsByClassName(\"1225\");\n",
       "    for (var i = 0; i < rows.length; i++) {\n",
       "      var el = rows[i];\n",
       "      el.style.display = expanded ? \"none\" : \"table-row\";\n",
       "    }\n",
       "    ellipsis.innerHTML = expanded ? \"&hellip;)\" : \"&lsaquo;&lsaquo;&lsaquo;\";\n",
       "    expanded = !expanded;\n",
       "  });\n",
       "})();\n",
       "</script>\n"
      ],
      "text/plain": [
       "Figure(id='1112', ...)"
      ]
     },
     "execution_count": 27,
     "metadata": {
      "tags": []
     },
     "output_type": "execute_result"
    }
   ],
   "source": [
    "draw_vectors(word_tsne[:, 0], word_tsne[:, 1], color='green', token=words)"
   ]
  },
  {
   "cell_type": "markdown",
   "metadata": {
    "colab_type": "text",
    "id": "6_6RGyljHSQd"
   },
   "source": [
    "### Visualizing phrases\n",
    "\n",
    "Word embeddings can also be used to represent short phrases. The simplest way is to take __an average__ of vectors for all tokens in the phrase with some weights.\n",
    "\n",
    "This trick is useful to identify what data are you working with: find if there are any outliers, clusters or other artefacts.\n",
    "\n",
    "Let's try this new hammer on our data!\n"
   ]
  },
  {
   "cell_type": "code",
   "execution_count": 0,
   "metadata": {
    "colab": {},
    "colab_type": "code",
    "id": "dnGlJqnfHSQe"
   },
   "outputs": [],
   "source": [
    "def get_phrase_embedding(phrase):\n",
    "    \"\"\"\n",
    "    Convert phrase to a vector by aggregating it's word embeddings. See description above.\n",
    "    \"\"\"\n",
    "    # 1. lowercase phrase\n",
    "    # 2. tokenize phrase\n",
    "    # 3. average word vectors for all words in tokenized phrase\n",
    "    # skip words that are not in model's vocabulary\n",
    "    # if all words are missing from vocabulary, return zeros\n",
    "    \n",
    "    vector = np.zeros([model.vector_size], dtype='float32')\n",
    "    phrase = tokenizer.tokenize(phrase.lower())\n",
    "    num = 0\n",
    "    \n",
    "    for i in range(len(phrase)):\n",
    "        if phrase[i] in model.vocab.keys():\n",
    "            vector = vector + model.get_vector(phrase[i])\n",
    "            num = num + 1\n",
    "        \n",
    "    vector = vector / num\n",
    "    \n",
    "    return vector\n",
    "        \n",
    "    "
   ]
  },
  {
   "cell_type": "code",
   "execution_count": 0,
   "metadata": {
    "colab": {},
    "colab_type": "code",
    "id": "Ou1U_esnHSQi"
   },
   "outputs": [],
   "source": [
    "vector = get_phrase_embedding(\"I'm very sure. This never happened to me before...\")\n",
    "\n",
    "assert np.allclose(vector[::10],\n",
    "                   np.array([ 0.31807372, -0.02558171,  0.0933293 , -0.1002182 , -1.0278689 ,\n",
    "                             -0.16621883,  0.05083408,  0.17989802,  1.3701859 ,  0.08655966],\n",
    "                              dtype=np.float32))"
   ]
  },
  {
   "cell_type": "code",
   "execution_count": 0,
   "metadata": {
    "colab": {},
    "colab_type": "code",
    "id": "j5ecU0h-HSQm"
   },
   "outputs": [],
   "source": [
    "# let's only consider ~5k phrases for a first run.\n",
    "chosen_phrases = data[::len(data) // 1000]\n",
    "\n",
    "# compute vectors for chosen phrases\n",
    "chosen_tok = []\n",
    "for i in range(len(chosen_phrases)):\n",
    "    chosen_tok.append(tokenizer.tokenize(chosen_phrases[i].lower()))\n",
    "\n",
    "phrase_vectors = np.empty((0, 100))\n",
    "\n",
    "for i in range(len(chosen_tok)):\n",
    "    one_phrase_vectors = np.zeros([model.vector_size], dtype='float32')\n",
    "    for j in range(len(chosen_tok[i])):\n",
    "        if chosen_tok[i][j] in model.vocab.keys():\n",
    "            one_phrase_vectors = one_phrase_vectors + model.get_vector(chosen_tok[i][j])\n",
    "      \n",
    "    phrase_vectors = np.vstack((phrase_vectors, one_phrase_vectors))\n",
    "\n",
    "\n",
    "\n",
    "# # phrase_vectors = np.zeros([0, 100], dtype='float32')\n",
    "# for i in range(len(chosen_tok)):\n",
    "# #   print(chosen_tok[i])\n",
    "#   if chosen_tok[i] in model.vocab.keys():\n",
    "# #     phrase_vectors = phrase_vectors + model.get_vector(chosen_tok[i])\n",
    "#     phrase_vectors = np.vstack((phrase_vectors, model.get_vector(chosen_tok[i])))"
   ]
  },
  {
   "cell_type": "code",
   "execution_count": 96,
   "metadata": {
    "colab": {
     "base_uri": "https://localhost:8080/",
     "height": 34
    },
    "colab_type": "code",
    "id": "4oFJLZw-eig8",
    "outputId": "5a3db564-6df4-4250-dec8-e08513e8680f"
   },
   "outputs": [
    {
     "data": {
      "text/plain": [
       "(1001, 100)"
      ]
     },
     "execution_count": 96,
     "metadata": {
      "tags": []
     },
     "output_type": "execute_result"
    }
   ],
   "source": [
    "phrase_vectors.shape"
   ]
  },
  {
   "cell_type": "code",
   "execution_count": 0,
   "metadata": {
    "colab": {},
    "colab_type": "code",
    "id": "9smYCnv0HSQs"
   },
   "outputs": [],
   "source": [
    "assert isinstance(phrase_vectors, np.ndarray) and np.isfinite(phrase_vectors).all()\n",
    "assert phrase_vectors.shape == (len(chosen_phrases), model.vector_size)"
   ]
  },
  {
   "cell_type": "code",
   "execution_count": 98,
   "metadata": {
    "colab": {
     "base_uri": "https://localhost:8080/",
     "height": 510
    },
    "colab_type": "code",
    "id": "cohNKb5RHSQz",
    "outputId": "24e80432-506b-4864-bb06-6664526c2615"
   },
   "outputs": [
    {
     "name": "stdout",
     "output_type": "stream",
     "text": [
      "[t-SNE] Computing 91 nearest neighbors...\n",
      "[t-SNE] Indexed 1001 samples in 0.004s...\n",
      "[t-SNE] Computed neighbors for 1001 samples in 0.163s...\n",
      "[t-SNE] Computed conditional probabilities for sample 1000 / 1001\n",
      "[t-SNE] Computed conditional probabilities for sample 1001 / 1001\n",
      "[t-SNE] Mean sigma: 5.812442\n",
      "[t-SNE] Computed conditional probabilities in 0.070s\n",
      "[t-SNE] Iteration 50: error = 70.6550446, gradient norm = 0.3388840 (50 iterations in 2.057s)\n",
      "[t-SNE] Iteration 100: error = 72.6174240, gradient norm = 0.3079655 (50 iterations in 1.588s)\n",
      "[t-SNE] Iteration 150: error = 71.4708405, gradient norm = 0.2989936 (50 iterations in 1.640s)\n",
      "[t-SNE] Iteration 200: error = 72.7868271, gradient norm = 0.2940517 (50 iterations in 1.567s)\n",
      "[t-SNE] Iteration 250: error = 71.6650772, gradient norm = 0.2917077 (50 iterations in 1.608s)\n",
      "[t-SNE] KL divergence after 250 iterations with early exaggeration: 71.665077\n",
      "[t-SNE] Iteration 300: error = 1.3868402, gradient norm = 0.0043394 (50 iterations in 1.264s)\n",
      "[t-SNE] Iteration 350: error = 1.2992207, gradient norm = 0.0005673 (50 iterations in 1.187s)\n",
      "[t-SNE] Iteration 400: error = 1.2611679, gradient norm = 0.0004235 (50 iterations in 1.194s)\n",
      "[t-SNE] Iteration 450: error = 1.2466493, gradient norm = 0.0001655 (50 iterations in 1.305s)\n",
      "[t-SNE] Iteration 500: error = 1.2381954, gradient norm = 0.0001191 (50 iterations in 1.651s)\n",
      "[t-SNE] Iteration 550: error = 1.2334548, gradient norm = 0.0000851 (50 iterations in 1.213s)\n",
      "[t-SNE] Iteration 600: error = 1.2306057, gradient norm = 0.0000678 (50 iterations in 1.227s)\n",
      "[t-SNE] Iteration 650: error = 1.2285743, gradient norm = 0.0000639 (50 iterations in 1.211s)\n",
      "[t-SNE] Iteration 700: error = 1.2271909, gradient norm = 0.0000559 (50 iterations in 1.273s)\n",
      "[t-SNE] Iteration 750: error = 1.2262218, gradient norm = 0.0000466 (50 iterations in 1.183s)\n",
      "[t-SNE] Iteration 800: error = 1.2254006, gradient norm = 0.0000428 (50 iterations in 1.309s)\n",
      "[t-SNE] Iteration 850: error = 1.2245536, gradient norm = 0.0000522 (50 iterations in 1.217s)\n",
      "[t-SNE] Iteration 900: error = 1.2241009, gradient norm = 0.0000420 (50 iterations in 1.234s)\n",
      "[t-SNE] Iteration 950: error = 1.2236031, gradient norm = 0.0000425 (50 iterations in 1.191s)\n",
      "[t-SNE] Iteration 1000: error = 1.2230536, gradient norm = 0.0000271 (50 iterations in 1.213s)\n",
      "[t-SNE] KL divergence after 1000 iterations: 1.223054\n"
     ]
    }
   ],
   "source": [
    "# map vectors into 2d space with pca, tsne or your other method of choice\n",
    "# don't forget to normalize\n",
    "\n",
    "phrase_vectors_2d = TSNE(verbose=1000).fit_transform(phrase_vectors)\n",
    "\n",
    "phrase_vectors_2d = (phrase_vectors_2d - phrase_vectors_2d.mean(axis=0)) / phrase_vectors_2d.std(axis=0)"
   ]
  },
  {
   "cell_type": "code",
   "execution_count": 99,
   "metadata": {
    "colab": {
     "base_uri": "https://localhost:8080/",
     "height": 34
    },
    "colab_type": "code",
    "id": "vr1mw9qZHSQ5",
    "outputId": "ce57633a-e881-439f-d759-0b63de0ae9a1"
   },
   "outputs": [
    {
     "data": {
      "text/html": [
       "\n",
       "\n",
       "\n",
       "\n",
       "\n",
       "\n",
       "  <div class=\"bk-root\" id=\"526cd013-93e6-446c-b879-9cd01d40905a\"></div>\n"
      ]
     },
     "metadata": {
      "tags": []
     },
     "output_type": "display_data"
    },
    {
     "data": {
      "application/javascript": [
       "(function(root) {\n",
       "  function embed_document(root) {\n",
       "    \n",
       "  var docs_json = {\"de79e257-beb3-43e2-b12a-c836c7307041\":{\"roots\":{\"references\":[{\"attributes\":{\"below\":[{\"id\":\"1239\",\"type\":\"LinearAxis\"}],\"left\":[{\"id\":\"1244\",\"type\":\"LinearAxis\"}],\"plot_height\":400,\"renderers\":[{\"id\":\"1239\",\"type\":\"LinearAxis\"},{\"id\":\"1243\",\"type\":\"Grid\"},{\"id\":\"1244\",\"type\":\"LinearAxis\"},{\"id\":\"1248\",\"type\":\"Grid\"},{\"id\":\"1257\",\"type\":\"BoxAnnotation\"},{\"id\":\"1267\",\"type\":\"GlyphRenderer\"}],\"title\":{\"id\":\"1290\",\"type\":\"Title\"},\"toolbar\":{\"id\":\"1255\",\"type\":\"Toolbar\"},\"x_range\":{\"id\":\"1231\",\"type\":\"DataRange1d\"},\"x_scale\":{\"id\":\"1235\",\"type\":\"LinearScale\"},\"y_range\":{\"id\":\"1233\",\"type\":\"DataRange1d\"},\"y_scale\":{\"id\":\"1237\",\"type\":\"LinearScale\"}},\"id\":\"1230\",\"subtype\":\"Figure\",\"type\":\"Plot\"},{\"attributes\":{\"plot\":{\"id\":\"1230\",\"subtype\":\"Figure\",\"type\":\"Plot\"},\"ticker\":{\"id\":\"1240\",\"type\":\"BasicTicker\"}},\"id\":\"1243\",\"type\":\"Grid\"},{\"attributes\":{},\"id\":\"1293\",\"type\":\"BasicTickFormatter\"},{\"attributes\":{\"overlay\":{\"id\":\"1257\",\"type\":\"BoxAnnotation\"}},\"id\":\"1251\",\"type\":\"BoxZoomTool\"},{\"attributes\":{\"callback\":null,\"tooltips\":[[\"phrase\",\"@phrase\"]]},\"id\":\"1269\",\"type\":\"HoverTool\"},{\"attributes\":{\"callback\":null},\"id\":\"1231\",\"type\":\"DataRange1d\"},{\"attributes\":{\"active_drag\":\"auto\",\"active_inspect\":\"auto\",\"active_multi\":null,\"active_scroll\":{\"id\":\"1250\",\"type\":\"WheelZoomTool\"},\"active_tap\":\"auto\",\"tools\":[{\"id\":\"1249\",\"type\":\"PanTool\"},{\"id\":\"1250\",\"type\":\"WheelZoomTool\"},{\"id\":\"1251\",\"type\":\"BoxZoomTool\"},{\"id\":\"1252\",\"type\":\"SaveTool\"},{\"id\":\"1253\",\"type\":\"ResetTool\"},{\"id\":\"1254\",\"type\":\"HelpTool\"},{\"id\":\"1269\",\"type\":\"HoverTool\"}]},\"id\":\"1255\",\"type\":\"Toolbar\"},{\"attributes\":{\"formatter\":{\"id\":\"1291\",\"type\":\"BasicTickFormatter\"},\"plot\":{\"id\":\"1230\",\"subtype\":\"Figure\",\"type\":\"Plot\"},\"ticker\":{\"id\":\"1245\",\"type\":\"BasicTicker\"}},\"id\":\"1244\",\"type\":\"LinearAxis\"},{\"attributes\":{\"callback\":null,\"data\":{\"color\":[\"blue\",\"blue\",\"blue\",\"blue\",\"blue\",\"blue\",\"blue\",\"blue\",\"blue\",\"blue\",\"blue\",\"blue\",\"blue\",\"blue\",\"blue\",\"blue\",\"blue\",\"blue\",\"blue\",\"blue\",\"blue\",\"blue\",\"blue\",\"blue\",\"blue\",\"blue\",\"blue\",\"blue\",\"blue\",\"blue\",\"blue\",\"blue\",\"blue\",\"blue\",\"blue\",\"blue\",\"blue\",\"blue\",\"blue\",\"blue\",\"blue\",\"blue\",\"blue\",\"blue\",\"blue\",\"blue\",\"blue\",\"blue\",\"blue\",\"blue\",\"blue\",\"blue\",\"blue\",\"blue\",\"blue\",\"blue\",\"blue\",\"blue\",\"blue\",\"blue\",\"blue\",\"blue\",\"blue\",\"blue\",\"blue\",\"blue\",\"blue\",\"blue\",\"blue\",\"blue\",\"blue\",\"blue\",\"blue\",\"blue\",\"blue\",\"blue\",\"blue\",\"blue\",\"blue\",\"blue\",\"blue\",\"blue\",\"blue\",\"blue\",\"blue\",\"blue\",\"blue\",\"blue\",\"blue\",\"blue\",\"blue\",\"blue\",\"blue\",\"blue\",\"blue\",\"blue\",\"blue\",\"blue\",\"blue\",\"blue\",\"blue\",\"blue\",\"blue\",\"blue\",\"blue\",\"blue\",\"blue\",\"blue\",\"blue\",\"blue\",\"blue\",\"blue\",\"blue\",\"blue\",\"blue\",\"blue\",\"blue\",\"blue\",\"blue\",\"blue\",\"blue\",\"blue\",\"blue\",\"blue\",\"blue\",\"blue\",\"blue\",\"blue\",\"blue\",\"blue\",\"blue\",\"blue\",\"blue\",\"blue\",\"blue\",\"blue\",\"blue\",\"blue\",\"blue\",\"blue\",\"blue\",\"blue\",\"blue\",\"blue\",\"blue\",\"blue\",\"blue\",\"blue\",\"blue\",\"blue\",\"blue\",\"blue\",\"blue\",\"blue\",\"blue\",\"blue\",\"blue\",\"blue\",\"blue\",\"blue\",\"blue\",\"blue\",\"blue\",\"blue\",\"blue\",\"blue\",\"blue\",\"blue\",\"blue\",\"blue\",\"blue\",\"blue\",\"blue\",\"blue\",\"blue\",\"blue\",\"blue\",\"blue\",\"blue\",\"blue\",\"blue\",\"blue\",\"blue\",\"blue\",\"blue\",\"blue\",\"blue\",\"blue\",\"blue\",\"blue\",\"blue\",\"blue\",\"blue\",\"blue\",\"blue\",\"blue\",\"blue\",\"blue\",\"blue\",\"blue\",\"blue\",\"blue\",\"blue\",\"blue\",\"blue\",\"blue\",\"blue\",\"blue\",\"blue\",\"blue\",\"blue\",\"blue\",\"blue\",\"blue\",\"blue\",\"blue\",\"blue\",\"blue\",\"blue\",\"blue\",\"blue\",\"blue\",\"blue\",\"blue\",\"blue\",\"blue\",\"blue\",\"blue\",\"blue\",\"blue\",\"blue\",\"blue\",\"blue\",\"blue\",\"blue\",\"blue\",\"blue\",\"blue\",\"blue\",\"blue\",\"blue\",\"blue\",\"blue\",\"blue\",\"blue\",\"blue\",\"blue\",\"blue\",\"blue\",\"blue\",\"blue\",\"blue\",\"blue\",\"blue\",\"blue\",\"blue\",\"blue\",\"blue\",\"blue\",\"blue\",\"blue\",\"blue\",\"blue\",\"blue\",\"blue\",\"blue\",\"blue\",\"blue\",\"blue\",\"blue\",\"blue\",\"blue\",\"blue\",\"blue\",\"blue\",\"blue\",\"blue\",\"blue\",\"blue\",\"blue\",\"blue\",\"blue\",\"blue\",\"blue\",\"blue\",\"blue\",\"blue\",\"blue\",\"blue\",\"blue\",\"blue\",\"blue\",\"blue\",\"blue\",\"blue\",\"blue\",\"blue\",\"blue\",\"blue\",\"blue\",\"blue\",\"blue\",\"blue\",\"blue\",\"blue\",\"blue\",\"blue\",\"blue\",\"blue\",\"blue\",\"blue\",\"blue\",\"blue\",\"blue\",\"blue\",\"blue\",\"blue\",\"blue\",\"blue\",\"blue\",\"blue\",\"blue\",\"blue\",\"blue\",\"blue\",\"blue\",\"blue\",\"blue\",\"blue\",\"blue\",\"blue\",\"blue\",\"blue\",\"blue\",\"blue\",\"blue\",\"blue\",\"blue\",\"blue\",\"blue\",\"blue\",\"blue\",\"blue\",\"blue\",\"blue\",\"blue\",\"blue\",\"blue\",\"blue\",\"blue\",\"blue\",\"blue\",\"blue\",\"blue\",\"blue\",\"blue\",\"blue\",\"blue\",\"blue\",\"blue\",\"blue\",\"blue\",\"blue\",\"blue\",\"blue\",\"blue\",\"blue\",\"blue\",\"blue\",\"blue\",\"blue\",\"blue\",\"blue\",\"blue\",\"blue\",\"blue\",\"blue\",\"blue\",\"blue\",\"blue\",\"blue\",\"blue\",\"blue\",\"blue\",\"blue\",\"blue\",\"blue\",\"blue\",\"blue\",\"blue\",\"blue\",\"blue\",\"blue\",\"blue\",\"blue\",\"blue\",\"blue\",\"blue\",\"blue\",\"blue\",\"blue\",\"blue\",\"blue\",\"blue\",\"blue\",\"blue\",\"blue\",\"blue\",\"blue\",\"blue\",\"blue\",\"blue\",\"blue\",\"blue\",\"blue\",\"blue\",\"blue\",\"blue\",\"blue\",\"blue\",\"blue\",\"blue\",\"blue\",\"blue\",\"blue\",\"blue\",\"blue\",\"blue\",\"blue\",\"blue\",\"blue\",\"blue\",\"blue\",\"blue\",\"blue\",\"blue\",\"blue\",\"blue\",\"blue\",\"blue\",\"blue\",\"blue\",\"blue\",\"blue\",\"blue\",\"blue\",\"blue\",\"blue\",\"blue\",\"blue\",\"blue\",\"blue\",\"blue\",\"blue\",\"blue\",\"blue\",\"blue\",\"blue\",\"blue\",\"blue\",\"blue\",\"blue\",\"blue\",\"blue\",\"blue\",\"blue\",\"blue\",\"blue\",\"blue\",\"blue\",\"blue\",\"blue\",\"blue\",\"blue\",\"blue\",\"blue\",\"blue\",\"blue\",\"blue\",\"blue\",\"blue\",\"blue\",\"blue\",\"blue\",\"blue\",\"blue\",\"blue\",\"blue\",\"blue\",\"blue\",\"blue\",\"blue\",\"blue\",\"blue\",\"blue\",\"blue\",\"blue\",\"blue\",\"blue\",\"blue\",\"blue\",\"blue\",\"blue\",\"blue\",\"blue\",\"blue\",\"blue\",\"blue\",\"blue\",\"blue\",\"blue\",\"blue\",\"blue\",\"blue\",\"blue\",\"blue\",\"blue\",\"blue\",\"blue\",\"blue\",\"blue\",\"blue\",\"blue\",\"blue\",\"blue\",\"blue\",\"blue\",\"blue\",\"blue\",\"blue\",\"blue\",\"blue\",\"blue\",\"blue\",\"blue\",\"blue\",\"blue\",\"blue\",\"blue\",\"blue\",\"blue\",\"blue\",\"blue\",\"blue\",\"blue\",\"blue\",\"blue\",\"blue\",\"blue\",\"blue\",\"blue\",\"blue\",\"blue\",\"blue\",\"blue\",\"blue\",\"blue\",\"blue\",\"blue\",\"blue\",\"blue\",\"blue\",\"blue\",\"blue\",\"blue\",\"blue\",\"blue\",\"blue\",\"blue\",\"blue\",\"blue\",\"blue\",\"blue\",\"blue\",\"blue\",\"blue\",\"blue\",\"blue\",\"blue\",\"blue\",\"blue\",\"blue\",\"blue\",\"blue\",\"blue\",\"blue\",\"blue\",\"blue\",\"blue\",\"blue\",\"blue\",\"blue\",\"blue\",\"blue\",\"blue\",\"blue\",\"blue\",\"blue\",\"blue\",\"blue\",\"blue\",\"blue\",\"blue\",\"blue\",\"blue\",\"blue\",\"blue\",\"blue\",\"blue\",\"blue\",\"blue\",\"blue\",\"blue\",\"blue\",\"blue\",\"blue\",\"blue\",\"blue\",\"blue\",\"blue\",\"blue\",\"blue\",\"blue\",\"blue\",\"blue\",\"blue\",\"blue\",\"blue\",\"blue\",\"blue\",\"blue\",\"blue\",\"blue\",\"blue\",\"blue\",\"blue\",\"blue\",\"blue\",\"blue\",\"blue\",\"blue\",\"blue\",\"blue\",\"blue\",\"blue\",\"blue\",\"blue\",\"blue\",\"blue\",\"blue\",\"blue\",\"blue\",\"blue\",\"blue\",\"blue\",\"blue\",\"blue\",\"blue\",\"blue\",\"blue\",\"blue\",\"blue\",\"blue\",\"blue\",\"blue\",\"blue\",\"blue\",\"blue\",\"blue\",\"blue\",\"blue\",\"blue\",\"blue\",\"blue\",\"blue\",\"blue\",\"blue\",\"blue\",\"blue\",\"blue\",\"blue\",\"blue\",\"blue\",\"blue\",\"blue\",\"blue\",\"blue\",\"blue\",\"blue\",\"blue\",\"blue\",\"blue\",\"blue\",\"blue\",\"blue\",\"blue\",\"blue\",\"blue\",\"blue\",\"blue\",\"blue\",\"blue\",\"blue\",\"blue\",\"blue\",\"blue\",\"blue\",\"blue\",\"blue\",\"blue\",\"blue\",\"blue\",\"blue\",\"blue\",\"blue\",\"blue\",\"blue\",\"blue\",\"blue\",\"blue\",\"blue\",\"blue\",\"blue\",\"blue\",\"blue\",\"blue\",\"blue\",\"blue\",\"blue\",\"blue\",\"blue\",\"blue\",\"blue\",\"blue\",\"blue\",\"blue\",\"blue\",\"blue\",\"blue\",\"blue\",\"blue\",\"blue\",\"blue\",\"blue\",\"blue\",\"blue\",\"blue\",\"blue\",\"blue\",\"blue\",\"blue\",\"blue\",\"blue\",\"blue\",\"blue\",\"blue\",\"blue\",\"blue\",\"blue\",\"blue\",\"blue\",\"blue\",\"blue\",\"blue\",\"blue\",\"blue\",\"blue\",\"blue\",\"blue\",\"blue\",\"blue\",\"blue\",\"blue\",\"blue\",\"blue\",\"blue\",\"blue\",\"blue\",\"blue\",\"blue\",\"blue\",\"blue\",\"blue\",\"blue\",\"blue\",\"blue\",\"blue\",\"blue\",\"blue\",\"blue\",\"blue\",\"blue\",\"blue\",\"blue\",\"blue\",\"blue\",\"blue\",\"blue\",\"blue\",\"blue\",\"blue\",\"blue\",\"blue\",\"blue\",\"blue\",\"blue\",\"blue\",\"blue\",\"blue\",\"blue\",\"blue\",\"blue\",\"blue\",\"blue\",\"blue\",\"blue\",\"blue\",\"blue\",\"blue\",\"blue\",\"blue\",\"blue\",\"blue\",\"blue\",\"blue\",\"blue\",\"blue\",\"blue\",\"blue\",\"blue\",\"blue\",\"blue\",\"blue\",\"blue\",\"blue\",\"blue\",\"blue\",\"blue\",\"blue\",\"blue\",\"blue\",\"blue\",\"blue\",\"blue\",\"blue\",\"blue\",\"blue\",\"blue\",\"blue\",\"blue\",\"blue\",\"blue\",\"blue\",\"blue\",\"blue\",\"blue\",\"blue\",\"blue\",\"blue\",\"blue\",\"blue\",\"blue\",\"blue\",\"blue\",\"blue\",\"blue\",\"blue\",\"blue\",\"blue\",\"blue\",\"blue\",\"blue\",\"blue\",\"blue\",\"blue\",\"blue\",\"blue\",\"blue\",\"blue\",\"blue\",\"blue\",\"blue\",\"blue\",\"blue\",\"blue\",\"blue\",\"blue\",\"blue\",\"blue\",\"blue\",\"blue\",\"blue\",\"blue\",\"blue\",\"blue\",\"blue\",\"blue\",\"blue\",\"blue\",\"blue\",\"blue\",\"blue\",\"blue\",\"blue\",\"blue\",\"blue\",\"blue\",\"blue\",\"blue\",\"blue\",\"blue\",\"blue\",\"blue\",\"blue\",\"blue\",\"blue\",\"blue\",\"blue\",\"blue\",\"blue\",\"blue\",\"blue\",\"blue\",\"blue\",\"blue\",\"blue\",\"blue\",\"blue\",\"blue\",\"blue\",\"blue\",\"blue\",\"blue\",\"blue\",\"blue\",\"blue\",\"blue\",\"blue\",\"blue\",\"blue\",\"blue\",\"blue\",\"blue\",\"blue\",\"blue\",\"blue\",\"blue\",\"blue\",\"blue\",\"blue\",\"blue\",\"blue\",\"blue\",\"blue\",\"blue\",\"blue\",\"blue\",\"blue\",\"blue\",\"blue\",\"blue\",\"blue\",\"blue\",\"blue\",\"blue\",\"blue\",\"blue\",\"blue\",\"blue\",\"blue\",\"blue\",\"blue\",\"blue\",\"blue\",\"blue\",\"blue\",\"blue\",\"blue\",\"blue\",\"blue\",\"blue\",\"blue\",\"blue\",\"blue\",\"blue\",\"blue\",\"blue\",\"blue\",\"blue\",\"blue\",\"blue\",\"blue\",\"blue\",\"blue\",\"blue\",\"blue\",\"blue\",\"blue\",\"blue\",\"blue\",\"blue\"],\"phrase\":[\"Can I get back with my ex even though she is pregn\",\"What is the best way to become an arms dealer in t\",\"Why doesn't Japan contribute to peace and prosperi\",\"Which is the best Panasonic air conditioner servic\",\"What did ancient Egyptians believe about the after\",\"How does one prepare for the RBI grade B officers \",\"Which institutions in Kolkata give coaching for en\",\"Will omar bravo be in fifa 17?\\n\",\"What are the pros and cons of arranged marriages?\\n\",\"What will happen if all the vegetable dies?\\n\",\"Why do people hate hypocrites?\\n\",\"What do you consider poor, middle class, wealthy a\",\"How do I concentrate on my studies?\\n\",\"What is new age psychobabble?\\n\",\"How can you tell if your man is cheating even if h\",\"Can you see yourself during lucid dreaming?\\n\",\"Which browser is most safe in terms of privacy and\",\"Can Google Assistant run on OnePlus 3T?\\n\",\"Apart from the VW Vento / Polo and Skoda Rapid, ar\",\"What is Panera Bread?\\n\",\"Do athletes live longer and healthier? If not, why\",\"Could a pitbull take on a wolf in a fight?\\n\",\"What has Obama done for Latinos/Hispanics?\\n\",\"How much is |x|^2?\\n\",\"How does operator.com work?\\n\",\"Why do people not make movies/talk about the Romas\",\"What were the major contributions of the political\",\"Company Secretaries (CS): How do I prepare for CS \",\"What are the job prospects of chemical engineers a\",\"I have never gone to a bank. How do I put money in\",\"What is the best strategy to prepare for the GATE \",\"Who is this porn star?\\n\",\"Why are specs & sunglasses so expensive?\\n\",\"I installed the movie torrent with Ultra XVid Code\",\"Can we ride scootry with learning lisence age of 1\",\"Two cards were drawn, without replacement, from a \",\"How much money is needed per month to live in indi\",\"Why do companies issue bonus shares?\\n\",\"Why are Iranians and Afghans considered white Amer\",\"Could mumps cause deafness?\\n\",\"What is meaning of sadaka?\\n\",\"What should I know before starting a YouTube caree\",\"Is the ITI College Principal is gazetted officer?\\n\",\"How do you feel now that Donald Trump is now the P\",\"What is the difference between imperial units and \",\"What is the easiest way to do effective self hypno\",\"Why has China increased its involvement in the Syr\",\"From which year CBSE class 10th exam be reintroduc\",\"Is 1080p a Blu-ray?\\n\",\"Does using mirrors to concentrate thermal energy d\",\"How do I avoid attractions by phones?\\n\",\"What are some of the effects of education can you \",\"What are the characteristics of a Pisces Sun/Libra\",\"What is the most cost-effective option to ship pac\",\"Are red and blue complementary colors?\\n\",\"Is it possible to make a material that is a superc\",\"What is the best Shonen Jump manga?\\n\",\"Are Oracle and Cisco good companies for a new grad\",\"If lighting a match is considered a chemical chang\",\"Why is Hillary so afraid of Putin?\\n\",\"Which is the best book to study electronics basics\",\"What are the basics I should know before learning \",\"Can I use Cph4 on a day to day basis?\\n\",\"Is it safe when I buy things from China?\\n\",\"Why did some ethnic minorities support Brexit?\\n\",\"How much money has tinder made?\\n\",\"What is the limit?\\n\",\"Will browsing Facebook while connected to Tor reve\",\"If I get 68.4 percent in ftre 2016 class 10 then w\",\"No product market fit: change product or market fi\",\"What makes you sad about India?\\n\",\"How do I know if someone has read my messages on w\",\"Why there is a sound when we crack our knuckles?\\n\",\"Why do I only make friends with guys?\\n\",\"What is 'open-mindedness'?\\n\",\"What is the cause of carpal tunnel syndrome?\\n\",\"What is the difference between a \\\"slow cooker\\\" and\",\"What is Hillary Clinton's stance on nuclear energy\",\"Do IIT colleges require a caste validity for an ST\",\"How do I listen a song from you?\\n\",\"Why do so many Iranians immigrate to Canada?\\n\",\"What will happen to India-U.S. relations after Tru\",\"A program that stored five words in the memory the\",\"What are ways of joining to ISRO as engineer other\",\"Can Magneto defeat Hulk?\\n\",\"What time of year is it best to visit Singapore?\\n\",\"How do I study for ib?\\n\",\"What should I do if someone doesn't reply to my em\",\"How much does Manveer Singh Phogat gets for Dangal\",\"What is it like to be cannibal?\\n\",\"How can the Android app development companies help\",\"Who would you say is the most fun person in Israel\",\"How can one improve her figure and butt size witho\",\"As a company that provides travel agencies and tou\",\"What is the most beautiful thing you saw today?\\n\",\"Is gay flirting good?\\n\",\"Can I use Stripe in Europe?\\n\",\"Will Britain leaving the European Union lead to th\",\"Why are so many East Asian immigrants so averse to\",\"Why do we need computer networking?\\n\",\"What is retina detachment?\\n\",\"Why don't more bars have mechanical bulls?\\n\",\"How do I get better understanding of C++?\\n\",\"Which is the most profitable Porsche US dealer?\\n\",\"What are the best over the ear headphones for abou\",\"Is it true that the first kill is the hardest?\\n\",\"Which is best 32 inch led tv to buy below 20,000 I\",\"I am scoring 130/506 in FiitJEE aits part test adv\",\"What kind of websites are missing from the Interne\",\"What is the best way to use free time at IITB?\\n\",\"Is it possible for me to buy my first company usin\",\"What should I do to have sex with as many women as\",\"What is the scope of Executive MBA in India?\\n\",\"Which BMW models do not have a Hofmeister Kink?\\n\",\"What is yellow journalism?\\n\",\"Why do doctors charge uninsured patients 10 times \",\"Which one is the best public sector job or private\",\"Will social media ever help to spur on the US youn\",\"How should I know a video is 360 degree?\\n\",\"Is a practice manual sufficient for the CA Final I\",\"Career Advice: Being an Indian college student, ho\",\"What are the advantages and disadvantages of Li-Fi\",\"On Snapchat, I deleted someone. Can they re-add me\",\"Are there any cereals that taste good with water?\\n\",\"Why does a woman's vagina push a mans penis out?\\n\",\"What is the British word for bullpen?\\n\",\"How hard is it for international students to get a\",\"How did Revan build his foundation of his army in \",\"What is the best way to read a fictional book? Do \",\"How do you replace a ignition lock cylinder?\\n\",\"How can I prevent business failure?\\n\",\"How often do tides occur? What causes it?\\n\",\"How do I learn Calculus on my own?\\n\",\"What is the reason for Priyanka Gandhi not changin\",\"What should I eat when I'm sick with a cold or flu\",\"What is a Business Intelligence Analyst?\\n\",\"Which sports should I start to play to paticipate \",\"How should I prepare for Java fresher interview?\\n\",\"How different are cuisines of Arab countries?\\n\",\"What is the meaning of the phrase, all is fair in \",\"Why does Quora send me a notification that my ques\",\"What are the hardest obstacles to breaking into a \",\"What makes a falling snowflake large (or not)?\\n\",\"What is the compensation for Partners/Principals a\",\"What is the difference between an array and a vect\",\"If you kiss the NC State wolf do you become an NC \",\"Is it boring (from a social perspective) to live i\",\"What would have happened if in 1971 war all 93000 \",\"What are the easiest things to do while being abro\",\"Does getting root canal cause problem in speaking \",\"What is the definition of a truncated sentence and\",\"Would I look good with a nose ring? if yes which n\",\"What are the perks of working in Amazon?\\n\",\"How can we say that climate change does not bring \",\"What it is like to meet \\\"Shahid Kapoor\\\"?\\n\",\"How does it feel when you are dead?\\n\",\"Which is the best juicer, grinder or mixer in Indi\",\"How do I learn to think more logically?\\n\",\"Which movie has the best beginning ever?\\n\",\"Which laws been enacted to prevent family members \",\"What is iPhone 6s plus cost present?\\n\",\"What is Ohm's law and amperage I?\\n\",\"What is the nicest thing a stranger has done for y\",\"Why do some heroic people who do good things choos\",\"How will Hindus react if Babri Masjid is reconstru\",\"R2I - How did you plan R2I from US if you own the \",\"How can I master C programming in 7 days?\\n\",\"What is the right way to clean ear wax?\\n\",\"What are some good games to play during class?\\n\",\"Is it possible to hack WhatsApp messenger?\\n\",\"Why do airplanes carry more weight than helicopter\",\"Shaving: Do electric shavers work better than manu\",\"Has anyone benefited, health-wise, from essential \",\"Can Students at Hogwarts have sex while there? Doe\",\"How can we enhance our efficiency with Yoga?\\n\",\"What are the best app review sites and blogs?\\n\",\"Can two companies be registered on the same addres\",\"Is it true that as per Indian law, one can't be ha\",\"Who would win in a war between Bangladesh and Myan\",\"How do you reply when someone thanks you for forgi\",\"Who would win a fight between wolverine and Batman\",\"What is one thing you wish for yourself in the fut\",\"Can you cry underwater?\\n\",\"What's the difference between SSL, TLS, and HTTPS?\",\"Why are antigravity muscles more affected in Upper\",\"In order to buy a house, does one have to rent fir\",\"What is the probability of choosing a pink ball fr\",\"Which is the best car to get under 8 lakhs?\\n\",\"Why isn't China's role in the Korean and Vietnam w\",\"What is the Laplace transform of t^(1/2) * e^ (-1/\",\"To those who told a big lie to their parents and t\",\"What is runtime polymorphism or dynamic method dis\",\"I had sex 5 days after my period, what are the cha\",\"How would you describe yourself in one tweet?\\n\",\"How do fairy tales influence creativity in humans?\",\"How do I add delay() and sound() in Dev-C++?\\n\",\"What is the pathophysiology of ADHD?\\n\",\"What are the top benefits of life insurance polici\",\"Can I get a TV from Bang & Olufsen for under $2500\",\"How is the life of an ece student at dayananda sag\",\"What is meditation?\\n\",\"Were the Ancient Greeks scientists, or just philos\",\"How does Google authenticator work?\\n\",\"Wouldn't it be better if kids were allowed to focu\",\"Can you apply for a certificate on Coursera/edX af\",\"Why do Quora engineers use large monitors?\\n\",\"How do I start an online clothing business?\\n\",\"How will the government meet the challenges of acc\",\"I saw a charge on my credit card under from a comp\",\"What is the difference between socialization and r\",\"How would the world be different if everyone spoke\",\"Who receives the fares in a cab service?\\n\",\"As a non-resident alien doing a summer internship \",\"Which is the best camera smartphone under 20k?\\n\",\"What does it mean to dream about someone before th\",\"What are the subjects in which I can apply for my \",\"What are the basics of Jainism?\\n\",\"What is the Difference between existential nihilis\",\"How can I see my girlfriend's WhatsApp chat messag\",\"What are some ways to enjoy sex with my newly marr\",\"How can I study the Bible?\\n\",\"How can someone be a friend, girlfriend, wife and \",\"What are the Snapchat usernames of punjabi celebri\",\"What is 1/2 times 1/2?\\n\",\"Where does the word restaurant come from and what \",\"What can I do with a computational linguistics deg\",\"Will trump win as president?\\n\",\"What impact will AI eventually have on how we plan\",\"Why is eating too unhealthy?\\n\",\"What if the Syrian civil war never happened?\\n\",\"How do the teachings, learning, followership and/o\",\"Did you ever been in a group of stupid people?\\n\",\"What are the multiple types of social issues?\\n\",\"Where can I find beginner NodeJS tutorials that us\",\"If I got a 7.4 CGPA in the SA1 10 class, then can \",\"Which the best time table for 10th class exams pre\",\"Elite Escorts in DHA Lahore?\\n\",\"My ex bf says he doesn't have feelings for me righ\",\"What are the questions in the interview for a fres\",\"What do you think are some of benefits to humans f\",\"Which one is the best medical college hostel in in\",\"Have you lived in a tiny house?\\n\",\"What are some things new employees should know goi\",\"Where can I hire high pressure cleaning service in\",\"How many Bollywood Actresses consume alcohol in re\",\"How does PayU earn money?\\n\",\"Is it possible to change your personality as a chi\",\"How do I apply to London School of Economics as an\",\"How do I build a profile to get accepted into a st\",\"How can I get real ghost stories?\\n\",\"Is it possible to hack NASA's New Horizons satelli\",\"What is the best way of getting good at answering \",\"How would you deal with jerks?\\n\",\"How can I do internship in Accenture India?\\n\",\"Why would an Indian girl not want to get married?\\n\",\"My WhatsApp chat backup got deleted from Google, I\",\"Is going to college really worth it or just a wast\",\"How many prophets did God send to the Jews?\\n\",\"What is the relation and difference between Artifi\",\"If you don\\u2019t have a good network, what would be th\",\"What are the best place to visit in Rio de Janeiro\",\"Which is the best college for PG in Cyber Security\",\"Which are the best English serials?\\n\",\"How do you say \\u201cWhat\\u2019s up?\\u201d in Chinese?\\n\",\"Is it bad to take expired fish oil pills because t\",\"Will there ever be a genuine Authoritarian candida\",\"Is World War III on its way right now?\\n\",\"How can you use time formats in Excel?\\n\",\"What is the best antivirus for Windows 8?\\n\",\"Why do people like Metal/Hard rock so much?\\n\",\"What are the worst smelling things in the world?\\n\",\"Could someone explain the following electives at N\",\"What's a funny thing?\\n\",\"What are the main reason of cracks?\\n\",\"How do I hitchhike in Europe?\\n\",\"What is the physical significance of quantum mecha\",\"How do we get dead people off business junk mail l\",\"Who among the four in the picture given in descrip\",\"How do I know if I authentically, genuinely, hones\",\"On average, how long does it take a letter mail fr\",\"When will One Piece have episode 517 dubbed?\\n\",\"What should I do if I fell in love with my best fr\",\"How do criminal lawyers sleep at night even when t\",\"Can I get refund for Tatkal e-ticket because train\",\"How can I buy the new Macbook 12\\\" M7 512GB model i\",\"What are the different e-governance methods used b\",\"How do I run smoother GTA V? I have intel core i3 \",\"What is the use of tanpura?\\n\",\"What are the Snapchat usernames of celebrities?\\n\",\"Which is better- cracking gate and going for IIT/i\",\"Can you lose weight without exercising?\\n\",\"What is the best way to make life more interesting\",\"Is Delhi a must for UPSC coaching?\\n\",\"Which are the best colleges for electronics and in\",\"I have been a .Net developer for over 2 years and \",\"Has a smartphone ever been taken to space? If yes \",\"What questions should I ask my boyfriend, we are b\",\"How do I delete a contact blocked in WhatsApp?\\n\",\"Is it a good time to buy real estate in Cyprus?\\n\",\"South India: Why is South India much more develope\",\"What is the formula for a hydrocarbon?\\n\",\"What if an alien comes and tells us that the physi\",\"What are the pros & cons of democracy?\\n\",\"I'm 16 years old and wanted to lose weight and bod\",\"Can I add more peers to the torrent for max speed \",\"What are the best neighborhoods to Airbnb in Chica\",\"What we will get in mahabalipuram beach sunrise or\",\"How fast can you accelerate to the speed of light?\",\"What is the difference between R-squared and Adjus\",\"How many times can women reach orgasm in a hour an\",\"Why didn't Johor, Batam & Singapore integrate more\",\"Which products are more profitable in online sell?\",\"How do I get rid of muscle?\\n\",\"What is the process of directing and casting child\",\"Is the 7th pay commission needed?\\n\",\"What are the best games that are compatible on a C\",\"What was the significance of the battle of Somme, \",\"How do you see Pakistan PM Nawaz Sharif's speech a\",\"Where can I publish my apps?\\n\",\"What was your darkest moment?\\n\",\"Why does the UK have an unwritten Constitution?\\n\",\"What are the necessary steps in documenting a mobi\",\"Why was life created? Why was life so painful?\\n\",\"How can I use explainer video to review products o\",\"What is difference between residue and error?\\n\",\"If 6.5 to 8.5 will be the safe level of pH value i\",\"I am 23 and don't know what I want. My life is ver\",\"What are your three favorite websites for reading?\",\"Why do people choose to be a GAY?\\n\",\"What is the process of death?\\n\",\"Why does light red deserve the special name \\\"pink\\\"\",\"Who are millennials?\\n\",\"What it's like doing CA articleship from Big 4s?\\n\",\"What is the most important right or freedom guaran\",\"Why do some porn stars have unprotected sex?\\n\",\"What are my reasons to live?\\n\",\"How small would a planet need to be to plainly see\",\"Some religion speaks of burning in hell after deat\",\"What does it feel like to be an IITian?\\n\",\"How does cognitive behavioural therapy work?\\n\",\"Why should you visit India?\\n\",\"I lost my Google account information. How can I re\",\"What if I port a number from Airtel to Vodafone in\",\"What are the reasons why time travel is impossible\",\"Will my iPhone alarm still go off if \\\"Do Not Distu\",\"Did South Korea cheat during the 2014 Asian Games?\",\"Take the minimum lethal volume of a gaz, put it in\",\"\\\"How to improve Project Management skills?\\\"\\n\",\"When you were small, did you ever think that your \",\"Where did the pointy \\\"S\\\" symbol come from?\\n\",\"How does it feels like to have a rich boyfriend?\\n\",\"What have you used your intelligence for?\\n\",\"What is a freewheeling diode?\\n\",\"How do we derive pi?\\n\",\"What is the importance of communication skills in \",\"How can I put icons on YouTube video titles? Also \",\"What does the phrase \\\"resonate with me\\\" mean?\\n\",\"How many types do we have of Manual testing?\\n\",\"What are IBAN numbers?\\n\",\"What is regret?\\n\",\"As a student specializing in English language, lit\",\"What is the corporate culture like at Corning? How\",\"How can I convert jazz standards to jazz guitar so\",\"How good was the surgical strike by Indian Army on\",\"What recipes are most conducive to romance?\\n\",\"What are the unknown facts about Tamil people whic\",\"Where do I find the most beautiful woman in the wo\",\"What does the grey phone icon mean on the messenge\",\"How do I share 360\\u00b0 photos on WhatsApp?\\n\",\"What is the difference between working stress meth\",\"What are the opportunities for an MBA in finance?\\n\",\"Can you patent clothing or fashion designs?\\n\",\"My in laws are apologists for Nazi war criminals a\",\"Which is the safest city in India for women?\\n\",\"What horse breed were commonly used during the \\\"Wi\",\"Is it weird to sometimes feel almost overwhelmed b\",\"Can anyone please list all the SAP SD topics a per\",\"In the filling of ibps application I put martial s\",\"In a restaurant, what are the different types of t\",\"Why does amir khan never go to any filmy awards fu\",\"What is a good inpatient drug and alcohol rehab ce\",\"Why does UV light cause contamination on optics, b\",\"How do I invest in mutual funds in India?\\n\",\"How comfortable are you with failure?\\n\",\"What skills are required to become a quant?\\n\",\"Why do startups announce fundraising?\\n\",\"What is your review of Amazon Video?\\n\",\"Why there is no team from Tamil nadu in pro kabbad\",\"How do I auto forward texts from my Verizon phone \",\"How do the Chinese people view Americans?\\n\",\"What is virgin or virginity?\\n\",\"What are the different ways of submitting a Reques\",\"Can a high school teacher legally force students t\",\"Why does water droplets form on the outer surface \",\"Which mammals have dark circles around eyes beside\",\"How do each components of a printer work?\\n\",\"What are some foods beginning with the letter W?\\n\",\"What are symptoms of a bad transmission control mo\",\"How do astronauts in ISS vote for Presidential ele\",\"What is the difference between Aim and Goal?\\n\",\"What is AT & C?\\n\",\"Who was Jackson Pollock? Was he mentally ill?\\n\",\"How do I make good vine edits?\\n\",\"How can I cut my penis?\\n\",\"How can I change my Quora profile photo?\\n\",\"My husband was here seeking asylum before we got m\",\"Is it good to use Laravel to develop a web app wit\",\"I have a mild sore throat an headache. What is tha\",\"When will a working nintendo 3DS emulator release \",\"What do we know about the health effects of vaping\",\"INSEAD: Worth the investment?\\n\",\"How is long rides in royal Enfield classic 350?\\n\",\"What famous boxers have participated on Dancing wi\",\"Will season 10 of Big Bang Theory be the final sea\",\"Can I crack KVPY (SX) with only three months left \",\"What are some little-known facts from World War II\",\"What is the most unique way of exam cheating you'v\",\"When was the last time a slam dunk broke a basketb\",\"What should I do for my excessive hair loss?\\n\",\"How do I find people's psychological weakness?\\n\",\"What is the difference between Awareness and Consc\",\"I hate everything that people around me like. Is i\",\"I think I am pretty good at thinking of a business\",\"How do you determine the thickness of a footing ba\",\"Why does vapours are formed when we pressurize alc\",\"Is it easy to adjust in German Universities withou\",\"What is UNIX and UNIX-like?\\n\",\"What is the best way to promote www.dorkyard.com?\\n\",\"What's up in Addis Abeba tonight?\\n\",\"Is there any point to going to college if you have\",\"How much would it cost to construct 800 sqft area \",\"What is an ideal wife? What is an ideal husband? W\",\"What information does port scanning provide?\\n\",\"What are the application of quasicrystals?\\n\",\"What is the determinant of the inverse of a matrix\",\"How is Brad Pitt in \\\"real Life\\\"?\\n\",\"I have a 3 yr bachelor's degree in Computer Scienc\",\"Demonetisation is good for county like India or no\",\"My parents think I am rude for being so introverte\",\"How many people have jumped off the Golden Gate br\",\"What are Osho's views on Islam?\\n\",\"Why does the government regulate health care?\\n\",\"Which phone has the best sound recording quality?\\n\",\"What is the best part of your life, and why is it \",\"Which is better hair wax or hair clay?\\n\",\"How do I charge my motorcycle battery?\\n\",\"What are the updates we get after miui 8.0.6.0?\\n\",\"Why does Robinhood need to bypass the App Store?\\n\",\"Which is a better route, Alipiri or Sri Vaari?\\n\",\"How much extra would it cost if Apple manufactured\",\"When will the next recession be?\\n\",\"What are some arguments in support of electing Don\",\"What does Russia want with Ukraine?\\n\",\"What is the difference between a recorder (block f\",\"What is the meaning of random number?\\n\",\"Which one is good for health: tea or coffee?\\n\",\"Is Texas good state for non-resident to register a\",\"What is kirchoff's law?\\n\",\"Is it wrong for a family member to keep making com\",\"My parents are forcing to marry a girl of their ch\",\"Which is better, Windows+Linux or OSX?\\n\",\"Why aren\\u2019t Christians that pray to/have a relation\",\"How much TDS will I have to pay for an RD account \",\"What is the meaning of thematic connection?\\n\",\"How should you prepare to take your maneuverabilit\",\"What are the best materials/videos/resources to ge\",\"Can a \\\"dirty\\\" finish be added back to jeans?\\n\",\"Why does my dog keep whining at night?\\n\",\"Is it bad to turn off my PC using the power button\",\"What is image processing?\\n\",\"I went to school with mostly black kids, they bull\",\"Does Donald Trump actually think he can become Pre\",\"Which are the 5 best movies you have ever seen?\\n\",\"How do I get traffic to excursions travel website?\",\"Where can I download the Android game Leo's Fortun\",\"How do I get more followers and upvotes on Quora?\\n\",\"What is a factory reset on a phone?\\n\",\"Which phone should I buy if my budget is 12000?\\n\",\"I have GPU implementation as a graduation project.\",\"What are the libertarian views on the Antarctic Tr\",\"What would the world be like if it were ruled by a\",\"How do you choose your first bank?\\n\",\"Who runs berkuliah.com?\\n\",\"What does Godel's incompleteness theorem mean for \",\"How do I delete a Gmail account?\\n\",\"If my ultimate goal is to become a vegan, should I\",\"Did the US win the war in Afghanistan?\\n\",\"How can I become a good engineering student?\\n\",\"What are some ways to increase intuition?\\n\",\"What causes depression in humans?\\n\",\"How can I control my anxiety and worries?\\n\",\"How can we jump in between the working regions of \",\"How do I stop loving someone who loves me?\\n\",\"Can personality and insecurity create a liar?\\n\",\"What is the best country and university to do a Ph\",\"How do I edit a video offline?\\n\",\"What is the rent of kiosk in an upscale mall?\\n\",\"What should I start reading if I want to attempt t\",\"Which is the best anti-virus for computers?\\n\",\"Does food unite people?\\n\",\"What do you like most about Internet?\\n\",\"What is a good model of federalism in the Philippi\",\"How do you know if a girl secretly loves you?\\n\",\"Who is the most annoying fictional character you h\",\"How do you feel when your question is unanswered o\",\"Did early humans know how babies were made?\\n\",\"If I cancel xfinity, how can I sign up as a new cu\",\"Are there any TV series similar to House MD?\\n\",\"What you need to know before buying furniture for \",\"Have you ever had a dream happen in reality?\\n\",\"Is dark matter just a scientific theory or has its\",\"How can you increase your tolerance for pain?\\n\",\"How many logical fallacies are there?\\n\",\"How do buttercream icing frosting separate?\\n\",\"Which is the cheapest cinema hall of India?\\n\",\"What do you think would be a good gre score?\\n\",\"What is the best way to update Xiaomi redmi 3 to M\",\"What does toe jam cheese taste like?\\n\",\"How do I know if a YouTube video is copyrighted?\\n\",\"How should I start a business reselling shoes?\\n\",\"How do I hire a mobile app development company?\\n\",\"What is paras pathar?\\n\",\"How is the word \\\"colony\\\" used in a sentence?\\n\",\"What is Rebecca Fugate known for?\\n\",\"What should I consider before starting my consulta\",\"Do you feel that many attractive women get away wi\",\"Why do I feel so much guilt for kissing a girl?\\n\",\"What are some good tutorials for learning Blender?\",\"Is it deceitful to befriend someone in the hopes t\",\"Who do you think BJP will put as a candidate for t\",\"Which protein supplement is best for gym to gain w\",\"What is your review of KVPY SX/SB 2016?\\n\",\"How do I get people's attention for my work?\\n\",\"What are some of your own personal stories and exp\",\"If salt concentration of the sea(3%) were differen\",\"What is the chemical name for mothballs? How was i\",\"Vitamin D receptors in the Testes?\\n\",\"How do I lose weight without working out?\\n\",\"Where can I watch anime?\\n\",\"What is BusyBox used for?\\n\",\"What would be a good desktop computer for software\",\"What are your top five favorite books and why?\\n\",\"What are some good Harry/Ginny fanfiction?\\n\",\"What are the pros and cons of having sex during pe\",\"Which device will you enjoy watching movies in: a \",\"Will there be \\\"faithless\\\" electors this election?\\n\",\"Is Donald Trump an undercover democrat?\\n\",\"Why am I the way I am?\\n\",\"Why do some women get their nipples pierced?\\n\",\"What do Delhi University girls (especially North C\",\"What is the name of this TV series?\\n\",\"My salary is below the Basic Exemption Limit, yet \",\"What is a foliated rock?\\n\",\"What are some of the best books to start learning \",\"How should I prepare for IIT-JEE 2018?\\n\",\"How do unions work?\\n\",\"Can we give neet coaching in class 11?\\n\",\"Which is the best dish TV connection in Hyderabad?\",\"How can you train a Doberman/Lab mix?\\n\",\"How do you reduce stress at work?\\n\",\"What is the best algorithm for finding the number \",\"How can I earn $250 in 2 months?\\n\",\"Why did GE buy NBC?\\n\",\"What is the highest level of c?\\n\",\"How do you mash potatoes without a masher? What el\",\"How difficult is it to learn Python?\\n\",\"How do you convert years into seconds?\\n\",\"How do you view bisexuality?\\n\",\"What is information technology? What are some exam\",\"Why are Altoids so strong?\\n\",\"How effective is email marketing?\\n\",\"Why does my tutor keep winding me up. He says he i\",\"How can I start my Tok essay which is about accura\",\"How do I repair my corrupt memory card?\\n\",\"I have 3 years to prepare for IIT JAM Physics. How\",\"What are the best Instagram hack tools that have n\",\"I am studing interior design. What are some good i\",\"What are some stupid jokes that make you laugh?\\n\",\"What are the factors affecting Real estate investm\",\"How can I get rid of white dry spot on my face? It\",\"What is it like to have an ugly wife/partner?\\n\",\"What do you love most about your life and why?\\n\",\"In the unlikely event that the Electoral College t\",\"How is life as an Engineer?\\n\",\"Where and why are the imaginary numbers used?\\n\",\"What are some good hypo-allergenic lipsticks?\\n\",\"Did the United Nations play a part in the divide o\",\"When and Why did America become a world power?\\n\",\"What are some recipes using Hormel Black Label Ham\",\"Which is the best company to invest shares on Nove\",\"The man I'm about 2 marry says when I have my peri\",\"What can be the best answer for why finance?\\n\",\"What are the best facts about the universe?\\n\",\"What's the sweetest thing you did for a bestfriend\",\"What is the difference between techno and trance m\",\"TV Sitcoms: Why do English comedy shows have peopl\",\"Does percentile system would affect neet 1 student\",\"Is there Uber in Valencia, Madrid and Barcelona?\\n\",\"Have real-life siblings ever shot intimate scenes \",\"How should I improve my writing skill for blogging\",\"Can cold weather affect a menstrual cycle?\\n\",\"How can we earn money online while studying?\\n\",\"Can a tablet keyboard be used on any kind of table\",\"What are the Upcoming development projects in Chha\",\"Where can I buy cheap Twitter followers?\\n\",\"Why do passengers from aircraft are not given a bu\",\"When should I tell my crush I like her?\\n\",\"Why does Pakistan have a better image and reputati\",\"What are Andrea Pirlo's strengths as a midfielder?\",\"From a point in space billions of light years away\",\"Will Medicaid pay for electrologist to do the shav\",\"Why do technical employees despise sales people so\",\"What are the best freelance websites for C#?\\n\",\"Will I be successful without educations?\\n\",\"How can I learn about cars?\\n\",\"What is the best question asked in an interview?\\n\",\"Why there is so much hatred against Brahmins in In\",\"How do I learn to enter journal entries online in \",\"Will CS be issuing a PR message for Boston?\\n\",\"Why do some people 'hate' drugs or people who ever\",\"How do I know my passion? What is my talent and wh\",\"How do pessimists and optimists differ?\\n\",\"How many pulleys did it take for Archimedes to lif\",\"What is the best course after 12th for a medical s\",\"What are the steps that I should follow to get in \",\"Where was the boston marathon?\\n\",\"What is it like to be in or around a bomb blast?\\n\",\"Will Trump destroy international US-companies thro\",\"Should celebrities have the right to voice their o\",\"Can I say that: \\\"A battery can be seem as a capaci\",\"What is it like to be an ENTP?\\n\",\"How do I start designing on glass?\\n\",\"What is the market risk premium formula?\\n\",\"How can I pay the parking meter if I have no coins\",\"Is it true that Obama has a secret son named \\\"Luth\",\"Which is the best coaching for IAS in up?\\n\",\"How big is the equity funding market in North Amer\",\"Which are the good government medical colleges in \",\"How do I control my hair fall?\\n\",\"Is it really worth creating Shopify themes?\\n\",\"What can cause knee pain? It only hurts when I sta\",\"Where can you find a list of common 9 letter words\",\"NSFW: Is this penis color normal or should I see a\",\"Why do most women remove the hair from their arm p\",\"Which processor is better (faster/more efficient),\",\"Which two statements are true regarding views in s\",\"What is the easiest and quickest Indian food recip\",\"What are the best local SEO companies in India?\\n\",\"How do I get rid of adult content on my Quora feed\",\"Can the zombie fungi attack humans as well?\\n\",\"If I wanted to learn about the Roman Empire,what w\",\"What are the key differences between LXDE and XFCE\",\"Can people see the sellers real name, e-mail addre\",\"Should I still watch The Matrix movie?\\n\",\"Is there any truth to the rumor that the youngest \",\"Is it ok that I don't want to hang out with my fam\",\"I am in class 9. If i want to crack IIT JEE, then \",\"Will Obama's gang stalking/surveillance program be\",\"What are some good songs to lyric text prank a fri\",\"Where can I get best quality video DJ for party in\",\"How long does it take for your hair to grow?\\n\",\"Should I update my Redmi 3s from MIUI 7 to MIUI 8?\",\"How do muscles work?\\n\",\"WHAT IS THE BEST ROUT FOR NEPAL PASUPATI NATH TEMP\",\"How to make a website similar to feedwiser.com in \",\"Why does India so scared of CPEC?\\n\",\"What did your first sex feel like as a girl?\\n\",\"In International ODI/T20 cricket matches, if a bat\",\"Why can humans feel acceleration, but not constant\",\"Can the Microsoft Surface Pro 4 run AutoCAD?\\n\",\"What are the differences between stock Crown Victo\",\"What are the good ways to download Lynda.com's tut\",\"How much is the average salary package for a 1.5 y\",\"How can you reduce the barriers of communication?\\n\",\"Why would someone use Instagram Stories over Snapc\",\"Whiskey: How many 'shots' are in a fifth of Jack D\",\"What might happen now that President-elect Donald \",\"How do I write a waiver letter for school?\\n\",\"I am interested in persuing ma industrial psycholo\",\"Does modafinil shows up on a drug test? Because my\",\"Is it possible to get high off Vyvanse?\\n\",\"Is an agnostic necessarily a skeptic, and how?\\n\",\"Where can I get best support in Sydney for buying \",\"What are the duties of a lieutenant in Indian army\",\"Why is smileys not used on Quora?\\n\",\"What does it feel like for a man when someone who \",\"How does post graduation permit impact .lets say I\",\"Online Payment Gateways and Processing: What is th\",\"What are the best books to learn c programing lang\",\"Solid State Physics: What is The Theory of Alloys?\",\"How do I fill in my first name in a PAN card dupli\",\"Why is egg yolk not good for you?\\n\",\"Anatomy of Female Pelvis: Do women really have an \",\"How much does it cost to develop mobile applicatio\",\"Who is the most honest Game of Thrones character?\\n\",\"What is a high quality Apple MacBook Air charger?\\n\",\"Where and how is the WWE championship belt made?\\n\",\"What is green communication?\\n\",\"I have been a good student since chiild hood but j\",\"I'm solving exercises of artificial neural network\",\"Compared to your own compensation, and in consider\",\"How can I keep browsing Quora forever?\\n\",\"Having built web stuff the old way (PHP/MySQL) bac\",\"Is our new currency note of Rs.2000 equipped with \",\"What's the best way to join a startup in DC?\\n\",\"What would happen if we added a second Earth of eq\",\"When will piracy on Android stop?\\n\",\"What do you mean by executive consultant and suppo\",\"Why do I always feel like I am missing something?\\n\",\"What does a user see when he/she gets a new messag\",\"How can I become a web developer?\\n\",\"Is there any good alternative softwares to Tally?\\n\",\"Would you have sex during period?\\n\",\"Are there prominent Bangladeshi Hindus?\\n\",\"I have registered for PhD (no NET) (phy) in 2013, \",\"I changed my name, but the person did a mistake. M\",\"At what age do your breasts stop growing?\\n\",\"How do I get a girl's phone number in a library?\\n\",\"I am into a habit of over thinking things. How do \",\"What is the average salary of a civil engineer?\\n\",\"What is the difference between rote learning vs me\",\"What are the ways to compete in the Olympics in 20\",\"What trivia (and/or little-known facts) do you fin\",\"Xiaomi Redmi note 3: Which is the best colour to b\",\"What does \\\" the Hadamard Perron theorem\\\" means?\\n\",\"Is there a way to see the viewing history and chat\",\"What is the best place for trekking in Goa?\\n\",\"How does an instant messenger work?\\n\",\"What are the disadvantages of the World Trade Orga\",\"Why does the US military not use AK series rifles?\",\"Does Moto m have gorilla glass?\\n\",\"What is the hierarchy of an associate consultant a\",\"What are some major landforms in Texas, and how do\",\"What other jobs can a medical degree holder do mea\",\"MY HP DEXTOP DOESNOT CONNECT WIFI WHY?\\n\",\"How can I get motivated to workout?\\n\",\"What should I gift it to my mom on her birthday?\\n\",\"Which is the best video you have ever seen?\\n\",\"I was selected in campus and was issued a joining \",\"What makes a poem a good way to express emotions? \",\"What would happen if I cut down a tree outside my \",\"Can you make money in Amway?\\n\",\"Body Weight: How many pounds can I gain every week\",\"What are the impacts (both positive & negative) of\",\"I forgot the password which I used to login n n lo\",\"What are the best websites for career?\\n\",\"What is your favourite episode of the office (USA)\",\"Why is time slower down near heavy objects?\\n\",\"How do l update any version after rooting the mobi\",\"Why is 3 am called the witching hour?\\n\",\"How do I run a shell script from Java code?\\n\",\"What are the advertising campaigns of 2011?\\n\",\"Should I opt for computer science if I don't take \",\"What are the polymers of protein?\\n\",\"How much better will the JWST be than Hubble?\\n\",\"What are the greatest examples of absence of mind?\",\"How can I understand the STOCK market from the bas\",\"How do I make Gazpacho?\\n\",\"What is the typical role of a brand manager?\\n\",\"Who are the top 5 hottest women ever?\\n\",\"What is the name of the game that Aamir Khan was r\",\"How long does it take to learn dance?\\n\",\"What's the funniest thing that's happened to you a\",\"Why are metals malleable and ductile?\\n\",\"List of national daily in India?\\n\",\"Are Volvos actually safer than comparable cars?\\n\",\"Can you tell who has been looking at your Instagra\",\"A ball dropped from the roof of a building takes 4\",\"What percentage of Hillary Clinton's supporters ha\",\"Do you think you are beautiful?\\n\",\"Which are the free email marketing tools?\\n\",\"What topic of discussion do people hate the most? \",\"What is the point in having hyper-politicised stud\",\"Why Steve Jobs is considered as innovator?\\n\",\"How long would it take an average programmer to wr\",\"Why are conservatives defending Holly Fisher? (see\",\"What is so important about Adam Smith's pin factor\",\"What is the Arizona bark scorpion, and how do anim\",\"How do I stop smoking cigarettes?\\n\",\"What are the functions of a computer's motherboard\",\"How can tea bags help for styes?\\n\",\"How can I get a patent for my really effective inn\",\"Can India ever become 'Sone Ki Chidiya' again?\\n\",\"Is there any way to play Android games LAN multipl\",\"Why should I ask my first question?\\n\",\"Who are the top writers on Hinduism on Quora? Who \",\"How do I wake up at 4:00 A.M.?\\n\",\"Why is Quora moderation collapsing all my answers?\",\"In an honest assessment, what do you think of Trum\",\"What type of bonding is present in a coordinate bo\",\"Is it possible to delete your Wikipedia account hi\",\"I'm a +2 CBSE non-medical student. Is there any pr\",\"Are there any limitations as to setting up a forei\",\"How will the drought in California affect its econ\",\"What is Informatica online training?\\n\",\"Is it compulsory for a Web designer and developer \",\"How could the US realistically pay off its debt?\\n\",\"Who is Barry Soetoro?\\n\",\"How do I solve [math]2x^3-x^2+11x+3=0[/math]?\\n\",\"What are some hobbies couples can do at home?\\n\",\"How have meerkats adapted to the desert?\\n\",\"What causes dizziness when you lay down?\\n\",\"What should one do after a civil engineering degre\",\"What are the advantages of hiring skip bins servic\",\"Why is it necessary that singers lip-sync?\\n\",\"How can I turn off the screen overlay detected on \",\"How do you clean or polish a pair of Woodland shoe\",\"What are some classes you wish you took in high sc\",\"What is the formula of [math](a+b)^3[/math]?\\n\",\"What is it like to commit yourself to a psychiatri\",\"Is there any way to slow or reverse the late effec\",\"What would the implications be if we discovered th\",\"Any other program to help on code contribution for\",\"What is the bond order of [math]H_2[/math]?\\n\",\"What is the best way to create a website without c\",\"What were some causes and effects of the French Re\",\"What are some catchy headlines for a dating site?\\n\",\"Should I get Company of Heroes, World in Conflict \",\"How do I remove a person from a group in Skype?\\n\",\"Why was Manmohan Singh briefed by PM Modi after su\",\"Does anybody want to learn Chinese?\\n\",\"Is Xiaomi going the Nokia way to oblivion?\\n\",\"Should I buy hp 17.3 AMD laptop or lenovo 17.3 i5 \",\"Which is better a government job or a software job\",\"How can the word \\\"credulity\\\" be used in a sentence\",\"Does uber track time on app?\\n\",\"How do I get over direct rejection?\\n\",\"How can any institute get an ISO certificate?\\n\",\"What are the best pranks?\\n\",\"Are non-solicit agreements enforceable if the pers\",\"Which phone is best in 2016 for a 18 years boy my \",\"What is the definition of an archetypal hero?\\n\",\"Why are some \\\"ugly\\\" people still very attractive?\\n\",\"What are the chances of Donald Trump's impeachment\",\"What would a society based on laws enforcing only \",\"What is the full form of \\\"veto\\\" power?\\n\",\"How much do people get paid to do a TED talk?\\n\",\"What does it mean to say \\\"enriching herself off of\",\"How can I be more persuasive at work?\\n\",\"What is the corporate culture like at National Bev\",\"What is the fastest way to get a PAN card?\\n\",\"Who will win in America presidential elections in \",\"How do I solve this differential problem?\\n\",\"How is Banjara's Saffron Facial Kit used?\\n\",\"How do you understand life?\\n\",\"Will an MS from NUS in electrical engineering prov\",\"How does one create a strong password? Any tips?\\n\",\"Who was the best dressed at the 2016 Emmy's?\\n\",\"What is the cost of manufacturing a SIM card?\\n\",\"Are you tolerant?\\n\",\"Is [math]\\\\{1,2,3\\\\}[/math] a compact subset of a me\",\"What kind of energy is involved in hearing and vis\",\"What happened with Lehman Brothers?\\n\",\"What is a good web page publisher?\\n\",\"Why does eating radishes cause diarrhea?\\n\",\"How do I encrypt the data on my Android phone?\\n\",\"If there were an Oscar for \\\"Best Line in a Movie\\\",\",\"Why are tyres black?\\n\",\"What is the best way to unlock a Motorola Droid Bi\",\"Is a $45 a month job worth the experience?\\n\",\"Should I settle in Canada or Japan?\\n\",\"How is the appraisal process in Accenture? How wil\",\"How does sand turn into glass?\\n\",\"What effect will increased automation of jobs and \",\"I am 25 years old Indian guy, want to settle in Ne\",\"What are some Raksha Bandhan gift suggestions for \",\"How do I write a multi-dimensional villain that is\",\"Why is there no nucleus in a red blood cell?\\n\",\"Why do Quora allow anonymous fake questions from A\",\"Is it possible to merge a foursquare venue into a \",\"How do I find out if I have Siri on my phone?\\n\",\"Why do I feel like I'm not living my life?\\n\",\"What will happen to global stock market if Donald \",\"What makes weeds grow so much faster and easier th\",\"Do people with extremely high IQ need higher sugar\",\"What should teaching assistants do?\\n\",\"Why is Perth one of the most liveable cities in th\",\"How do you get to the entrance for Resolution Cave\",\"How do I get involved in research as an undergradu\",\"If you have one option to remove anything, what wi\",\"What are the risk after angioplasty?\\n\",\"Why can't men read the signals women give off when\",\"How can a non-EU medical graduate get into residen\",\"How do I stay active?\\n\",\"I'm going to Paris. What is the equivalent \\\"neighb\",\"How do I get rid of dandruff, or at least prevent \",\"Is Medicaid going to pay for the electrologist for\",\"When Australia became a nation in 1901, Did aborig\",\"What is the difference between SSL and Sitelock?\\n\",\"What are some unsolved problems in deep machine le\",\"What's the difference between computer engineering\",\"Is it possible to get a decent job after completin\",\"What is the difference between MG & BG in railway \",\"How do I control an Arduino with a Raspberry Pi?\\n\",\"What is the best field to pursue MS after doing el\",\"What is the difference between Directx and graphic\",\"How do I wirelessly charge the electrical devices \",\"Can you upload Numbers sheets from iPad to Google \",\"What's the best movie franchise you have ever watc\",\"If light does not have mass, then how can it be ab\",\"Why is the book of Esther in the Bible?\\n\",\"What makes comic books worth reading?\\n\",\"What are the advantages of outsourcing property ma\",\"What is a Quora credit competition?\\n\",\"Are data analyst/data science jobs boring?\\n\",\"Why don't satellites crash into each other?\\n\",\"How do dermatologists remove blackheads?\\n\",\"How can I choose between my dad and my mom?\\n\",\"Can you really not change people?\\n\",\"Being a non believer of a spiritual entity, I have\",\"Is black coffee fattening? If so, what makes it fa\",\"The education system is outdated. What would you d\",\"Who are the founders of Quora?\\n\",\"What is it like to be a landlord?\\n\",\"How many stamps do I need to send a letter to germ\",\"My father just recently got married. His wife goes\",\"Which countries are best to migrate from the US?\\n\",\"Can any one tell me a basketball club in Bangalore\",\"How can Spotify download songs offline?\\n\",\"How do I make money online for free in Spain?\\n\",\"Why is Tornado Alley prone to tornadoes?\\n\",\"How does helium change the inhaler's voice?\\n\",\"What is a bedding ceremony in Game of Thrones?\\n\",\"What is it like living in former East Germany as a\",\"Did the USA or NATO commit any war crimes in Iraq?\",\"Why don't we capture terrorist and behead them?\\n\",\"What is your favorite quote (books, movies, people\",\"What mixes well with peach vodka?\\n\",\"Which Patanjali products contain cow urine?\\n\",\"Why are three phases denoted by RYB?\\n\",\"Where could I learn JavaScript online?\\n\",\"Is it appropriate to wear a sports bra simply to t\",\"What are the differences between Jenkins CI and Dr\",\"T right do you think we should be entitled to?\\n\",\"What was the public's reaction to Crystal Pepsi?\\n\",\"How can I crack MH-CET 2017 engineering by self-st\",\"What is the way to become a dental hygienist in th\",\"Why do solving math/statistics problems causes my \",\"Does your name sound as awkward to others as it so\",\"What is the proper format of writing formal-inform\",\"How does doc2vec represent feature vector of a doc\",\"Why are software development task estimations regu\",\"How can I set up molecular pathology lab?\\n\",\"How do I score a rank in CA - IPCC?\\n\",\"What are some examples of strong organic acids?\\n\",\"What can be a good hindi (indian) name for a tea b\",\"Is the Google host matching process different for \",\"Is Cuba considered part of Latin America?\\n\",\"Does the following script (\\u0256\\u2200\\u0f61\\u0632\\u2202 \\u0250\\u0167 \\u01ab\\u04bf\\u03de\\u026e\\u2609 \\u027d\\u03c6\\u0289\\u029b\\u0195), \",\"How can I increase my website's DA?\\n\",\"Is it normal to imagine having sex with other guy \",\"What is the percent purity (approx) of consumable \",\"Do soulmates just come walking into your life when\",\"If I use marijuana with my boyfriend, is there a p\",\"Can you analyze everything in soil?\\n\",\"What difference it would make if India Nuked and K\",\"What are the advantages of a dominant party system\",\"What were some things India did not do but takes c\",\"How many total women have accused Bill Clinton of \",\"Why do I wish some fictional characters existed?\\n\",\"Where can I find best hotel at Ranikhet?\\n\",\"How do I make good memes?\\n\",\"What are some of the common sayings or proverbs in\",\"What kind of writing style makes someone a \\\"dark w\",\"Are Trump and Hillary really the best America has \",\"How can I make my career in embedded system and ro\",\"Will adding a USB to VGA adapter always give an ex\",\"We will never be able to see our own faces with ou\",\"What are the ways you can stop a friend from pitch\",\"What is the average time for preparation of IAS?\\n\",\"How can I learn new things quickly?\\n\",\"What is the definition of political courage?\\n\",\"What makes death scary?\\n\",\"I'm really pretty but I don't want to be I hate th\",\"Is Assam Down Town University good?\\n\",\"How do the brain structures of bonobos change as t\",\"What's the biggest scam?\\n\",\"Does the US government have an alien flying saucer\",\"I need to gain weight, but I don't have abs. It's \",\"Why should I study Calculus?\\n\",\"Do you think your childhood contributed to your fi\",\"How does the Goods and Services Tax (GST) works?\\n\",\"Where can I download Cisco 500-285 exam dumps?\\n\",\"How do I can make a second nation in Cybernations \",\"Did Neil Armstrong really land on the moon?\\n\",\"Why is Devil any other than God head of state?\\n\",\"How do I stop being possessive over my girlfriend?\",\"How does Kongregate compute the statistics of adve\",\"Who is the best nuero physician at NIMHANS, Bangal\",\"What are nonprofit organizations?\\n\",\"I want to know the process of starting outbound ca\",\"Which are some of the best hotels to stay in Helsi\",\"What is good about Deloitte Chicago?\\n\",\"How do I recover data from a formatted hard drive?\",\"Could India and Pakistan unite again?\\n\",\"How often should I massage my face with Argan oil?\",\"How is psychodynamic therapy different from psycho\",\"What are some of Barack Obama's character traits?\\n\",\"Would it make sense to replace the B-52's 8 1960s \",\"Is it possible to bring forward my flight date of \",\"How can I learn marathons?\\n\"],\"x\":{\"__ndarray__\":\"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\",\"dtype\":\"float32\",\"shape\":[1001]},\"y\":{\"__ndarray__\":\"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\",\"dtype\":\"float32\",\"shape\":[1001]}},\"selected\":{\"id\":\"1295\",\"type\":\"Selection\"},\"selection_policy\":{\"id\":\"1296\",\"type\":\"UnionRenderers\"}},\"id\":\"1229\",\"type\":\"ColumnDataSource\"},{\"attributes\":{},\"id\":\"1249\",\"type\":\"PanTool\"},{\"attributes\":{},\"id\":\"1295\",\"type\":\"Selection\"},{\"attributes\":{\"fill_alpha\":{\"value\":0.25},\"fill_color\":{\"field\":\"color\"},\"line_alpha\":{\"value\":0.25},\"line_color\":{\"field\":\"color\"},\"size\":{\"units\":\"screen\",\"value\":20},\"x\":{\"field\":\"x\"},\"y\":{\"field\":\"y\"}},\"id\":\"1265\",\"type\":\"Scatter\"},{\"attributes\":{\"fill_alpha\":{\"value\":0.1},\"fill_color\":{\"value\":\"#1f77b4\"},\"line_alpha\":{\"value\":0.1},\"line_color\":{\"value\":\"#1f77b4\"},\"size\":{\"units\":\"screen\",\"value\":20},\"x\":{\"field\":\"x\"},\"y\":{\"field\":\"y\"}},\"id\":\"1266\",\"type\":\"Scatter\"},{\"attributes\":{},\"id\":\"1245\",\"type\":\"BasicTicker\"},{\"attributes\":{\"callback\":null},\"id\":\"1233\",\"type\":\"DataRange1d\"},{\"attributes\":{\"dimension\":1,\"plot\":{\"id\":\"1230\",\"subtype\":\"Figure\",\"type\":\"Plot\"},\"ticker\":{\"id\":\"1245\",\"type\":\"BasicTicker\"}},\"id\":\"1248\",\"type\":\"Grid\"},{\"attributes\":{},\"id\":\"1254\",\"type\":\"HelpTool\"},{\"attributes\":{},\"id\":\"1240\",\"type\":\"BasicTicker\"},{\"attributes\":{\"plot\":null,\"text\":\"\"},\"id\":\"1290\",\"type\":\"Title\"},{\"attributes\":{\"formatter\":{\"id\":\"1293\",\"type\":\"BasicTickFormatter\"},\"plot\":{\"id\":\"1230\",\"subtype\":\"Figure\",\"type\":\"Plot\"},\"ticker\":{\"id\":\"1240\",\"type\":\"BasicTicker\"}},\"id\":\"1239\",\"type\":\"LinearAxis\"},{\"attributes\":{},\"id\":\"1252\",\"type\":\"SaveTool\"},{\"attributes\":{},\"id\":\"1250\",\"type\":\"WheelZoomTool\"},{\"attributes\":{},\"id\":\"1235\",\"type\":\"LinearScale\"},{\"attributes\":{\"source\":{\"id\":\"1229\",\"type\":\"ColumnDataSource\"}},\"id\":\"1268\",\"type\":\"CDSView\"},{\"attributes\":{},\"id\":\"1296\",\"type\":\"UnionRenderers\"},{\"attributes\":{\"bottom_units\":\"screen\",\"fill_alpha\":{\"value\":0.5},\"fill_color\":{\"value\":\"lightgrey\"},\"left_units\":\"screen\",\"level\":\"overlay\",\"line_alpha\":{\"value\":1.0},\"line_color\":{\"value\":\"black\"},\"line_dash\":[4,4],\"line_width\":{\"value\":2},\"plot\":null,\"render_mode\":\"css\",\"right_units\":\"screen\",\"top_units\":\"screen\"},\"id\":\"1257\",\"type\":\"BoxAnnotation\"},{\"attributes\":{},\"id\":\"1291\",\"type\":\"BasicTickFormatter\"},{\"attributes\":{},\"id\":\"1253\",\"type\":\"ResetTool\"},{\"attributes\":{},\"id\":\"1237\",\"type\":\"LinearScale\"},{\"attributes\":{\"data_source\":{\"id\":\"1229\",\"type\":\"ColumnDataSource\"},\"glyph\":{\"id\":\"1265\",\"type\":\"Scatter\"},\"hover_glyph\":null,\"muted_glyph\":null,\"nonselection_glyph\":{\"id\":\"1266\",\"type\":\"Scatter\"},\"selection_glyph\":null,\"view\":{\"id\":\"1268\",\"type\":\"CDSView\"}},\"id\":\"1267\",\"type\":\"GlyphRenderer\"}],\"root_ids\":[\"1230\"]},\"title\":\"Bokeh Application\",\"version\":\"1.0.2\"}};\n",
       "  var render_items = [{\"docid\":\"de79e257-beb3-43e2-b12a-c836c7307041\",\"roots\":{\"1230\":\"526cd013-93e6-446c-b879-9cd01d40905a\"}}];\n",
       "  root.Bokeh.embed.embed_items_notebook(docs_json, render_items);\n",
       "\n",
       "  }\n",
       "  if (root.Bokeh !== undefined) {\n",
       "    embed_document(root);\n",
       "  } else {\n",
       "    var attempts = 0;\n",
       "    var timer = setInterval(function(root) {\n",
       "      if (root.Bokeh !== undefined) {\n",
       "        embed_document(root);\n",
       "        clearInterval(timer);\n",
       "      }\n",
       "      attempts++;\n",
       "      if (attempts > 100) {\n",
       "        console.log(\"Bokeh: ERROR: Unable to run BokehJS code because BokehJS library is missing\");\n",
       "        clearInterval(timer);\n",
       "      }\n",
       "    }, 10, root)\n",
       "  }\n",
       "})(window);"
      ],
      "application/vnd.bokehjs_exec.v0+json": ""
     },
     "metadata": {
      "application/vnd.bokehjs_exec.v0+json": {
       "id": "1230"
      },
      "tags": []
     },
     "output_type": "display_data"
    },
    {
     "data": {
      "text/html": [
       "<div style=\"display: table;\"><div style=\"display: table-row;\"><div style=\"display: table-cell;\"><b title=\"bokeh.plotting.figure.Figure\">Figure</b>(</div><div style=\"display: table-cell;\">id&nbsp;=&nbsp;'1230', <span id=\"1353\" style=\"cursor: pointer;\">&hellip;)</span></div></div><div class=\"1352\" style=\"display: none;\"><div style=\"display: table-cell;\"></div><div style=\"display: table-cell;\">above&nbsp;=&nbsp;[],</div></div><div class=\"1352\" style=\"display: none;\"><div style=\"display: table-cell;\"></div><div style=\"display: table-cell;\">aspect_scale&nbsp;=&nbsp;1,</div></div><div class=\"1352\" style=\"display: none;\"><div style=\"display: table-cell;\"></div><div style=\"display: table-cell;\">background_fill_alpha&nbsp;=&nbsp;{'value': 1.0},</div></div><div class=\"1352\" style=\"display: none;\"><div style=\"display: table-cell;\"></div><div style=\"display: table-cell;\">background_fill_color&nbsp;=&nbsp;{'value': '#ffffff'},</div></div><div class=\"1352\" style=\"display: none;\"><div style=\"display: table-cell;\"></div><div style=\"display: table-cell;\">below&nbsp;=&nbsp;[LinearAxis(id='1239', ...)],</div></div><div class=\"1352\" style=\"display: none;\"><div style=\"display: table-cell;\"></div><div style=\"display: table-cell;\">border_fill_alpha&nbsp;=&nbsp;{'value': 1.0},</div></div><div class=\"1352\" style=\"display: none;\"><div style=\"display: table-cell;\"></div><div style=\"display: table-cell;\">border_fill_color&nbsp;=&nbsp;{'value': '#ffffff'},</div></div><div class=\"1352\" style=\"display: none;\"><div style=\"display: table-cell;\"></div><div style=\"display: table-cell;\">css_classes&nbsp;=&nbsp;[],</div></div><div class=\"1352\" style=\"display: none;\"><div style=\"display: table-cell;\"></div><div style=\"display: table-cell;\">disabled&nbsp;=&nbsp;False,</div></div><div class=\"1352\" style=\"display: none;\"><div style=\"display: table-cell;\"></div><div style=\"display: table-cell;\">extra_x_ranges&nbsp;=&nbsp;{},</div></div><div class=\"1352\" style=\"display: none;\"><div style=\"display: table-cell;\"></div><div style=\"display: table-cell;\">extra_y_ranges&nbsp;=&nbsp;{},</div></div><div class=\"1352\" style=\"display: none;\"><div style=\"display: table-cell;\"></div><div style=\"display: table-cell;\">h_symmetry&nbsp;=&nbsp;True,</div></div><div class=\"1352\" style=\"display: none;\"><div style=\"display: table-cell;\"></div><div style=\"display: table-cell;\">height&nbsp;=&nbsp;None,</div></div><div class=\"1352\" style=\"display: none;\"><div style=\"display: table-cell;\"></div><div style=\"display: table-cell;\">hidpi&nbsp;=&nbsp;True,</div></div><div class=\"1352\" style=\"display: none;\"><div style=\"display: table-cell;\"></div><div style=\"display: table-cell;\">js_event_callbacks&nbsp;=&nbsp;{},</div></div><div class=\"1352\" style=\"display: none;\"><div style=\"display: table-cell;\"></div><div style=\"display: table-cell;\">js_property_callbacks&nbsp;=&nbsp;{},</div></div><div class=\"1352\" style=\"display: none;\"><div style=\"display: table-cell;\"></div><div style=\"display: table-cell;\">left&nbsp;=&nbsp;[LinearAxis(id='1244', ...)],</div></div><div class=\"1352\" style=\"display: none;\"><div style=\"display: table-cell;\"></div><div style=\"display: table-cell;\">lod_factor&nbsp;=&nbsp;10,</div></div><div class=\"1352\" style=\"display: none;\"><div style=\"display: table-cell;\"></div><div style=\"display: table-cell;\">lod_interval&nbsp;=&nbsp;300,</div></div><div class=\"1352\" style=\"display: none;\"><div style=\"display: table-cell;\"></div><div style=\"display: table-cell;\">lod_threshold&nbsp;=&nbsp;2000,</div></div><div class=\"1352\" style=\"display: none;\"><div style=\"display: table-cell;\"></div><div style=\"display: table-cell;\">lod_timeout&nbsp;=&nbsp;500,</div></div><div class=\"1352\" style=\"display: none;\"><div style=\"display: table-cell;\"></div><div style=\"display: table-cell;\">match_aspect&nbsp;=&nbsp;False,</div></div><div class=\"1352\" style=\"display: none;\"><div style=\"display: table-cell;\"></div><div style=\"display: table-cell;\">min_border&nbsp;=&nbsp;5,</div></div><div class=\"1352\" style=\"display: none;\"><div style=\"display: table-cell;\"></div><div style=\"display: table-cell;\">min_border_bottom&nbsp;=&nbsp;None,</div></div><div class=\"1352\" style=\"display: none;\"><div style=\"display: table-cell;\"></div><div style=\"display: table-cell;\">min_border_left&nbsp;=&nbsp;None,</div></div><div class=\"1352\" style=\"display: none;\"><div style=\"display: table-cell;\"></div><div style=\"display: table-cell;\">min_border_right&nbsp;=&nbsp;None,</div></div><div class=\"1352\" style=\"display: none;\"><div style=\"display: table-cell;\"></div><div style=\"display: table-cell;\">min_border_top&nbsp;=&nbsp;None,</div></div><div class=\"1352\" style=\"display: none;\"><div style=\"display: table-cell;\"></div><div style=\"display: table-cell;\">name&nbsp;=&nbsp;None,</div></div><div class=\"1352\" style=\"display: none;\"><div style=\"display: table-cell;\"></div><div style=\"display: table-cell;\">outline_line_alpha&nbsp;=&nbsp;{'value': 1.0},</div></div><div class=\"1352\" style=\"display: none;\"><div style=\"display: table-cell;\"></div><div style=\"display: table-cell;\">outline_line_cap&nbsp;=&nbsp;'butt',</div></div><div class=\"1352\" style=\"display: none;\"><div style=\"display: table-cell;\"></div><div style=\"display: table-cell;\">outline_line_color&nbsp;=&nbsp;{'value': '#e5e5e5'},</div></div><div class=\"1352\" style=\"display: none;\"><div style=\"display: table-cell;\"></div><div style=\"display: table-cell;\">outline_line_dash&nbsp;=&nbsp;[],</div></div><div class=\"1352\" style=\"display: none;\"><div style=\"display: table-cell;\"></div><div style=\"display: table-cell;\">outline_line_dash_offset&nbsp;=&nbsp;0,</div></div><div class=\"1352\" style=\"display: none;\"><div style=\"display: table-cell;\"></div><div style=\"display: table-cell;\">outline_line_join&nbsp;=&nbsp;'bevel',</div></div><div class=\"1352\" style=\"display: none;\"><div style=\"display: table-cell;\"></div><div style=\"display: table-cell;\">outline_line_width&nbsp;=&nbsp;{'value': 1},</div></div><div class=\"1352\" style=\"display: none;\"><div style=\"display: table-cell;\"></div><div style=\"display: table-cell;\">output_backend&nbsp;=&nbsp;'canvas',</div></div><div class=\"1352\" style=\"display: none;\"><div style=\"display: table-cell;\"></div><div style=\"display: table-cell;\">plot_height&nbsp;=&nbsp;400,</div></div><div class=\"1352\" style=\"display: none;\"><div style=\"display: table-cell;\"></div><div style=\"display: table-cell;\">plot_width&nbsp;=&nbsp;600,</div></div><div class=\"1352\" style=\"display: none;\"><div style=\"display: table-cell;\"></div><div style=\"display: table-cell;\">renderers&nbsp;=&nbsp;[LinearAxis(id='1239', ...), Grid(id='1243', ...), LinearAxis(id='1244', ...), Grid(id='1248', ...), BoxAnnotation(id='1257', ...), GlyphRenderer(id='1267', ...)],</div></div><div class=\"1352\" style=\"display: none;\"><div style=\"display: table-cell;\"></div><div style=\"display: table-cell;\">right&nbsp;=&nbsp;[],</div></div><div class=\"1352\" style=\"display: none;\"><div style=\"display: table-cell;\"></div><div style=\"display: table-cell;\">sizing_mode&nbsp;=&nbsp;'fixed',</div></div><div class=\"1352\" style=\"display: none;\"><div style=\"display: table-cell;\"></div><div style=\"display: table-cell;\">subscribed_events&nbsp;=&nbsp;[],</div></div><div class=\"1352\" style=\"display: none;\"><div style=\"display: table-cell;\"></div><div style=\"display: table-cell;\">tags&nbsp;=&nbsp;[],</div></div><div class=\"1352\" style=\"display: none;\"><div style=\"display: table-cell;\"></div><div style=\"display: table-cell;\">title&nbsp;=&nbsp;Title(id='1290', ...),</div></div><div class=\"1352\" style=\"display: none;\"><div style=\"display: table-cell;\"></div><div style=\"display: table-cell;\">title_location&nbsp;=&nbsp;'above',</div></div><div class=\"1352\" style=\"display: none;\"><div style=\"display: table-cell;\"></div><div style=\"display: table-cell;\">toolbar&nbsp;=&nbsp;Toolbar(id='1255', ...),</div></div><div class=\"1352\" style=\"display: none;\"><div style=\"display: table-cell;\"></div><div style=\"display: table-cell;\">toolbar_location&nbsp;=&nbsp;'right',</div></div><div class=\"1352\" style=\"display: none;\"><div style=\"display: table-cell;\"></div><div style=\"display: table-cell;\">toolbar_sticky&nbsp;=&nbsp;True,</div></div><div class=\"1352\" style=\"display: none;\"><div style=\"display: table-cell;\"></div><div style=\"display: table-cell;\">v_symmetry&nbsp;=&nbsp;False,</div></div><div class=\"1352\" style=\"display: none;\"><div style=\"display: table-cell;\"></div><div style=\"display: table-cell;\">width&nbsp;=&nbsp;None,</div></div><div class=\"1352\" style=\"display: none;\"><div style=\"display: table-cell;\"></div><div style=\"display: table-cell;\">x_range&nbsp;=&nbsp;DataRange1d(id='1231', ...),</div></div><div class=\"1352\" style=\"display: none;\"><div style=\"display: table-cell;\"></div><div style=\"display: table-cell;\">x_scale&nbsp;=&nbsp;LinearScale(id='1235', ...),</div></div><div class=\"1352\" style=\"display: none;\"><div style=\"display: table-cell;\"></div><div style=\"display: table-cell;\">y_range&nbsp;=&nbsp;DataRange1d(id='1233', ...),</div></div><div class=\"1352\" style=\"display: none;\"><div style=\"display: table-cell;\"></div><div style=\"display: table-cell;\">y_scale&nbsp;=&nbsp;LinearScale(id='1237', ...))</div></div></div>\n",
       "<script>\n",
       "(function() {\n",
       "  var expanded = false;\n",
       "  var ellipsis = document.getElementById(\"1353\");\n",
       "  ellipsis.addEventListener(\"click\", function() {\n",
       "    var rows = document.getElementsByClassName(\"1352\");\n",
       "    for (var i = 0; i < rows.length; i++) {\n",
       "      var el = rows[i];\n",
       "      el.style.display = expanded ? \"none\" : \"table-row\";\n",
       "    }\n",
       "    ellipsis.innerHTML = expanded ? \"&hellip;)\" : \"&lsaquo;&lsaquo;&lsaquo;\";\n",
       "    expanded = !expanded;\n",
       "  });\n",
       "})();\n",
       "</script>\n"
      ],
      "text/plain": [
       "Figure(id='1230', ...)"
      ]
     },
     "execution_count": 99,
     "metadata": {
      "tags": []
     },
     "output_type": "execute_result"
    }
   ],
   "source": [
    "draw_vectors(phrase_vectors_2d[:, 0], phrase_vectors_2d[:, 1],\n",
    "             phrase=[phrase[:50] for phrase in chosen_phrases],\n",
    "             radius=20,)"
   ]
  },
  {
   "cell_type": "markdown",
   "metadata": {
    "colab_type": "text",
    "id": "-RKr4L_dHSQ9"
   },
   "source": [
    "Finally, let's build a simple \"similar question\" engine with phrase embeddings we've built."
   ]
  },
  {
   "cell_type": "code",
   "execution_count": 100,
   "metadata": {
    "colab": {
     "base_uri": "https://localhost:8080/",
     "height": 34
    },
    "colab_type": "code",
    "id": "pqit9p9FHSQ_",
    "outputId": "406defe4-209f-4176-a690-d7dae2f7947d"
   },
   "outputs": [
    {
     "name": "stderr",
     "output_type": "stream",
     "text": [
      "/usr/local/lib/python3.6/dist-packages/ipykernel_launcher.py:20: RuntimeWarning: invalid value encountered in true_divide\n"
     ]
    }
   ],
   "source": [
    "# compute vector embedding for all lines in data\n",
    "data_vectors = np.array([get_phrase_embedding(l) for l in data])"
   ]
  },
  {
   "cell_type": "code",
   "execution_count": 0,
   "metadata": {
    "colab": {},
    "colab_type": "code",
    "id": "Cswzsy_KHSRG"
   },
   "outputs": [],
   "source": [
    "def find_nearest(query, k=10):\n",
    "    \"\"\"\n",
    "    given text line (query), return k most similar lines from data, sorted from most to least similar\n",
    "    similarity should be measured as cosine between query and line embedding vectors\n",
    "    hint: it's okay to use global variables: data and data_vectors. see also: np.argpartition, np.argsort\n",
    "    \"\"\"\n",
    "    query_vector = get_phrase_embedding(query)\n",
    "    \n",
    "    distance = np.zeros([len(data_vectors)])\n",
    "    for i in range(len(data_vectors)):\n",
    "        distance[i] = np.dot(query_vector, data_vectors[i]) / (np.linalg.norm(query_vector) * np.linalg.norm(data_vectors[i]))\n",
    "      \n",
    "    most_k_similar_index = np.argsort(-distance)\n",
    "    \n",
    "    most_k_similar = []\n",
    "    for i, j in enumerate(list(most_k_similar_index[0: k])):\n",
    "        most_k_similar.append(data[j])\n",
    "    \n",
    "    \n",
    "    return most_k_similar"
   ]
  },
  {
   "cell_type": "code",
   "execution_count": 195,
   "metadata": {
    "colab": {
     "base_uri": "https://localhost:8080/",
     "height": 204
    },
    "colab_type": "code",
    "id": "gfHtA5GCHSRL",
    "outputId": "14073a6e-d2e0-41a0-c410-5718295b3067"
   },
   "outputs": [
    {
     "name": "stdout",
     "output_type": "stream",
     "text": [
      "How do I get to the dark web?\n",
      "What should I do to enter hollywood?\n",
      "How do I use the Greenify app?\n",
      "What can I do to save the world?\n",
      "How do I win this?\n",
      "How do I think out of the box? How do I learn to think out of the box?\n",
      "How do I find the 5th dimension?\n",
      "How do I use the pad in MMA?\n",
      "How do I estimate the competition?\n",
      "What do I do to enter the line of event management?\n",
      "\n"
     ]
    }
   ],
   "source": [
    "results = find_nearest(query=\"How do i enter the matrix?\", k=10)\n",
    "\n",
    "print(''.join(results))\n",
    "\n",
    "assert len(results) == 10 and isinstance(results[0], str)\n",
    "assert results[0] == 'How do I get to the dark web?\\n'\n",
    "assert results[3] == 'What can I do to save the world?\\n'"
   ]
  },
  {
   "cell_type": "code",
   "execution_count": 192,
   "metadata": {
    "colab": {
     "base_uri": "https://localhost:8080/",
     "height": 187
    },
    "colab_type": "code",
    "id": "Ek4z6woMHSRR",
    "outputId": "4ba24305-e825-4101-8845-9d7c7a4be5a2"
   },
   "outputs": [
    {
     "data": {
      "text/plain": [
       "['What does Donald Trump think about Israel?\\n',\n",
       " 'What books does Donald Trump like?\\n',\n",
       " 'What does India think of Donald Trump?\\n',\n",
       " 'What does Donald Trump think of India?\\n',\n",
       " 'What does Donald Trump think of China?\\n',\n",
       " 'What does Donald Trump think about Pakistan?\\n',\n",
       " 'What companies does Donald Trump own?\\n',\n",
       " 'What does Dushka Zapata think about Donald Trump?\\n',\n",
       " 'How does it feel to date Ivanka Trump?\\n',\n",
       " 'What does salesforce mean?\\n']"
      ]
     },
     "execution_count": 192,
     "metadata": {
      "tags": []
     },
     "output_type": "execute_result"
    }
   ],
   "source": [
    "find_nearest(query=\"How does Trump?\", k=10)"
   ]
  },
  {
   "cell_type": "code",
   "execution_count": 193,
   "metadata": {
    "colab": {
     "base_uri": "https://localhost:8080/",
     "height": 187
    },
    "colab_type": "code",
    "id": "qpJvn1NpHSRW",
    "outputId": "68181ec8-36bc-4846-e09a-62af34edda18"
   },
   "outputs": [
    {
     "data": {
      "text/plain": [
       "[\"Why don't I get a date?\\n\",\n",
       " \"Why do you always answer a question with a question? I don't, or do I?\\n\",\n",
       " \"Why can't I ask a question anonymously?\\n\",\n",
       " \"Why don't I get a girlfriend?\\n\",\n",
       " \"Why don't I have a boyfriend?\\n\",\n",
       " \"I don't have no question?\\n\",\n",
       " \"Why can't I take a joke?\\n\",\n",
       " \"Why don't I ever get a girl?\\n\",\n",
       " \"Can I ask a girl out that I don't know?\\n\",\n",
       " \"Why don't I have a girlfriend?\\n\"]"
      ]
     },
     "execution_count": 193,
     "metadata": {
      "tags": []
     },
     "output_type": "execute_result"
    }
   ],
   "source": [
    "find_nearest(query=\"Why don't i ask a question myself?\", k=10)"
   ]
  },
  {
   "cell_type": "markdown",
   "metadata": {
    "colab_type": "text",
    "collapsed": true,
    "id": "0E-7G_GLHSRb"
   },
   "source": [
    "__Now what?__\n",
    "* Try running TSNE on all data, not just 1000 phrases\n",
    "* See what other embeddings are there in the model zoo: `gensim.downloader.info()`\n",
    "* Take a look at [FastText](https://github.com/facebookresearch/fastText) embeddings\n",
    "* Optimize find_nearest with locality-sensitive hashing: use [nearpy](https://github.com/pixelogik/NearPy) or `sklearn.neighbors`."
   ]
  }
 ],
 "metadata": {
  "colab": {
   "name": "seminar.ipynb",
   "provenance": [],
   "version": "0.3.2"
  },
  "kernelspec": {
   "display_name": "Python 3",
   "language": "python",
   "name": "python3"
  },
  "language_info": {
   "codemirror_mode": {
    "name": "ipython",
    "version": 3
   },
   "file_extension": ".py",
   "mimetype": "text/x-python",
   "name": "python",
   "nbconvert_exporter": "python",
   "pygments_lexer": "ipython3",
   "version": "3.7.0"
  }
 },
 "nbformat": 4,
 "nbformat_minor": 1
}
